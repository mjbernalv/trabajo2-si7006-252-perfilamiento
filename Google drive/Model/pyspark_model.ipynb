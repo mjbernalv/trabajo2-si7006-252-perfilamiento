{
 "cells": [
  {
   "cell_type": "markdown",
   "id": "6bdf556c",
   "metadata": {},
   "source": [
    "# <center> Modelo de ML </center>"
   ]
  },
  {
   "cell_type": "markdown",
   "id": "7c98afba",
   "metadata": {},
   "source": [
    "## Importar las librerías"
   ]
  },
  {
   "cell_type": "code",
   "execution_count": null,
   "id": "17d79457",
   "metadata": {},
   "outputs": [
    {
     "data": {
      "application/vnd.jupyter.widget-view+json": {
       "model_id": "",
       "version_major": 2,
       "version_minor": 0
      },
      "text/plain": [
       "FloatProgress(value=0.0, bar_style='info', description='Progress:', layout=Layout(height='25px', width='50%'),…"
      ]
     },
     "metadata": {},
     "output_type": "display_data"
    }
   ],
   "source": [
    "from google.colab import drive\n",
    "from pyspark.ml import Pipeline\n",
    "from pyspark.ml.classification import RandomForestClassifier\n",
    "from pyspark.ml.evaluation import MulticlassClassificationEvaluator\n",
    "from pyspark.ml.feature import VectorAssembler, StringIndexer, IndexToString"
   ]
  },
  {
   "cell_type": "markdown",
   "id": "18675394",
   "metadata": {},
   "source": [
    "## Cargar los Datos"
   ]
  },
  {
   "cell_type": "code",
   "execution_count": null,
   "id": "00c602bc",
   "metadata": {},
   "outputs": [
    {
     "data": {
      "application/vnd.jupyter.widget-view+json": {
       "model_id": "",
       "version_major": 2,
       "version_minor": 0
      },
      "text/plain": [
       "FloatProgress(value=0.0, bar_style='info', description='Progress:', layout=Layout(height='25px', width='50%'),…"
      ]
     },
     "metadata": {},
     "output_type": "display_data"
    },
    {
     "name": "stdout",
     "output_type": "stream",
     "text": [
      "root\n",
      " |-- codcliente: long (nullable = true)\n",
      " |-- codpoliza: long (nullable = true)\n",
      " |-- ramo: string (nullable = true)\n",
      " |-- y: string (nullable = true)\n",
      " |-- salud: long (nullable = true)\n",
      " |-- vida: long (nullable = true)\n",
      " |-- autos: long (nullable = true)\n",
      " |-- cumplimiento: long (nullable = true)\n",
      " |-- patrimoniales: long (nullable = true)\n",
      " |-- otros: long (nullable = true)"
     ]
    }
   ],
   "source": [
    "drive.mount('/content/drive')"
   ]
  },
  {
   "cell_type": "code",
   "execution_count": null,
   "id": "8140545d",
   "metadata": {},
   "outputs": [
    {
     "data": {
      "application/vnd.jupyter.widget-view+json": {
       "model_id": "",
       "version_major": 2,
       "version_minor": 0
      },
      "text/plain": [
       "FloatProgress(value=0.0, bar_style='info', description='Progress:', layout=Layout(height='25px', width='50%'),…"
      ]
     },
     "metadata": {},
     "output_type": "display_data"
    }
   ],
   "source": [
    "spark = SparkSession.builder \\\n",
    "    .appName(\"model-spark\") \\\n",
    "    .getOrCreate()\n",
    "\n",
    "print(\"Spark iniciado:\", spark)"
   ]
  },
  {
   "cell_type": "code",
   "execution_count": null,
   "id": "10371400",
   "metadata": {
    "vscode": {
     "languageId": "plaintext"
    }
   },
   "outputs": [],
   "source": [
    "path_refined = \"/content/drive/MyDrive/Dataset PI/refined/refined_data.csv\"\n",
    "df = spark.read.option(\"header\", \"true\").option(\"inferSchema\", \"true\").csv(path_refined)"
   ]
  },
  {
   "cell_type": "code",
   "execution_count": 10,
   "id": "dbf8faae",
   "metadata": {},
   "outputs": [
    {
     "data": {
      "application/vnd.jupyter.widget-view+json": {
       "model_id": "",
       "version_major": 2,
       "version_minor": 0
      },
      "text/plain": [
       "FloatProgress(value=0.0, bar_style='info', description='Progress:', layout=Layout(height='25px', width='50%'),…"
      ]
     },
     "metadata": {},
     "output_type": "display_data"
    },
    {
     "name": "stdout",
     "output_type": "stream",
     "text": [
      "+----------+---------+-------------+-------------+-----+----+-----+------------+-------------+-----+\n",
      "|codcliente|codpoliza|         ramo|            y|salud|vida|autos|cumplimiento|patrimoniales|otros|\n",
      "+----------+---------+-------------+-------------+-----+----+-----+------------+-------------+-----+\n",
      "|     10004|    14919|        Autos|        Salud|    0|   0|    1|           0|            0|    0|\n",
      "|     10031|   211649|        Autos|Patrimoniales|    0|   0|    1|           0|            0|    0|\n",
      "|     10038|    15246|        Salud|        Autos|    1|   0|    0|           0|            0|    0|\n",
      "|    100391|    63849|Patrimoniales|        Autos|    0|   0|    0|           0|            1|    0|\n",
      "|    100442|    64753| Cumplimiento|        Autos|    0|   0|    0|           1|            0|    0|\n",
      "+----------+---------+-------------+-------------+-----+----+-----+------------+-------------+-----+\n",
      "only showing top 5 rows"
     ]
    }
   ],
   "source": [
    "df.show(5)"
   ]
  },
  {
   "cell_type": "markdown",
   "id": "3cc25b74",
   "metadata": {},
   "source": [
    "## División de los datos"
   ]
  },
  {
   "cell_type": "code",
   "execution_count": 20,
   "id": "5423b3e6",
   "metadata": {},
   "outputs": [
    {
     "data": {
      "application/vnd.jupyter.widget-view+json": {
       "model_id": "",
       "version_major": 2,
       "version_minor": 0
      },
      "text/plain": [
       "FloatProgress(value=0.0, bar_style='info', description='Progress:', layout=Layout(height='25px', width='50%'),…"
      ]
     },
     "metadata": {},
     "output_type": "display_data"
    }
   ],
   "source": [
    "train_df, test_df = df.randomSplit([0.8, 0.2], seed=42)"
   ]
  },
  {
   "cell_type": "code",
   "execution_count": 22,
   "id": "42613a52",
   "metadata": {},
   "outputs": [
    {
     "data": {
      "application/vnd.jupyter.widget-view+json": {
       "model_id": "",
       "version_major": 2,
       "version_minor": 0
      },
      "text/plain": [
       "FloatProgress(value=0.0, bar_style='info', description='Progress:', layout=Layout(height='25px', width='50%'),…"
      ]
     },
     "metadata": {},
     "output_type": "display_data"
    },
    {
     "name": "stdout",
     "output_type": "stream",
     "text": [
      "Train df size: 7506\n",
      "Test df size: 1847"
     ]
    }
   ],
   "source": [
    "print(\"Train df size:\", train_df.count())\n",
    "print(\"Test df size:\", test_df.count())"
   ]
  },
  {
   "cell_type": "markdown",
   "id": "8109e95d",
   "metadata": {},
   "source": [
    "## Entrenamiento del modelo"
   ]
  },
  {
   "cell_type": "code",
   "execution_count": 24,
   "id": "51461e71",
   "metadata": {},
   "outputs": [
    {
     "data": {
      "application/vnd.jupyter.widget-view+json": {
       "model_id": "",
       "version_major": 2,
       "version_minor": 0
      },
      "text/plain": [
       "FloatProgress(value=0.0, bar_style='info', description='Progress:', layout=Layout(height='25px', width='50%'),…"
      ]
     },
     "metadata": {},
     "output_type": "display_data"
    }
   ],
   "source": [
    "feature_cols = ['salud', 'vida', 'autos', 'cumplimiento', 'patrimoniales', 'otros']\n",
    "\n",
    "assembler = VectorAssembler(inputCols=feature_cols, outputCol=\"features\")\n",
    "indexer = StringIndexer(inputCol=\"y\", outputCol=\"label\")\n",
    "\n",
    "rf = RandomForestClassifier(labelCol=\"label\", featuresCol=\"features\", numTrees=50, maxDepth=5, seed=42)\n",
    "\n",
    "pipeline = Pipeline(stages=[indexer, assembler, rf])\n",
    "\n",
    "rf_model = pipeline.fit(train_df)"
   ]
  },
  {
   "cell_type": "markdown",
   "id": "170dd268",
   "metadata": {},
   "source": [
    "## Evaluación del modelo"
   ]
  },
  {
   "cell_type": "code",
   "execution_count": null,
   "id": "c3d61aa8",
   "metadata": {},
   "outputs": [],
   "source": [
    "predictions = rf_model.transform(test_df)"
   ]
  },
  {
   "cell_type": "code",
   "execution_count": 32,
   "id": "ccdb0e47",
   "metadata": {},
   "outputs": [
    {
     "data": {
      "application/vnd.jupyter.widget-view+json": {
       "model_id": "",
       "version_major": 2,
       "version_minor": 0
      },
      "text/plain": [
       "FloatProgress(value=0.0, bar_style='info', description='Progress:', layout=Layout(height='25px', width='50%'),…"
      ]
     },
     "metadata": {},
     "output_type": "display_data"
    }
   ],
   "source": [
    "label_indexer_model = rf_model.stages[0]\n",
    "labels = label_indexer_model.labels\n",
    "\n",
    "to_pred = IndexToString(inputCol=\"prediction\", outputCol=\"prediction_label\", labels=labels)\n",
    "to_true = IndexToString(inputCol=\"label\", outputCol=\"y_label\", labels=labels)\n",
    "\n",
    "pred_named = to_pred.transform(to_true.transform(predictions))"
   ]
  },
  {
   "cell_type": "code",
   "execution_count": 33,
   "id": "51ed74d9",
   "metadata": {},
   "outputs": [
    {
     "data": {
      "application/vnd.jupyter.widget-view+json": {
       "model_id": "",
       "version_major": 2,
       "version_minor": 0
      },
      "text/plain": [
       "FloatProgress(value=0.0, bar_style='info', description='Progress:', layout=Layout(height='25px', width='50%'),…"
      ]
     },
     "metadata": {},
     "output_type": "display_data"
    },
    {
     "name": "stdout",
     "output_type": "stream",
     "text": [
      "+-------------+-----+-------------+----+-----+------------+-----+\n",
      "|y_label      |Salud|Patrimoniales|Vida|Autos|Cumplimiento|Otros|\n",
      "+-------------+-----+-------------+----+-----+------------+-----+\n",
      "|Autos        |133  |6            |138 |48   |0           |0    |\n",
      "|Cumplimiento |22   |1            |71  |1    |0           |0    |\n",
      "|Otros        |1    |10           |3   |1    |0           |0    |\n",
      "|Patrimoniales|148  |205          |66  |22   |0           |0    |\n",
      "|Salud        |474  |12           |51  |2    |0           |0    |\n",
      "|Vida         |143  |13           |269 |6    |1           |0    |\n",
      "+-------------+-----+-------------+----+-----+------------+-----+"
     ]
    }
   ],
   "source": [
    "cm = (\n",
    "    pred_named\n",
    "    .groupBy(\"y_label\")\n",
    "    .pivot(\"prediction_label\", labels)\n",
    "    .count()\n",
    "    .na.fill(0)\n",
    "    .orderBy(\"y_label\")\n",
    ")\n",
    "cm.show(truncate=False)"
   ]
  },
  {
   "cell_type": "code",
   "execution_count": 34,
   "id": "699d5f54",
   "metadata": {},
   "outputs": [
    {
     "data": {
      "application/vnd.jupyter.widget-view+json": {
       "model_id": "",
       "version_major": 2,
       "version_minor": 0
      },
      "text/plain": [
       "FloatProgress(value=0.0, bar_style='info', description='Progress:', layout=Layout(height='25px', width='50%'),…"
      ]
     },
     "metadata": {},
     "output_type": "display_data"
    },
    {
     "name": "stdout",
     "output_type": "stream",
     "text": [
      "Accuracy: 0.5393 | F1 (weighted): 0.4957 | Precision (weighted): 0.5591 | Recall (weighted): 0.5393"
     ]
    }
   ],
   "source": [
    "evaluator = MulticlassClassificationEvaluator(labelCol=\"label\", predictionCol=\"prediction\")\n",
    "accuracy  = evaluator.setMetricName(\"accuracy\").evaluate(predictions)\n",
    "f1        = evaluator.setMetricName(\"f1\").evaluate(predictions)\n",
    "wprec     = evaluator.setMetricName(\"weightedPrecision\").evaluate(predictions)\n",
    "wrec      = evaluator.setMetricName(\"weightedRecall\").evaluate(predictions)\n",
    "print(f\"Accuracy: {accuracy:.4f} | F1 (weighted): {f1:.4f} | \"\n",
    "      f\"Precision (weighted): {wprec:.4f} | Recall (weighted): {wrec:.4f}\")"
   ]
  }
 ],
 "metadata": {
  "kernelspec": {
   "display_name": "PySpark",
   "language": "python",
   "name": "pysparkkernel"
  },
  "language_info": {
   "codemirror_mode": {
    "name": "python",
    "version": 3
   },
   "file_extension": ".py",
   "mimetype": "text/x-python",
   "name": "pyspark",
   "pygments_lexer": "python3"
  }
 },
 "nbformat": 4,
 "nbformat_minor": 5
}
