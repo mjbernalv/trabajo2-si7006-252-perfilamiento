{
  "cells": [
    {
      "cell_type": "markdown",
      "metadata": {
        "colab_type": "text",
        "id": "view-in-github"
      },
      "source": [
        "<a href=\"https://colab.research.google.com/github/mjbernalv/trabajo2-si7006-252-perfilamiento/blob/main/pyspark.ipynb\" target=\"_parent\"><img src=\"https://colab.research.google.com/assets/colab-badge.svg\" alt=\"Open In Colab\"/></a>"
      ]
    },
    {
      "cell_type": "markdown",
      "metadata": {},
      "source": [
        "# <center> Procesamiento de datos a trusted </center>"
      ]
    },
    {
      "cell_type": "code",
      "execution_count": null,
      "metadata": {},
      "outputs": [],
      "source": [
        "!apt-get update\n",
        "!apt-get install openjdk-11-jdk -y"
      ]
    },
    {
      "cell_type": "markdown",
      "metadata": {},
      "source": [
        "## Librerías"
      ]
    },
    {
      "cell_type": "code",
      "execution_count": null,
      "metadata": {},
      "outputs": [],
      "source": [
        "import re\n",
        "import glob\n",
        "import shutil\n",
        "from google.colab import drive\n",
        "from pyspark.sql import SparkSession\n",
        "from pyspark.sql.functions import col\n",
        "from pyspark.sql import functions as F, Window\n",
        "from pyspark.sql.types import IntegerType, DoubleType"
      ]
    },
    {
      "cell_type": "markdown",
      "metadata": {},
      "source": [
        "## Funciones"
      ]
    },
    {
      "cell_type": "code",
      "execution_count": null,
      "metadata": {
        "id": "Av-x8nEpkx7k"
      },
      "outputs": [],
      "source": [
        "def limpiar_nombre(nombre):\n",
        "    if nombre is None:\n",
        "        return \"Desconocido\"\n",
        "    # Reemplazar cualquier carácter que no sea letra o número por \"_\"\n",
        "    return re.sub(r'[^A-Za-z0-9_]', '_', nombre.strip())"
      ]
    },
    {
      "cell_type": "markdown",
      "metadata": {},
      "source": [
        "## Lectura de datos"
      ]
    },
    {
      "cell_type": "code",
      "execution_count": 24,
      "metadata": {
        "colab": {
          "base_uri": "https://localhost:8080/"
        },
        "id": "VecFZmhTVych",
        "outputId": "d44297a9-c977-4b76-c8a1-aa1dd870d189"
      },
      "outputs": [
        {
          "name": "stdout",
          "output_type": "stream",
          "text": [
            "Drive already mounted at /content/drive; to attempt to forcibly remount, call drive.mount(\"/content/drive\", force_remount=True).\n"
          ]
        }
      ],
      "source": [
        "drive.mount('/content/drive')"
      ]
    },
    {
      "cell_type": "code",
      "execution_count": null,
      "metadata": {
        "colab": {
          "base_uri": "https://localhost:8080/"
        },
        "id": "tLBLUkcsXmJz",
        "outputId": "30c7997e-a5f8-4ac9-bd33-3a4f0a4d08db"
      },
      "outputs": [
        {
          "name": "stdout",
          "output_type": "stream",
          "text": [
            "Spark iniciado: <pyspark.sql.session.SparkSession object at 0x7e982c5bfbc0>\n"
          ]
        }
      ],
      "source": [
        "spark = SparkSession.builder \\\n",
        "    .appName(\"raw-to-trusted-spark\") \\\n",
        "    .getOrCreate()\n",
        "\n",
        "print(\"Spark iniciado:\", spark)"
      ]
    },
    {
      "cell_type": "code",
      "execution_count": null,
      "metadata": {
        "colab": {
          "base_uri": "https://localhost:8080/"
        },
        "id": "zZMGv3x_XcvZ",
        "outputId": "78652607-4d96-4d20-92a9-e4affea41405"
      },
      "outputs": [
        {
          "name": "stdout",
          "output_type": "stream",
          "text": [
            "Poliza: 226254 filas, 28 columnas\n",
            "Producto: 562 filas, 11 columnas\n",
            "Clientes: 253062 filas, 8 columnas\n"
          ]
        }
      ],
      "source": [
        "ruta_base = \"/content/drive/MyDrive/Dataset PI/\"\n",
        "\n",
        "detalle_poliza = ruta_base + \"Raw/detalle_poliza.csv\"\n",
        "detalle_producto = ruta_base + \"Raw/detalle_producto.csv\"\n",
        "detalle_cliente = ruta_base + \"Raw/detalle_cliente.csv\"\n",
        "\n",
        "# Leer con inferencia de esquema y header\n",
        "df_poliza = spark.read.option(\"header\", \"true\").option(\"inferSchema\", \"true\").csv(detalle_poliza)\n",
        "df_producto = spark.read.option(\"header\", \"true\").option(\"inferSchema\", \"true\").csv(detalle_producto)\n",
        "df_clientes = spark.read.option(\"header\", \"true\").option(\"inferSchema\", \"true\").csv(detalle_cliente)\n",
        "\n",
        "# Mostrar confirmación\n",
        "print(\"Poliza:\", df_poliza.count(), \"filas,\", len(df_poliza.columns), \"columnas\")\n",
        "print(\"Producto:\", df_producto.count(), \"filas,\", len(df_producto.columns), \"columnas\")\n",
        "print(\"Clientes:\", df_clientes.count(), \"filas,\", len(df_clientes.columns), \"columnas\")"
      ]
    },
    {
      "cell_type": "markdown",
      "metadata": {},
      "source": [
        "## Transformaciones"
      ]
    },
    {
      "cell_type": "markdown",
      "metadata": {},
      "source": [
        "### Unión tablas"
      ]
    },
    {
      "cell_type": "code",
      "execution_count": null,
      "metadata": {
        "colab": {
          "base_uri": "https://localhost:8080/"
        },
        "id": "Gn1x-2sicpmE",
        "outputId": "79013b65-65b1-426a-f5c1-7c8dfdb1c546"
      },
      "outputs": [
        {
          "name": "stdout",
          "output_type": "stream",
          "text": [
            "Filas finales: 226254\n",
            "Columnas finales: 45\n",
            "+-----------+----------+---------+-------------------+-----------+----------+-------------------+----------+-----------------+------+----------+-------------+---------------------+-------------------+----------------+-----------+------------------+----------+-----------+---------------+--------+----------+------------------------+--------------------+----------------+----------------------------+------------------+------------------+--------------------------+----------------+-------------------+----+------------------------------+------------+------------+------------------+-------+----------+-------------+-------------+--------------------------------+-------------------+----------+----------+------------------+\n",
            "|codProducto|codCliente|codPoliza|estadoProcesamiento|fechaInicio|fechaFin  |origenProcesamiento|estadoDato|formaPagoVigencia|IVA   |valorTotal|IVA_Periodico|Valor_Total_Periodico|fechaInicioVigencia|fechaFinVigencia|estado     |EstadoRenovaciones|tipoPoliza|aseguradora|OpracionesGrupo|Vigencia|Fecha     |EstadoRenovacionesinicio|ciudad              |valorTotalSinIva|Valor_Total_Periodico_SinIva|TasaIVA           |TasaIVA_Periodico |fechaNacCliente           |nomTipoDocumento|tipoVinculacion    |Edad|FechaCumple                   |Tipo Empresa|tomador     |nomProducto       |codRamo|nomRamo   |seRenuevaRamo|nomGrupo     |nomCompania                     |nomGrupoEmpresarial|GrupoRamo |Ramo      |NegociosEspeciales|\n",
            "+-----------+----------+---------+-------------------+-----------+----------+-------------------+----------+-----------------+------+----------+-------------+---------------------+-------------------+----------------+-----------+------------------+----------+-----------+---------------+--------+----------+------------------------+--------------------+----------------+----------------------------+------------------+------------------+--------------------------+----------------+-------------------+----+------------------------------+------------+------------+------------------+-------+----------+-------------+-------------+--------------------------------+-------------------+----------+----------+------------------+\n",
            "|26         |153029    |155142   |Procesado          |2025-06-25 |2025-06-29|Programa           |Correcto  |Anual            |-221.0|-4043     |-221.0       |-4043.0              |2025-06-25         |2025-06-29      |Cancelada  |Cancelada         |Póliza    |SURA       |Cancelada      |Anterior|2025-06-29|Cancelada               |OLANO ASESORES LTDA.|-3822.0         |-3822.0                     |0.0578231292517007|0.0578231292517007|lunes, 22 de abril de 1968|Cedula          |Tomador - Asegurado|57  |miércoles, 22 de abril de 2026|P Natural   |Tiene poliza|Productos Viajeros|BAN    |AP Viajero|No se Renueva|Empresariales|Soluciones de Seguros Generales |Sura               |Ap Viajero|Ap Viajero|No Aplica         |\n",
            "|26         |153029    |165074   |Procesado          |2025-06-25 |2025-06-29|Programa           |Correcto  |Anual            |-221.0|-4043     |-221.0       |-4043.0              |2025-06-25         |2025-06-29      |Cancelada  |Cancelada         |Póliza    |SURA       |Cancelada      |Anterior|2025-06-29|Cancelada               |OLANO ASESORES LTDA.|-3822.0         |-3822.0                     |0.0578231292517007|0.0578231292517007|lunes, 22 de abril de 1968|Cedula          |Tomador - Asegurado|57  |miércoles, 22 de abril de 2026|P Natural   |Tiene poliza|Productos Viajeros|BAN    |AP Viajero|No se Renueva|Empresariales|Soluciones de Seguros Generales |Sura               |Ap Viajero|Ap Viajero|No Aplica         |\n",
            "|26         |153029    |155143   |Procesado          |2025-06-25 |2025-06-29|Programa           |Correcto  |Anual            |-221.0|-4043     |-221.0       |-4043.0              |2025-06-25         |2025-06-29      |Cancelada  |Cancelada         |Póliza    |SURA       |Cancelada      |Anterior|2025-06-29|Cancelada               |OLANO ASESORES LTDA.|-3822.0         |-3822.0                     |0.0578231292517007|0.0578231292517007|lunes, 22 de abril de 1968|Cedula          |Tomador - Asegurado|57  |miércoles, 22 de abril de 2026|P Natural   |Tiene poliza|Productos Viajeros|BAN    |AP Viajero|No se Renueva|Empresariales|Soluciones de Seguros Generales |Sura               |Ap Viajero|Ap Viajero|No Aplica         |\n",
            "|26         |153029    |165072   |Procesado          |2025-06-25 |2025-06-29|Programa           |Correcto  |Anual            |-221.0|-4043     |-221.0       |-4043.0              |2025-06-25         |2025-06-29      |Cancelada  |Cancelada         |Póliza    |SURA       |Cancelada      |Anterior|2025-06-29|Cancelada               |OLANO ASESORES LTDA.|-3822.0         |-3822.0                     |0.0578231292517007|0.0578231292517007|lunes, 22 de abril de 1968|Cedula          |Tomador - Asegurado|57  |miércoles, 22 de abril de 2026|P Natural   |Tiene poliza|Productos Viajeros|BAN    |AP Viajero|No se Renueva|Empresariales|Soluciones de Seguros Generales |Sura               |Ap Viajero|Ap Viajero|No Aplica         |\n",
            "|165        |214088    |192854   |Sin información    |2024-02-29 |2025-02-28|Programa           |Correcto  |Anual            |0.0   |0         |0.0          |0.0                  |2024-02-29         |2025-02-28      |No Renovada|No Renovado       |Soat      |BOLIVAR    |Otras OP       |Actual  |2025-02-28|No Renovada             |MEDELLIN            |0.0             |0.0                         |0.0               |0.0               |NULL                      |Cedula          |Tomador            |0   |NULL                          |P Natural   |Tiene poliza|Soat              |B310   |Soat      |Se renueva   |Soat         |Compañía de Seguros Bolívar S.A.|Bolivar            |Soat      |Soat      |No Aplica         |\n",
            "+-----------+----------+---------+-------------------+-----------+----------+-------------------+----------+-----------------+------+----------+-------------+---------------------+-------------------+----------------+-----------+------------------+----------+-----------+---------------+--------+----------+------------------------+--------------------+----------------+----------------------------+------------------+------------------+--------------------------+----------------+-------------------+----+------------------------------+------------+------------+------------------+-------+----------+-------------+-------------+--------------------------------+-------------------+----------+----------+------------------+\n",
            "only showing top 5 rows\n",
            "\n",
            " Tabla final guardada en: /content/drive/MyDrive/Dataset PI/tabla_merge.csv\n"
          ]
        }
      ],
      "source": [
        "# Unión de poliza con clientes\n",
        "df_poliza_clientes = df_poliza.join(\n",
        "    df_clientes,\n",
        "    on=\"codCliente\",  # clave común\n",
        "    how=\"left\"\n",
        ")\n",
        "\n",
        "# Unión del resultado anterior con producto\n",
        "df_final = df_poliza_clientes.join(\n",
        "    df_producto,\n",
        "    on=\"codProducto\",  # clave común\n",
        "    how=\"left\"\n",
        ")\n",
        "\n",
        "# Mostrar resultado\n",
        "print(\"Filas finales:\", df_final.count())\n",
        "print(\"Columnas finales:\", len(df_final.columns))\n",
        "df_final.show(5, truncate=False)\n"
      ]
    },
    {
      "cell_type": "code",
      "execution_count": null,
      "metadata": {},
      "outputs": [],
      "source": [
        "# Ruta donde guardaremos la tabla unida\n",
        "ruta_salida = \"/content/drive/MyDrive/Dataset PI/tabla_merge.csv\"\n",
        "\n",
        "# Guardar el dataframe como CSV con encabezado\n",
        "df_final.coalesce(1) \\\n",
        "    .write.mode(\"overwrite\") \\\n",
        "    .option(\"header\", \"true\") \\\n",
        "    .csv(ruta_salida)\n",
        "\n",
        "print(\" Tabla final guardada en:\", ruta_salida)\n",
        "\n",
        "# Buscar el archivo generado dentro de la carpeta\n",
        "archivo_generado = glob.glob(ruta_salida + \"/part-*.csv\")[0]\n",
        "\n",
        "# Moverlo a la misma carpeta con el nombre tabla_final.csv\n",
        "ruta_final = \"/content/drive/MyDrive/Dataset PI/tabla_merge_unida.csv\"\n",
        "shutil.move(archivo_generado, ruta_final)\n",
        "\n",
        "# Eliminar la carpeta vacía\n",
        "shutil.rmtree(ruta_salida)"
      ]
    },
    {
      "cell_type": "markdown",
      "metadata": {},
      "source": [
        "### Eliminación columnas no relevantes"
      ]
    },
    {
      "cell_type": "code",
      "execution_count": 28,
      "metadata": {
        "colab": {
          "base_uri": "https://localhost:8080/"
        },
        "id": "n1g7nrHPkF1V",
        "outputId": "32381927-a3de-41d2-873a-dda82bbdbe20"
      },
      "outputs": [
        {
          "name": "stdout",
          "output_type": "stream",
          "text": [
            "Columnas eliminadas correctamente\n",
            "Número de columnas restantes: 19\n"
          ]
        }
      ],
      "source": [
        "columnas_a_eliminar = [\n",
        "    \"codProducto\",\n",
        "    \"estadoProcesamiento\",\n",
        "    \"origenProcesamiento\",\n",
        "    \"estadoDato\",\n",
        "    \"IVA\",\n",
        "    \"IVA_Periodico\",\n",
        "    \"fechaInicio\",\n",
        "    \"fechaFin\",\n",
        "    \"EstadoRenovaciones\",\n",
        "    \"tipoPoliza\",\n",
        "    \"Fecha\",\n",
        "    \"valorTotalSinIva\",\n",
        "    \"Valor_Total_Periodico_SinIva\",\n",
        "    \"TasaIVA\",\n",
        "    \"TasaIVA_Periodico\",\n",
        "    \"fechaNacCliente\",\n",
        "    \"FechaCumple\",\n",
        "    \"nomTipoDocumento\",\n",
        "    \"Tiene poliza\",\n",
        "    \"codRamo\",\n",
        "    \"seRenuevaRamo\",\n",
        "    \"nomGrupo\",\n",
        "    \"nomCompania\",\n",
        "    \"GrupoRamo\",\n",
        "    \"nomRamo\",\n",
        "    \"NegociosEspeciales\",\n",
        "    \"aseguradora\",\n",
        "    \"tomador\"\n",
        "    \"nomProducto\"\n",
        "]\n",
        "# Eliminar columnas (solo si existen en el dataframe)\n",
        "df_final = df_final.drop(*[c for c in columnas_a_eliminar if c in df_final.columns])\n",
        "\n",
        "print(\"Columnas eliminadas correctamente\")\n",
        "print(\"Número de columnas restantes:\", len(df_final.columns))\n"
      ]
    },
    {
      "cell_type": "markdown",
      "metadata": {},
      "source": [
        "### Generar nuevas categorías de ramos"
      ]
    },
    {
      "cell_type": "code",
      "execution_count": null,
      "metadata": {
        "id": "NbldViNaVnh1"
      },
      "outputs": [],
      "source": [
        "df_final = df_final.withColumn(\n",
        "    \"Ramo\",\n",
        "    F.when(F.col(\"Ramo\").isin(\n",
        "        \"Salud Familiar\", \"Enfermedades Graves\", \"Salud Colectivo\",\n",
        "        \"Asistencia Medica\", \"Medicina Prepagada\"\n",
        "    ), \"Salud\")\n",
        "    .when(F.col(\"Ramo\").isin(\n",
        "        \"Vida Individual\", \"Vida Grupo\", \"Educacion\", \"Pension\",\n",
        "        \"Accidentes Personales\", \"Juvenil\", \"Exequial\"\n",
        "    ), \"Vida\")\n",
        "    .when(F.col(\"Ramo\").isin(\n",
        "        \"Automoviles\", \"Soat\"\n",
        "    ), \"Autos\")\n",
        "    .when(F.col(\"Ramo\").isin(\n",
        "        \"Cumplimiento\", \"Arrendamiento\"\n",
        "    ), \"Cumplimiento\")\n",
        "    .when(F.col(\"Ramo\").isin(\n",
        "        \"Incendio\", \"Responsabilidad Civil\", \"Hogar\", \"Transporte Mercancia\",\n",
        "        \"Transporte Valores\", \"Maquinaria Y Equipo\", \"Manejo\", \"Copropiedad\",\n",
        "        \"Montaje\", \"Construcción\", \"Navegacion\",\n",
        "        \"R.C. Parqueaderos Y Talleres\", \"Agricola\"\n",
        "    ), \"Patrimoniales\")\n",
        "    .otherwise(\"Otros\")\n",
        ")"
      ]
    },
    {
      "cell_type": "markdown",
      "metadata": {},
      "source": [
        "### Reemplazar caracteres "
      ]
    },
    {
      "cell_type": "code",
      "execution_count": null,
      "metadata": {
        "id": "oafWS-VFm8aS"
      },
      "outputs": [],
      "source": [
        "# Reemplazamos espacios y caracteres raros por guiones bajos\n",
        "for old_name in df_final.columns:\n",
        "    new_name = old_name.strip().replace(\" \", \"_\").replace(\"-\", \"_\")\n",
        "    df_final = df_final.withColumnRenamed(old_name, new_name)"
      ]
    },
    {
      "cell_type": "markdown",
      "metadata": {},
      "source": [
        "### Validar tipos de datos"
      ]
    },
    {
      "cell_type": "code",
      "execution_count": null,
      "metadata": {
        "id": "i5Lnq368m_7p"
      },
      "outputs": [],
      "source": [
        "df_final = df_final.withColumn(\"Edad\", col(\"Edad\").cast(IntegerType()))\n",
        "df_final = df_final.withColumn(\"valorTotal\", col(\"valorTotal\").cast(DoubleType()))\n",
        "df_final = df_final.withColumn(\"fechaInicioVigencia\", F.to_date(\"fechaInicioVigencia\", \"dd/MM/yyyy\"))"
      ]
    },
    {
      "cell_type": "markdown",
      "metadata": {},
      "source": [
        "### Filtros con reglas de negocio"
      ]
    },
    {
      "cell_type": "code",
      "execution_count": null,
      "metadata": {},
      "outputs": [],
      "source": [
        "# Eliminar filas donde valorTotal sea 0 o nulo\n",
        "df_final = df_final.filter((F.col(\"valorTotal\") > 0) & (F.col(\"valorTotal\").isNotNull()))"
      ]
    },
    {
      "cell_type": "markdown",
      "metadata": {},
      "source": [
        "### Eliminar duplicados"
      ]
    },
    {
      "cell_type": "code",
      "execution_count": null,
      "metadata": {},
      "outputs": [],
      "source": [
        "# Eliminar duplicados por las columnas clave\n",
        "df_final = df_final.dropDuplicates([\"codCliente\", \"codPoliza\", \"fechaInicioVigencia\", \"fechaFinVigencia\", \"Ramo\"])"
      ]
    },
    {
      "cell_type": "markdown",
      "metadata": {},
      "source": [
        "### Crear columna de orden"
      ]
    },
    {
      "cell_type": "code",
      "execution_count": null,
      "metadata": {},
      "outputs": [],
      "source": [
        "# Crear ventana por cliente y póliza, ordenada por fecha de inicio\n",
        "window_spec = Window.partitionBy(\"codCliente\", \"codPoliza\").orderBy(F.asc(\"fechaInicioVigencia\"))\n",
        "\n",
        "# Agregar columna de orden (opcional, para validar el orden)\n",
        "df_final = df_final.withColumn(\"orden_vigencia\", F.row_number().over(window_spec))\n",
        "\n",
        "df_final = df_final.filter(F.col(\"orden_vigencia\") == 1)"
      ]
    },
    {
      "cell_type": "markdown",
      "metadata": {},
      "source": [
        "## Verificar datos"
      ]
    },
    {
      "cell_type": "code",
      "execution_count": null,
      "metadata": {},
      "outputs": [],
      "source": [
        "# Reordenar para verificar\n",
        "df_final = df_final.orderBy(\"codCliente\", \"codPoliza\", \"fechaInicioVigencia\")\n",
        "\n",
        "print(\"Número de registros:\", df_final.count())"
      ]
    },
    {
      "cell_type": "code",
      "execution_count": null,
      "metadata": {},
      "outputs": [],
      "source": [
        "df_final.show( truncate=False)"
      ]
    },
    {
      "cell_type": "markdown",
      "metadata": {},
      "source": [
        "## Guardar datos"
      ]
    },
    {
      "cell_type": "code",
      "execution_count": null,
      "metadata": {
        "colab": {
          "base_uri": "https://localhost:8080/"
        },
        "id": "_jnkRzrScS6h",
        "outputId": "92cd203f-63ba-492c-b452-67fe9f3a1208"
      },
      "outputs": [
        {
          "name": "stdout",
          "output_type": "stream",
          "text": [
            " Tabla final guardada en: /content/drive/MyDrive/Dataset PI/Refined/Refined_temp.csv\n"
          ]
        }
      ],
      "source": [
        "# Ruta donde guardaremos la tabla unida\n",
        "ruta_salida = \"/content/drive/MyDrive/Dataset PI/trusted/trusted_temp.csv\"\n",
        "\n",
        "# Guardar el dataframe como CSV con encabezado\n",
        "df_final.coalesce(1) \\\n",
        "    .write.mode(\"overwrite\") \\\n",
        "    .option(\"header\", \"true\") \\\n",
        "    .csv(ruta_salida)\n",
        "\n",
        "print(\" Tabla final guardada en:\", ruta_salida)\n",
        "\n",
        "# Buscar el archivo generado dentro de la carpeta\n",
        "archivo_generado = glob.glob(ruta_salida + \"/part-*.csv\")[0]\n",
        "\n",
        "# Moverlo a la misma carpeta con el nombre tabla_final.csv\n",
        "ruta_final = \"/content/drive/MyDrive/Dataset PI/trusted/trusted_data.csv\"\n",
        "shutil.move(archivo_generado, ruta_final)\n",
        "\n",
        "# Eliminar la carpeta vacía\n",
        "shutil.rmtree(ruta_salida)"
      ]
    }
  ],
  "metadata": {
    "colab": {
      "include_colab_link": true,
      "provenance": []
    },
    "kernelspec": {
      "display_name": "Python 3",
      "name": "python3"
    },
    "language_info": {
      "name": "python"
    }
  },
  "nbformat": 4,
  "nbformat_minor": 0
}
