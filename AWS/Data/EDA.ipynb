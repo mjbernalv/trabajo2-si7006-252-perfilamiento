{
 "cells": [
  {
   "cell_type": "markdown",
   "metadata": {},
   "source": [
    "# <center> Análisis exploratorio de los datos </center>"
   ]
  },
  {
   "cell_type": "code",
   "execution_count": 1,
   "metadata": {},
   "outputs": [
    {
     "data": {
      "text/html": [
       "Current session configs: <tt>{'conf': {'spark.sql.catalogImplementation': 'hive', 'hive.metastore.client.factory.class': 'com.amazonaws.glue.catalog.metastore.AWSGlueDataCatalogHiveClientFactory', 'spark.hadoop.hive.metastore.client.factory.class': 'com.amazonaws.glue.catalog.metastore.AWSGlueDataCatalogHiveClientFactory', 'spark.sql.warehouse.dir': 's3://s3-pi-perfilamiento-20252/warehouse/', 'spark.yarn.appMasterEnv.AWS_REGION': 'us-east-1', 'spark.executorEnv.AWS_REGION': 'us-east-1', 'spark.hadoop.fs.s3a.aws.credentials.provider': 'com.amazonaws.auth.InstanceProfileCredentialsProvider'}, 'proxyUser': 'jovyan', 'kind': 'pyspark'}</tt><br>"
      ],
      "text/plain": [
       "<IPython.core.display.HTML object>"
      ]
     },
     "metadata": {},
     "output_type": "display_data"
    },
    {
     "data": {
      "text/html": [
       "No active sessions."
      ],
      "text/plain": [
       "<IPython.core.display.HTML object>"
      ]
     },
     "metadata": {},
     "output_type": "display_data"
    }
   ],
   "source": [
    "%%configure -f\n",
    "{\n",
    "  \"conf\": {\n",
    "    \"spark.sql.catalogImplementation\": \"hive\",\n",
    "    \"hive.metastore.client.factory.class\": \"com.amazonaws.glue.catalog.metastore.AWSGlueDataCatalogHiveClientFactory\",\n",
    "    \"spark.hadoop.hive.metastore.client.factory.class\": \"com.amazonaws.glue.catalog.metastore.AWSGlueDataCatalogHiveClientFactory\",\n",
    "    \"spark.sql.warehouse.dir\": \"s3://s3-pi-perfilamiento-20252/warehouse/\",\n",
    "    \"spark.yarn.appMasterEnv.AWS_REGION\": \"us-east-1\",\n",
    "    \"spark.executorEnv.AWS_REGION\": \"us-east-1\",\n",
    "    \"spark.hadoop.fs.s3a.aws.credentials.provider\": \"com.amazonaws.auth.InstanceProfileCredentialsProvider\"\n",
    "  }\n",
    "}"
   ]
  },
  {
   "cell_type": "markdown",
   "metadata": {},
   "source": [
    "## Librerías"
   ]
  },
  {
   "cell_type": "code",
   "execution_count": 35,
   "metadata": {
    "id": "b1eb_MU1wWag"
   },
   "outputs": [
    {
     "data": {
      "application/vnd.jupyter.widget-view+json": {
       "model_id": "",
       "version_major": 2,
       "version_minor": 0
      },
      "text/plain": [
       "FloatProgress(value=0.0, bar_style='info', description='Progress:', layout=Layout(height='25px', width='50%'),…"
      ]
     },
     "metadata": {},
     "output_type": "display_data"
    }
   ],
   "source": [
    "import seaborn as sns\n",
    "import matplotlib.pyplot as plt\n",
    "from pyspark.sql import SparkSession\n",
    "from pyspark.sql.functions import countDistinct, avg, col, sum as spark_sum"
   ]
  },
  {
   "cell_type": "markdown",
   "metadata": {},
   "source": [
    "## Lectura de datos"
   ]
  },
  {
   "cell_type": "code",
   "execution_count": 5,
   "metadata": {
    "id": "drYOkBX7nFfk"
   },
   "outputs": [
    {
     "data": {
      "application/vnd.jupyter.widget-view+json": {
       "model_id": "",
       "version_major": 2,
       "version_minor": 0
      },
      "text/plain": [
       "FloatProgress(value=0.0, bar_style='info', description='Progress:', layout=Layout(height='25px', width='50%'),…"
      ]
     },
     "metadata": {},
     "output_type": "display_data"
    },
    {
     "name": "stdout",
     "output_type": "stream",
     "text": [
      "+----------+---------+-----------------+----------+---------------------+-------------------+----------------+-------+---------------+--------+------------------------+--------+-------------------+----+------------+------------+--------------------+-------------------+-----+--------------+\n",
      "|codcliente|codpoliza|formapagovigencia|valortotal|valor_total_periodico|fechainiciovigencia|fechafinvigencia| estado|opracionesgrupo|vigencia|estadorenovacionesinicio|  ciudad|    tipovinculacion|edad|tipo_empresa|     tomador|         nomproducto|nomgrupoempresarial| ramo|orden_vigencia|\n",
      "+----------+---------+-----------------+----------+---------------------+-------------------+----------------+-------+---------------+--------+------------------------+--------+-------------------+----+------------+------------+--------------------+-------------------+-----+--------------+\n",
      "|      NULL|     NULL|formaPagoVigencia|valorTotal| Valor_Total_Perio...|fechaInicioVigencia|fechaFinVigencia| estado|OpracionesGrupo|Vigencia|    EstadoRenovacione...|  ciudad|    tipoVinculacion|NULL|Tipo_Empresa|     tomador|         nomProducto|nomGrupoEmpresarial| Ramo|          NULL|\n",
      "|        37|       69|            Anual|  642179.0|             642179.0|         2023-03-01|      2026-03-01|Vigente|     Renovación|   Otros|    Vigencias Anteriores|MEDELLIN|Tomador - Asegurado|  31|   P Natural|Tiene poliza|           Plan Vive|               Sura| Vida|             1|\n",
      "|        37|      352|          Mensual| 1103798.0|              91983.0|         2025-04-01|      2026-04-01|Vigente|     Renovación|  Actual|                Renovado|MEDELLIN|Tomador - Asegurado|  31|   P Natural|Tiene poliza|Salud Para Dos Fa...|               Sura|Salud|             1|\n",
      "|        37|    80568|            Anual| 2612142.0|            2612142.0|         2025-01-22|      2026-01-22|Vigente|     Renovación|  Actual|                Renovado|MEDELLIN|Tomador - Asegurado|  31|   P Natural|Tiene poliza|Automoviles Indiv...|            Allianz|Autos|             1|\n",
      "|        39|     2771|          Mensual| 1929740.0|             160812.0|         2025-01-31|      2026-01-31|Vigente|     Renovación|  Actual|                Renovado|MEDELLIN|Tomador - Asegurado|  29|   P Natural|Tiene poliza|Salud Para Todos ...|               Sura|Salud|             1|\n",
      "+----------+---------+-----------------+----------+---------------------+-------------------+----------------+-------+---------------+--------+------------------------+--------+-------------------+----+------------+------------+--------------------+-------------------+-----+--------------+\n",
      "only showing top 5 rows"
     ]
    }
   ],
   "source": [
    "database_name = \"proyecto1db\"\n",
    "table_name = \"trusted\"\n",
    "\n",
    "spark_df = spark.table(f\"{database_name}.{table_name}\")\n",
    "spark_df.show(5)"
   ]
  },
  {
   "cell_type": "markdown",
   "metadata": {
    "id": "db2677b8"
   },
   "source": [
    "## Información general"
   ]
  },
  {
   "cell_type": "code",
   "execution_count": 6,
   "metadata": {
    "colab": {
     "base_uri": "https://localhost:8080/"
    },
    "id": "9512c98a",
    "outputId": "29e92f8a-5922-4eaf-8caf-eeff127dab36"
   },
   "outputs": [
    {
     "data": {
      "application/vnd.jupyter.widget-view+json": {
       "model_id": "",
       "version_major": 2,
       "version_minor": 0
      },
      "text/plain": [
       "FloatProgress(value=0.0, bar_style='info', description='Progress:', layout=Layout(height='25px', width='50%'),…"
      ]
     },
     "metadata": {},
     "output_type": "display_data"
    },
    {
     "name": "stdout",
     "output_type": "stream",
     "text": [
      "N?mero total de registros: 81759\n",
      "root\n",
      " |-- codcliente: long (nullable = true)\n",
      " |-- codpoliza: long (nullable = true)\n",
      " |-- formapagovigencia: string (nullable = true)\n",
      " |-- valortotal: string (nullable = true)\n",
      " |-- valor_total_periodico: string (nullable = true)\n",
      " |-- fechainiciovigencia: string (nullable = true)\n",
      " |-- fechafinvigencia: string (nullable = true)\n",
      " |-- estado: string (nullable = true)\n",
      " |-- opracionesgrupo: string (nullable = true)\n",
      " |-- vigencia: string (nullable = true)\n",
      " |-- estadorenovacionesinicio: string (nullable = true)\n",
      " |-- ciudad: string (nullable = true)\n",
      " |-- tipovinculacion: string (nullable = true)\n",
      " |-- edad: long (nullable = true)\n",
      " |-- tipo_empresa: string (nullable = true)\n",
      " |-- tomador: string (nullable = true)\n",
      " |-- nomproducto: string (nullable = true)\n",
      " |-- nomgrupoempresarial: string (nullable = true)\n",
      " |-- ramo: string (nullable = true)\n",
      " |-- orden_vigencia: long (nullable = true)"
     ]
    }
   ],
   "source": [
    "# Número total de registros\n",
    "print(f\"Número total de registros: {spark_df.count()}\")\n",
    "\n",
    "# Esquema del DataFrame\n",
    "spark_df.printSchema()"
   ]
  },
  {
   "cell_type": "markdown",
   "metadata": {},
   "source": [
    "## Estadísticas descriptivas"
   ]
  },
  {
   "cell_type": "code",
   "execution_count": 23,
   "metadata": {
    "colab": {
     "base_uri": "https://localhost:8080/"
    },
    "id": "08418e28",
    "outputId": "d151721c-fa7f-470a-8ab0-07e60afb46f5"
   },
   "outputs": [
    {
     "data": {
      "application/vnd.jupyter.widget-view+json": {
       "model_id": "",
       "version_major": 2,
       "version_minor": 0
      },
      "text/plain": [
       "FloatProgress(value=0.0, bar_style='info', description='Progress:', layout=Layout(height='25px', width='50%'),…"
      ]
     },
     "metadata": {},
     "output_type": "display_data"
    },
    {
     "name": "stdout",
     "output_type": "stream",
     "text": [
      "+-------+------------------+-----------------+------------------+--------------+\n",
      "|summary|        codcliente|        codpoliza|              edad|orden_vigencia|\n",
      "+-------+------------------+-----------------+------------------+--------------+\n",
      "|  count|             81758|            81758|             81758|         81457|\n",
      "|   mean|128796.03280412925|124621.3013405416| 27.69540595415739|           1.0|\n",
      "| stddev| 76173.51297032544|71950.65781835375|24.629428069159708|           0.0|\n",
      "|    min|                37|                9|                 0|             1|\n",
      "|    max|            267485|           227235|                99|             1|\n",
      "+-------+------------------+-----------------+------------------+--------------+"
     ]
    }
   ],
   "source": [
    "# Estadísticas descriptivas para columnas numéricas\n",
    "numeric_types = ['int', 'double', 'float', 'bigint', 'long']\n",
    "num_cols = [c for c, t in spark_df.dtypes if t in numeric_types]\n",
    "spark_df.select(num_cols).describe().show()"
   ]
  },
  {
   "cell_type": "markdown",
   "metadata": {},
   "source": [
    "## Exploración de datos"
   ]
  },
  {
   "cell_type": "code",
   "execution_count": 24,
   "metadata": {
    "colab": {
     "base_uri": "https://localhost:8080/"
    },
    "id": "970c5f2e",
    "outputId": "a659ec01-f44a-47ae-965f-91c7799a31bb"
   },
   "outputs": [
    {
     "data": {
      "application/vnd.jupyter.widget-view+json": {
       "model_id": "",
       "version_major": 2,
       "version_minor": 0
      },
      "text/plain": [
       "FloatProgress(value=0.0, bar_style='info', description='Progress:', layout=Layout(height='25px', width='50%'),…"
      ]
     },
     "metadata": {},
     "output_type": "display_data"
    },
    {
     "name": "stdout",
     "output_type": "stream",
     "text": [
      "+----------+---------+-----------------+----------+---------------------+-------------------+----------------+------+---------------+--------+------------------------+------+---------------+----+------------+-------+-----------+-------------------+----+--------------+\n",
      "|codcliente|codpoliza|formapagovigencia|valortotal|valor_total_periodico|fechainiciovigencia|fechafinvigencia|estado|opracionesgrupo|vigencia|estadorenovacionesinicio|ciudad|tipovinculacion|edad|tipo_empresa|tomador|nomproducto|nomgrupoempresarial|ramo|orden_vigencia|\n",
      "+----------+---------+-----------------+----------+---------------------+-------------------+----------------+------+---------------+--------+------------------------+------+---------------+----+------------+-------+-----------+-------------------+----+--------------+\n",
      "|         1|        1|                0|         0|                    0|                  0|               0|     0|              0|       0|                       0|     0|              0|   1|           0|      0|          0|                  0|   0|           302|\n",
      "+----------+---------+-----------------+----------+---------------------+-------------------+----------------+------+---------------+--------+------------------------+------+---------------+----+------------+-------+-----------+-------------------+----+--------------+"
     ]
    }
   ],
   "source": [
    "# Contar valores nulos por columna\n",
    "spark_df.select([spark_sum(col(c).isNull().cast(\"integer\")).alias(c) for c in spark_df.columns]).show()"
   ]
  },
  {
   "cell_type": "code",
   "execution_count": 25,
   "metadata": {
    "colab": {
     "base_uri": "https://localhost:8080/"
    },
    "id": "304aaa1e",
    "outputId": "ca627e7d-29d7-47d8-f819-0e1729266dbf"
   },
   "outputs": [
    {
     "data": {
      "application/vnd.jupyter.widget-view+json": {
       "model_id": "",
       "version_major": 2,
       "version_minor": 0
      },
      "text/plain": [
       "FloatProgress(value=0.0, bar_style='info', description='Progress:', layout=Layout(height='25px', width='50%'),…"
      ]
     },
     "metadata": {},
     "output_type": "display_data"
    },
    {
     "name": "stdout",
     "output_type": "stream",
     "text": [
      "+-------------+-----+\n",
      "|         Ramo|count|\n",
      "+-------------+-----+\n",
      "|Patrimoniales|10116|\n",
      "|        Otros|  313|\n",
      "|         Vida|19287|\n",
      "|      Allianz|  301|\n",
      "| Cumplimiento|11450|\n",
      "|        Autos|18531|\n",
      "|        Salud|21760|\n",
      "|         Ramo|    1|\n",
      "+-------------+-----+"
     ]
    }
   ],
   "source": [
    "# Contar registros por 'Ramo'\n",
    "spark_df.groupBy('Ramo').count().show()"
   ]
  },
  {
   "cell_type": "code",
   "execution_count": 26,
   "metadata": {
    "colab": {
     "base_uri": "https://localhost:8080/"
    },
    "id": "24f686ee",
    "outputId": "2b5e6f6b-0c3d-47dc-96e3-4ae2f4c2f987"
   },
   "outputs": [
    {
     "data": {
      "application/vnd.jupyter.widget-view+json": {
       "model_id": "",
       "version_major": 2,
       "version_minor": 0
      },
      "text/plain": [
       "FloatProgress(value=0.0, bar_style='info', description='Progress:', layout=Layout(height='25px', width='50%'),…"
      ]
     },
     "metadata": {},
     "output_type": "display_data"
    },
    {
     "name": "stdout",
     "output_type": "stream",
     "text": [
      "+--------------------+-----+\n",
      "| nomGrupoEmpresarial|count|\n",
      "+--------------------+-----+\n",
      "|                 Hdi| 2575|\n",
      "|             Bolivar| 9586|\n",
      "|             Allianz| 4920|\n",
      "|                 Sbs|  477|\n",
      "|                Sura|61417|\n",
      "|          La Equidad|   41|\n",
      "|           Solidaria| 1588|\n",
      "|             Mundial|   44|\n",
      "|                Bbva|   13|\n",
      "|              Mapfre|  126|\n",
      "|           Deudores\"|  297|\n",
      "|           Previsora|   74|\n",
      "|           Colpatria|  164|\n",
      "|            S Estado|  190|\n",
      "|    Modalidad Ideal\"|    1|\n",
      "| Modalidad Deudores\"|    3|\n",
      "|           48 Hooras|    4|\n",
      "|              Zurich|    8|\n",
      "|                    |  217|\n",
      "| nomGrupoEmpresarial|    1|\n",
      "+--------------------+-----+\n",
      "only showing top 20 rows"
     ]
    }
   ],
   "source": [
    "# Contar registros por 'nomGrupoEmpresarial'\n",
    "spark_df.groupBy('nomGrupoEmpresarial').count().show()"
   ]
  },
  {
   "cell_type": "markdown",
   "metadata": {},
   "source": [
    "## Matriz de correlación"
   ]
  },
  {
   "cell_type": "code",
   "execution_count": 38,
   "metadata": {
    "colab": {
     "base_uri": "https://localhost:8080/",
     "height": 1000
    },
    "id": "3fce8558",
    "outputId": "4a6267fd-4bbc-4083-e4ae-b02a0efed7c4"
   },
   "outputs": [
    {
     "data": {
      "application/vnd.jupyter.widget-view+json": {
       "model_id": "",
       "version_major": 2,
       "version_minor": 0
      },
      "text/plain": [
       "FloatProgress(value=0.0, bar_style='info', description='Progress:', layout=Layout(height='25px', width='50%'),…"
      ]
     },
     "metadata": {},
     "output_type": "display_data"
    }
   ],
   "source": [
    "# Calcular la matriz de correlación para columnas numéricas\n",
    "numeric_cols = [col for col, dtype in spark_df.dtypes if dtype in numeric_types]\n",
    "corr_matrix = spark_df.select(numeric_cols).toPandas().corr()\n",
    "\n",
    "# Visualizar la matriz de correlación\n",
    "plt.figure(figsize=(10, 8))\n",
    "sns.heatmap(corr_matrix, annot=True, cmap='coolwarm', fmt=\".2f\")\n",
    "plt.title('Correlation Matrix of Numerical Columns')\n",
    "plt.show()"
   ]
  },
  {
   "cell_type": "markdown",
   "metadata": {},
   "source": [
    "## Gráficos de dispersión"
   ]
  },
  {
   "cell_type": "code",
   "execution_count": 40,
   "metadata": {
    "colab": {
     "base_uri": "https://localhost:8080/",
     "height": 1000
    },
    "id": "ec3d518d",
    "outputId": "87d9b5cb-fd41-4034-d2d8-4d72a9faf403"
   },
   "outputs": [
    {
     "data": {
      "application/vnd.jupyter.widget-view+json": {
       "model_id": "",
       "version_major": 2,
       "version_minor": 0
      },
      "text/plain": [
       "FloatProgress(value=0.0, bar_style='info', description='Progress:', layout=Layout(height='25px', width='50%'),…"
      ]
     },
     "metadata": {},
     "output_type": "display_data"
    }
   ],
   "source": [
    "sample_spark_df = spark_df.select(numeric_cols).limit(1000).toPandas()\n",
    "\n",
    "sns.pairplot(sample_spark_df)\n",
    "plt.suptitle('Pair Plot of Numerical Columns (Sampled Data)', y=1.02)\n",
    "plt.show()"
   ]
  },
  {
   "cell_type": "markdown",
   "metadata": {
    "id": "b3fcb514"
   },
   "source": [
    "## Promedio de registros por cliente, registros por póliza y pólizas por cliente"
   ]
  },
  {
   "cell_type": "code",
   "execution_count": 41,
   "metadata": {
    "colab": {
     "base_uri": "https://localhost:8080/"
    },
    "id": "3b286029",
    "outputId": "a8a09918-ce9b-4dc1-d3c6-d40b20e544a4"
   },
   "outputs": [
    {
     "data": {
      "application/vnd.jupyter.widget-view+json": {
       "model_id": "",
       "version_major": 2,
       "version_minor": 0
      },
      "text/plain": [
       "FloatProgress(value=0.0, bar_style='info', description='Progress:', layout=Layout(height='25px', width='50%'),…"
      ]
     },
     "metadata": {},
     "output_type": "display_data"
    },
    {
     "name": "stdout",
     "output_type": "stream",
     "text": [
      "Promedio de registros por cliente: 1.58\n",
      "Promedio de registros por p?liza: 1.00\n",
      "Promedio de p?lizas por cliente: 1.58"
     ]
    }
   ],
   "source": [
    "# Promedio de registros por cliente\n",
    "avg_records_per_client_spark = spark_df.groupBy('codCliente').count().select(avg('count')).first()[0]\n",
    "print(f\"Promedio de registros por cliente: {avg_records_per_client_spark:.2f}\")\n",
    "\n",
    "# Promedio de registros por póliza\n",
    "avg_records_per_poliza_spark = spark_df.groupBy('codPoliza').count().select(avg('count')).first()[0]\n",
    "print(f\"Promedio de registros por póliza: {avg_records_per_poliza_spark:.2f}\")\n",
    "\n",
    "# Promedio de pólizas por cliente\n",
    "avg_policies_per_client_spark = spark_df.groupBy('codCliente').agg(countDistinct('codPoliza').alias('policy_count')).select(avg('policy_count')).first()[0]\n",
    "print(f\"Promedio de pólizas por cliente: {avg_policies_per_client_spark:.2f}\")"
   ]
  },
  {
   "cell_type": "code",
   "execution_count": null,
   "metadata": {},
   "outputs": [],
   "source": []
  }
 ],
 "metadata": {
  "colab": {
   "include_colab_link": true,
   "provenance": []
  },
  "kernelspec": {
   "display_name": "PySpark",
   "language": "python",
   "name": "pysparkkernel"
  },
  "language_info": {
   "codemirror_mode": {
    "name": "python",
    "version": 3
   },
   "file_extension": ".py",
   "mimetype": "text/x-python",
   "name": "pyspark",
   "pygments_lexer": "python3"
  }
 },
 "nbformat": 4,
 "nbformat_minor": 1
}
