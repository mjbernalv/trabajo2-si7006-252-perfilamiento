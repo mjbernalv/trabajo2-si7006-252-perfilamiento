{
 "cells": [
  {
   "cell_type": "markdown",
   "metadata": {},
   "source": [
    "# <center> Procesamiento de datos a refined </center>"
   ]
  },
  {
   "cell_type": "markdown",
   "metadata": {},
   "source": [
    "## Librerías"
   ]
  },
  {
   "cell_type": "code",
   "execution_count": 1,
   "metadata": {},
   "outputs": [
    {
     "name": "stdout",
     "output_type": "stream",
     "text": [
      "Starting Spark application\n"
     ]
    },
    {
     "data": {
      "text/html": [
       "<table>\n",
       "<tr><th>ID</th><th>YARN Application ID</th><th>Kind</th><th>State</th><th>Spark UI</th><th>Driver log</th><th>User</th><th>Current session?</th></tr><tr><td>8</td><td>application_1761950954788_0009</td><td>pyspark</td><td>idle</td><td><a target=\"_blank\" href=\"http://ip-172-31-71-131.ec2.internal:20888/proxy/application_1761950954788_0009/\">Link</a></td><td><a target=\"_blank\" href=\"http://ip-172-31-76-66.ec2.internal:8042/node/containerlogs/container_1761950954788_0009_01_000001/livy\">Link</a></td><td>None</td><td>✔</td></tr></table>"
      ],
      "text/plain": [
       "<IPython.core.display.HTML object>"
      ]
     },
     "metadata": {},
     "output_type": "display_data"
    },
    {
     "data": {
      "application/vnd.jupyter.widget-view+json": {
       "model_id": "",
       "version_major": 2,
       "version_minor": 0
      },
      "text/plain": [
       "FloatProgress(value=0.0, bar_style='info', description='Progress:', layout=Layout(height='25px', width='50%'),…"
      ]
     },
     "metadata": {},
     "output_type": "display_data"
    },
    {
     "name": "stdout",
     "output_type": "stream",
     "text": [
      "SparkSession available as 'spark'.\n"
     ]
    },
    {
     "data": {
      "application/vnd.jupyter.widget-view+json": {
       "model_id": "",
       "version_major": 2,
       "version_minor": 0
      },
      "text/plain": [
       "FloatProgress(value=0.0, bar_style='info', description='Progress:', layout=Layout(height='25px', width='50%'),…"
      ]
     },
     "metadata": {},
     "output_type": "display_data"
    }
   ],
   "source": [
    "import re\n",
    "from pyspark.sql import SparkSession\n",
    "from pyspark.sql.functions import col\n",
    "from pyspark.sql import functions as F, Window\n",
    "from pyspark.sql.types import IntegerType, DoubleType"
   ]
  },
  {
   "cell_type": "markdown",
   "metadata": {},
   "source": [
    "## Funciones"
   ]
  },
  {
   "cell_type": "code",
   "execution_count": 2,
   "metadata": {
    "id": "Av-x8nEpkx7k"
   },
   "outputs": [
    {
     "data": {
      "application/vnd.jupyter.widget-view+json": {
       "model_id": "",
       "version_major": 2,
       "version_minor": 0
      },
      "text/plain": [
       "FloatProgress(value=0.0, bar_style='info', description='Progress:', layout=Layout(height='25px', width='50%'),…"
      ]
     },
     "metadata": {},
     "output_type": "display_data"
    }
   ],
   "source": [
    "def limpiar_nombre(nombre):\n",
    "    if nombre is None:\n",
    "        return \"Desconocido\"\n",
    "    # Reemplazar cualquier carácter que no sea letra o número por \"_\"\n",
    "    return re.sub(r'[^A-Za-z0-9_]', '_', nombre.strip())"
   ]
  },
  {
   "cell_type": "markdown",
   "metadata": {},
   "source": [
    "## Lectura de datos"
   ]
  },
  {
   "cell_type": "code",
   "execution_count": 3,
   "metadata": {
    "colab": {
     "base_uri": "https://localhost:8080/"
    },
    "id": "tLBLUkcsXmJz",
    "outputId": "30c7997e-a5f8-4ac9-bd33-3a4f0a4d08db"
   },
   "outputs": [
    {
     "data": {
      "application/vnd.jupyter.widget-view+json": {
       "model_id": "",
       "version_major": 2,
       "version_minor": 0
      },
      "text/plain": [
       "FloatProgress(value=0.0, bar_style='info', description='Progress:', layout=Layout(height='25px', width='50%'),…"
      ]
     },
     "metadata": {},
     "output_type": "display_data"
    },
    {
     "name": "stdout",
     "output_type": "stream",
     "text": [
      "Spark iniciado: <pyspark.sql.session.SparkSession object at 0x7fa214172e50>"
     ]
    }
   ],
   "source": [
    "spk = SparkSession.builder \\\n",
    "    .appName(\"trusted-to-refined-spark\") \\\n",
    "    .getOrCreate()\n",
    "\n",
    "print(\"Spark iniciado:\", spk)"
   ]
  },
  {
   "cell_type": "code",
   "execution_count": 4,
   "metadata": {
    "colab": {
     "base_uri": "https://localhost:8080/"
    },
    "id": "zZMGv3x_XcvZ",
    "outputId": "78652607-4d96-4d20-92a9-e4affea41405"
   },
   "outputs": [
    {
     "data": {
      "application/vnd.jupyter.widget-view+json": {
       "model_id": "",
       "version_major": 2,
       "version_minor": 0
      },
      "text/plain": [
       "FloatProgress(value=0.0, bar_style='info', description='Progress:', layout=Layout(height='25px', width='50%'),…"
      ]
     },
     "metadata": {},
     "output_type": "display_data"
    }
   ],
   "source": [
    "path_trusted = \"s3://s3-pi-perfilamiento-20252/trusted/\"\n",
    "df = spark.read.option(\"header\", \"true\").csv(path_trusted)"
   ]
  },
  {
   "cell_type": "code",
   "execution_count": 5,
   "metadata": {},
   "outputs": [
    {
     "data": {
      "application/vnd.jupyter.widget-view+json": {
       "model_id": "",
       "version_major": 2,
       "version_minor": 0
      },
      "text/plain": [
       "FloatProgress(value=0.0, bar_style='info', description='Progress:', layout=Layout(height='25px', width='50%'),…"
      ]
     },
     "metadata": {},
     "output_type": "display_data"
    },
    {
     "name": "stdout",
     "output_type": "stream",
     "text": [
      "+----------+---------+-----------------+----------+---------------------+-------------------+----------------+-------+---------------+--------+------------------------+--------+-------------------+----+------------+------------+--------------------+-------------------+-----+--------------+\n",
      "|codCliente|codPoliza|formaPagoVigencia|valorTotal|Valor_Total_Periodico|fechaInicioVigencia|fechaFinVigencia| estado|OpracionesGrupo|Vigencia|EstadoRenovacionesinicio|  ciudad|    tipoVinculacion|Edad|Tipo_Empresa|     tomador|         nomProducto|nomGrupoEmpresarial| Ramo|orden_vigencia|\n",
      "+----------+---------+-----------------+----------+---------------------+-------------------+----------------+-------+---------------+--------+------------------------+--------+-------------------+----+------------+------------+--------------------+-------------------+-----+--------------+\n",
      "|        37|       69|            Anual|  642179.0|             642179.0|         2023-03-01|      2026-03-01|Vigente|     Renovación|   Otros|    Vigencias Anteriores|MEDELLIN|Tomador - Asegurado|  31|   P Natural|Tiene poliza|           Plan Vive|               Sura| Vida|             1|\n",
      "|        37|      352|          Mensual| 1103798.0|              91983.0|         2025-04-01|      2026-04-01|Vigente|     Renovación|  Actual|                Renovado|MEDELLIN|Tomador - Asegurado|  31|   P Natural|Tiene poliza|Salud Para Dos Fa...|               Sura|Salud|             1|\n",
      "|        37|    80568|            Anual| 2612142.0|            2612142.0|         2025-01-22|      2026-01-22|Vigente|     Renovación|  Actual|                Renovado|MEDELLIN|Tomador - Asegurado|  31|   P Natural|Tiene poliza|Automoviles Indiv...|            Allianz|Autos|             1|\n",
      "|        39|     2771|          Mensual| 1929740.0|             160812.0|         2025-01-31|      2026-01-31|Vigente|     Renovación|  Actual|                Renovado|MEDELLIN|Tomador - Asegurado|  29|   P Natural|Tiene poliza|Salud Para Todos ...|               Sura|Salud|             1|\n",
      "|        58|        9|          Mensual| 1290025.0|             107502.0|         2025-04-03|      2026-04-03|Vigente|          Nueva|   Otros|    Vigencias Anteriores|MEDELLIN|Tomador - Asegurado|  32|   P Natural|Tiene poliza|Nuevos Productos ...|               Sura|Autos|             1|\n",
      "+----------+---------+-----------------+----------+---------------------+-------------------+----------------+-------+---------------+--------+------------------------+--------+-------------------+----+------------+------------+--------------------+-------------------+-----+--------------+\n",
      "only showing top 5 rows"
     ]
    }
   ],
   "source": [
    "df.show(5)"
   ]
  },
  {
   "cell_type": "markdown",
   "metadata": {},
   "source": [
    "## Procesamiento de datos para el modelo"
   ]
  },
  {
   "cell_type": "code",
   "execution_count": 6,
   "metadata": {
    "colab": {
     "base_uri": "https://localhost:8080/"
    },
    "id": "nfJOwLCVOhBU",
    "outputId": "5fe4fe19-837c-4649-8a01-00ccdfb0a842"
   },
   "outputs": [
    {
     "data": {
      "application/vnd.jupyter.widget-view+json": {
       "model_id": "",
       "version_major": 2,
       "version_minor": 0
      },
      "text/plain": [
       "FloatProgress(value=0.0, bar_style='info', description='Progress:', layout=Layout(height='25px', width='50%'),…"
      ]
     },
     "metadata": {},
     "output_type": "display_data"
    },
    {
     "name": "stdout",
     "output_type": "stream",
     "text": [
      "+----------+---------+-----------------+-----------+---------------------+-------------------+----------------+-----------+---------------+--------+------------------------+--------------------+-------------------+----+------------+------------+------------------------------------------------------+-------------------+-------------+--------------+------------+\n",
      "|codCliente|codPoliza|formaPagoVigencia|valorTotal |Valor_Total_Periodico|fechaInicioVigencia|fechaFinVigencia|estado     |OpracionesGrupo|Vigencia|EstadoRenovacionesinicio|ciudad              |tipoVinculacion    |Edad|Tipo_Empresa|tomador     |nomProducto                                           |nomGrupoEmpresarial|Ramo         |orden_vigencia|orden_poliza|\n",
      "+----------+---------+-----------------+-----------+---------------------+-------------------+----------------+-----------+---------------+--------+------------------------+--------------------+-------------------+----+------------+------------+------------------------------------------------------+-------------------+-------------+--------------+------------+\n",
      "|10000     |15283    |Anual            |8497197.0  |8497197.0            |2016-09-30         |2037-11-30      |Vigente    |Renovación     |Actual  |Vigente                 |OLANO ASESORES LTDA.|Tomador - Asegurado|55  |P Natural   |Tiene poliza|Renta Educativa Sura                                  |Sura               |Vida         |1             |1           |\n",
      "|10000     |14928    |Anual            |4360283.0  |4360283.0            |2025-01-20         |2026-01-20      |Vigente    |Renovación     |Actual  |Renovado                |OLANO ASESORES LTDA.|Tomador - Asegurado|55  |P Natural   |Tiene poliza|Nuevos Productos Autosura                             |Sura               |Autos        |1             |2           |\n",
      "|10000     |15313    |Anual            |621257.0   |621257.0             |2025-02-25         |2026-02-25      |Vigente    |Renovación     |Actual  |Renovado                |OLANO ASESORES LTDA.|Tomador - Asegurado|55  |P Natural   |Tiene poliza|Plan Crédito Protegido                                |Sura               |Vida         |1             |3           |\n",
      "|10000     |158077   |Anual            |1993095.0  |1993095.0            |2025-07-07         |2026-07-07      |Vigente    |Renovación     |Actual  |Renovado                |MEDELLIN            |Tomador - Asegurado|55  |P Natural   |Tiene poliza|Total Auto Hdi                                        |Hdi                |Autos        |1             |4           |\n",
      "|10000     |15325    |Anual            |1770480.0  |1770480.0            |2025-08-24         |2026-08-24      |Vigente    |Renovación     |Actual  |Renovado                |OLANO ASESORES LTDA.|Tomador - Asegurado|55  |P Natural   |Tiene poliza|Plan Crédito Protegido                                |Sura               |Vida         |1             |5           |\n",
      "|100001    |63481    |Mensual          |9938275.0  |828190.0             |2025-03-01         |2026-03-01      |Vigente    |Renovación     |Actual  |Renovado                |MEDELLIN            |Tomador - Asegurado|49  |P Natural   |Tiene poliza|Plan Salud Global Familiar                            |Sura               |Salud        |1             |1           |\n",
      "|100003    |63628    |Anual            |222824.0   |222824.0             |2025-07-29         |2026-07-29      |Vigente    |Renovación     |Anterior|Vigencias Anteriores    |MEDELLIN            |Tomador - Asegurado|45  |P Natural   |Tiene poliza|Plan Crédito Protegido                                |Sura               |Vida         |1             |1           |\n",
      "|100003    |63530    |Mensual          |1666274.0  |138856.0             |2025-08-26         |2026-08-26      |Vigente    |Renovación     |Otros   |Vigencias Anteriores    |MEDELLIN            |Tomador - Asegurado|45  |P Natural   |Tiene poliza|Salud Para Todos Integral Familiar                    |Sura               |Salud        |1             |2           |\n",
      "|100004    |63459    |Mensual          |8355955.0  |696330.0             |2025-05-01         |2026-05-01      |Vigente    |Renovación     |Actual  |Renovado                |MEDELLIN            |Tomador            |41  |P Natural   |Tiene poliza|Plan Salud Evoluciona Familiar                        |Sura               |Salud        |1             |1           |\n",
      "|100005    |96956    |Mensual          |2.4617741E7|2051478.0            |2025-04-30         |2026-04-30      |Vigente    |Renovación     |Actual  |Renovado                |MEDELLIN            |Tomador - Asegurado|40  |P Natural   |Tiene poliza|Plan Salud Global Familiar                            |Sura               |Salud        |1             |1           |\n",
      "|100007    |63591    |Mensual          |1936176.0  |161348.0             |2024-09-29         |2025-09-29      |Vigente    |Renovación     |Anterior|Vigencias Anteriores    |MEDELLIN            |Tomador - Asegurado|57  |P Natural   |Tiene poliza|Plan Vive                                             |Sura               |Vida         |1             |1           |\n",
      "|100010    |63702    |Anual            |789165.0   |789165.0             |2024-11-21         |2025-11-21      |Vigente    |Renovación     |Anterior|Vigencias Anteriores    |MEDELLIN            |Tomador - Asegurado|64  |P Natural   |Tiene poliza|Plan Crédito Protegido                                |Sura               |Vida         |1             |1           |\n",
      "|100012    |63290    |Anual            |1841193.0  |1841193.0            |2025-07-22         |2026-07-22      |Vigente    |Renovación     |Actual  |Renovado                |MEDELLIN            |Tomador - Asegurado|69  |P Natural   |Tiene poliza|Nuevos Productos Autosura                             |Sura               |Autos        |1             |1           |\n",
      "|100012    |63291    |Anual            |1153202.0  |1153202.0            |2025-07-22         |2026-07-22      |Vigente    |Renovación     |Actual  |Renovado                |MEDELLIN            |Tomador - Asegurado|69  |P Natural   |Tiene poliza|Nuevos Productos Autosura                             |Sura               |Autos        |1             |1           |\n",
      "|100012    |63296    |Anual            |1277977.0  |1277977.0            |2025-07-22         |2026-07-22      |Vigente    |Renovación     |Actual  |Renovado                |MEDELLIN            |Tomador - Asegurado|69  |P Natural   |Tiene poliza|Nuevos Productos Autosura                             |Sura               |Autos        |1             |1           |\n",
      "|100012    |63321    |Anual            |1257680.0  |1257680.0            |2025-07-27         |2026-07-27      |Vigente    |Renovación     |Actual  |Renovado                |MEDELLIN            |Tomador - Asegurado|69  |P Natural   |Tiene poliza|Nuevos Productos Autosura                             |Sura               |Autos        |1             |2           |\n",
      "|100014    |63488    |Mensual          |1.7424187E7|1452016.0            |2024-11-02         |2025-11-02      |Vigente    |Renovación     |Anterior|Vigencias Anteriores    |MEDELLIN            |Tomador - Asegurado|59  |P Natural   |Tiene poliza|Plan Salud Clásico Familiar                           |Sura               |Salud        |1             |1           |\n",
      "|100016    |63701    |Anual            |245772.0   |245772.0             |2024-11-05         |2025-11-05      |Vigente    |Renovación     |Anterior|Vigencias Anteriores    |MEDELLIN            |Tomador - Asegurado|55  |P Natural   |Tiene poliza|Plan Crédito Protegido                                |Sura               |Vida         |1             |1           |\n",
      "|100017    |63322    |Mensual          |1471085.0  |133735.0             |2025-07-09         |2026-07-09      |Vigente    |Renovación     |Actual  |Renovado                |MEDELLIN            |Tomador - Asegurado|54  |P Natural   |Tiene poliza|Nuevos Productos Autosura                             |Sura               |Autos        |1             |1           |\n",
      "|100019    |99483    |Anual            |385490.0   |385490.0             |2025-05-07         |2026-05-07      |Vigente    |Renovación     |Actual  |Renovado                |MEDELLIN            |Tomador - Asegurado|50  |P Natural   |Tiene poliza|Plan Crédito Protegido                                |Sura               |Vida         |1             |1           |\n",
      "|10002     |15210    |Mensual          |1.5615117E7|1301260.0            |2025-03-07         |2026-03-07      |Vigente    |Renovación     |Otros   |Vigencias Anteriores    |OLANO ASESORES LTDA.|Tomador - Asegurado|54  |P Natural   |Tiene poliza|Plan Salud Global Familiar                            |Sura               |Salud        |1             |1           |\n",
      "|100024    |127239   |Anual            |3541054.0  |3541054.0            |2024-11-16         |2025-11-16      |Vigente    |Renovación     |Anterior|Vigencias Anteriores    |MEDELLIN            |Tomador            |0   |P Natural   |Tiene poliza|Nuevo Producto Automoviles                            |Bolivar            |Autos        |1             |1           |\n",
      "|100024    |158154   |Anual            |2832868.0  |2832868.0            |2024-12-10         |2025-12-10      |Vigente    |Renovación     |Anterior|Vigencias Anteriores    |MEDELLIN            |Tomador            |0   |P Natural   |Tiene poliza|Total Car                                             |Hdi                |Autos        |1             |2           |\n",
      "|100024    |63475    |Mensual          |7251955.0  |604330.0             |2025-07-24         |2026-07-24      |Vigente    |Renovación     |Anterior|Vigencias Anteriores    |MEDELLIN            |Tomador            |0   |P Natural   |Tiene poliza|Plan Salud Clásico Familiar                           |Sura               |Salud        |1             |3           |\n",
      "|100027    |63598    |Mensual          |1114186.0  |92849.0              |2024-09-13         |2025-09-13      |Vigente    |Renovación     |Anterior|Vigencias Anteriores    |MEDELLIN            |Tomador - Asegurado|40  |P Natural   |Tiene poliza|Plan Vive                                             |Sura               |Vida         |1             |1           |\n",
      "|10003     |15345    |Trimestral       |3693333.0  |923333.0             |2025-11-23         |2026-11-23      |Vigente    |Renovación     |Anterior|Vigencias Anteriores    |OLANO ASESORES LTDA.|Tomador - Asegurado|54  |P Natural   |Tiene poliza|Plan Vive                                             |Sura               |Vida         |1             |1           |\n",
      "|100030    |63586    |Mensual          |590659.0   |49222.0              |2025-06-06         |2026-06-06      |Vigente    |Renovación     |Anterior|Vigencias Anteriores    |MEDELLIN            |Tomador - Asegurado|42  |P Natural   |Tiene poliza|Plan Vive                                             |Sura               |Vida         |1             |1           |\n",
      "|100034    |63388    |Sin información  |345065.0   |345065.0             |2025-01-13         |2026-01-13      |Vigente    |Renovación     |Actual  |Renovado                |MEDELLIN            |Tomador - Asegurado|40  |P Natural   |Tiene poliza|Seguro de Incendio GW                                 |Sura               |Patrimoniales|1             |1           |\n",
      "|100036    |63560    |Mensual          |1103798.0  |91983.0              |2025-06-12         |2026-06-12      |Vigente    |Renovación     |Actual  |Renovado                |MEDELLIN            |Tomador - Asegurado|40  |P Natural   |Tiene poliza|Salud Para Dos Familiar                               |Sura               |Salud        |1             |1           |\n",
      "|10004     |14919    |Mensual          |2694662.0  |244969.0             |2025-01-25         |2026-01-25      |Vigente    |Renovación     |Actual  |Renovado                |OLANO ASESORES LTDA.|Tomador - Asegurado|53  |P Natural   |Tiene poliza|Nuevos Productos Autosura                             |Sura               |Autos        |1             |1           |\n",
      "|10004     |15223    |Mensual          |1.2612272E7|1051023.0            |2025-08-20         |2026-08-20      |Vigente    |Renovación     |Otros   |Vigencias Anteriores    |OLANO ASESORES LTDA.|Tomador - Asegurado|53  |P Natural   |Tiene poliza|Plan Salud Clásico Familiar                           |Sura               |Salud        |1             |2           |\n",
      "|100040    |63520    |Semestral        |7977205.0  |3988602.0            |2025-06-01         |2026-06-01      |Vigente    |Renovación     |Actual  |Renovado                |MEDELLIN            |Tomador            |40  |P Natural   |Tiene poliza|Plan Salud Evoluciona Familiar                        |Sura               |Salud        |1             |1           |\n",
      "|100041    |63357    |Anual            |342563.0   |342563.0             |2023-07-03         |2026-11-30      |Vigente    |Renovación     |Actual  |Vigente                 |MEDELLIN            |Tomador - Asegurado|76  |P Natural   |Tiene poliza|Seguro de Cumplimiento                                |Sura               |Cumplimiento |1             |1           |\n",
      "|100043    |63309    |Anual            |2877913.0  |2877913.0            |2025-05-29         |2026-05-29      |Vigente    |Renovación     |Actual  |Renovado                |MEDELLIN            |Tomador - Asegurado|74  |P Natural   |Tiene poliza|Nuevos Productos Autosura                             |Sura               |Autos        |1             |1           |\n",
      "|100048    |63525    |Mensual          |1941811.0  |161818.0             |2025-06-01         |2026-06-01      |Vigente    |Renovación     |Anterior|Vigencias Anteriores    |MEDELLIN            |Tomador - Asegurado|49  |P Natural   |Tiene poliza|Salud Para Todos Integral Familiar                    |Sura               |Salud        |1             |1           |\n",
      "|100050    |63411    |Sin información  |761827.0   |761827.0             |2024-09-18         |2025-09-18      |Vigente    |Renovación     |Anterior|Vigencias Anteriores    |MEDELLIN            |Tomador - Asegurado|47  |P Natural   |Tiene poliza|Seguro de Incendio GW                                 |Sura               |Patrimoniales|1             |1           |\n",
      "|100051    |63329    |Mensual          |719656.0   |59971.0              |2024-10-04         |2025-10-04      |Vigente    |Renovación     |Anterior|Vigencias Anteriores    |MEDELLIN            |Tomador - Asegurado|42  |P Natural   |Tiene poliza|Nuevos Productos Autosura                             |Sura               |Autos        |1             |1           |\n",
      "|100053    |63482    |Mensual          |2.6306645E7|2192220.0            |2024-10-01         |2025-10-01      |Vigente    |Renovación     |Anterior|Vigencias Anteriores    |MEDELLIN            |Tomador - Asegurado|46  |P Natural   |Tiene poliza|Plan Salud Global Familiar                            |Sura               |Salud        |1             |1           |\n",
      "|100054    |63483    |Mensual          |7015214.0  |584601.0             |2024-11-01         |2025-11-01      |Vigente    |Renovación     |Anterior|Vigencias Anteriores    |MEDELLIN            |Tomador - Asegurado|41  |P Natural   |Tiene poliza|Plan Salud Global Familiar                            |Sura               |Salud        |1             |1           |\n",
      "|100056    |63543    |Mensual          |1601561.0  |133463.0             |2024-10-01         |2025-10-01      |Vigente    |Renovación     |Anterior|Vigencias Anteriores    |MEDELLIN            |Tomador - Asegurado|40  |P Natural   |Tiene poliza|Salud Para Todos Integral Familiar                    |Sura               |Salud        |1             |1           |\n",
      "|100057    |63630    |Anual            |100006.0   |100006.0             |2022-04-06         |2026-04-06      |Vigente    |Renovación     |Anterior|Vigencias Anteriores    |MEDELLIN            |Tomador - Asegurado|42  |P Natural   |Tiene poliza|Plan Crédito Protegido                                |Sura               |Vida         |1             |1           |\n",
      "|100058    |63368    |Anual            |247552.0   |247552.0             |2024-11-19         |2028-03-15      |Vigente    |Nueva          |Actual  |Vigente                 |MEDELLIN            |Tomador - Asegurado|48  |P Natural   |Tiene poliza|Seguro de Cumplimiento                                |Sura               |Cumplimiento |1             |1           |\n",
      "|10006     |15327    |Mensual          |1604488.0  |133707.0             |2025-11-01         |2026-11-01      |Vigente    |Renovación     |Otros   |Vigencias Anteriores    |OLANO ASESORES LTDA.|Tomador - Asegurado|51  |P Natural   |Tiene poliza|Plan Vive                                             |Sura               |Vida         |1             |1           |\n",
      "|100062    |63603    |Anual            |1787144.0  |1787144.0            |2025-06-10         |2026-06-10      |Vigente    |Renovación     |Anterior|Vigencias Anteriores    |MEDELLIN            |Tomador - Asegurado|59  |P Natural   |Tiene poliza|Plan Vive                                             |Sura               |Vida         |1             |1           |\n",
      "|100066    |63607    |Anual            |1791780.0  |1791780.0            |2024-09-29         |2025-09-29      |Vigente    |Renovación     |Anterior|Vigencias Anteriores    |MEDELLIN            |Tomador - Asegurado|55  |P Natural   |Tiene poliza|Plan Vive                                             |Sura               |Vida         |1             |1           |\n",
      "|100067    |63615    |Anual            |3214308.0  |3214308.0            |2024-11-14         |2025-11-14      |Vigente    |Renovación     |Anterior|Vigencias Anteriores    |MEDELLIN            |Tomador - Asegurado|55  |P Natural   |Tiene poliza|Plan Vive                                             |Sura               |Vida         |1             |1           |\n",
      "|100067    |63426    |Mensual          |9100904.0  |758409.0             |2024-12-18         |2025-12-18      |Vigente    |Renovación     |Anterior|Vigencias Anteriores    |MEDELLIN            |Tomador - Asegurado|55  |P Natural   |Tiene poliza|Plan Salud Evoluciona Familiar                        |Sura               |Salud        |1             |2           |\n",
      "|100067    |63334    |Anual            |1421880.0  |1421880.0            |2025-03-21         |2026-03-21      |Vigente    |Renovación     |Actual  |Renovado                |MEDELLIN            |Tomador - Asegurado|55  |P Natural   |Tiene poliza|Nuevos Productos Autosura                             |Sura               |Autos        |1             |3           |\n",
      "|10007     |14947    |Anual            |567855.0   |567855.0             |2025-09-03         |2026-09-03      |Vigente    |Renovación     |Otros   |Vigencias Anteriores    |OLANO ASESORES LTDA.|Tomador - Asegurado|49  |P Natural   |Tiene poliza|Nuevos Productos Autosura                             |Sura               |Autos        |1             |1           |\n",
      "|100073    |63625    |Mensual          |4416363.0  |368030.0             |2018-01-27         |2026-01-27      |Vigente    |Renovación     |Actual  |Renovado                |MEDELLIN            |Tomador - Asegurado|54  |P Natural   |Tiene poliza|Plan Vida Personal                                    |Sura               |Vida         |1             |1           |\n",
      "|100073    |63432    |Mensual          |6490978.0  |540915.0             |2025-01-30         |2026-01-30      |Vigente    |Renovación     |Actual  |Renovado                |MEDELLIN            |Tomador - Asegurado|54  |P Natural   |Tiene poliza|Plan Salud Clásico Familiar                           |Sura               |Salud        |1             |2           |\n",
      "|100073    |63428    |Mensual          |8008207.0  |667351.0             |2025-03-25         |2026-03-25      |Vigente    |Renovación     |Actual  |Renovado                |MEDELLIN            |Tomador - Asegurado|54  |P Natural   |Tiene poliza|Plan Salud Evoluciona Familiar                        |Sura               |Salud        |1             |3           |\n",
      "|100075    |127297   |Anual            |508900.0   |508900.0             |2024-05-22         |2025-05-22      |No Renovada|Nueva          |Anterior|No Renovada             |MEDELLIN            |Tomador - Asegurado|51  |P Natural   |Tiene poliza|Proteccion De Creditos Individual                     |Bolivar            |Vida         |1             |1           |\n",
      "|100075    |127296   |Anual            |508900.0   |508900.0             |2024-05-23         |2025-05-23      |No Renovada|Nueva          |Anterior|No Renovada             |MEDELLIN            |Tomador - Asegurado|51  |P Natural   |Tiene poliza|Proteccion De Creditos Individual                     |Bolivar            |Vida         |1             |2           |\n",
      "|100075    |63596    |Mensual          |1.4726265E7|1227189.0            |2024-10-12         |2025-10-12      |Vigente    |Renovación     |Anterior|Vigencias Anteriores    |MEDELLIN            |Tomador - Asegurado|51  |P Natural   |Tiene poliza|Plan Vive                                             |Sura               |Vida         |1             |3           |\n",
      "|100075    |63719    |Anual            |726924.0   |726924.0             |2024-11-27         |2025-11-27      |Vigente    |Renovación     |Anterior|Vigencias Anteriores    |MEDELLIN            |Tomador - Asegurado|51  |P Natural   |Tiene poliza|Plan Crédito Protegido                                |Sura               |Vida         |1             |4           |\n",
      "|10008     |15094    |Anual            |100000.0   |100000.0             |2024-01-27         |2027-05-31      |Vigente    |Renovación     |Actual  |Vigente                 |OLANO ASESORES LTDA.|Tomador - Asegurado|48  |P Natural   |Tiene poliza|Seguro de Cumplimiento                                |Sura               |Cumplimiento |1             |1           |\n",
      "|10008     |133151   |Anual            |100000.0   |100000.0             |2025-05-26         |2027-11-30      |Vigente    |Renovación     |Actual  |Renovado                |OLANO ASESORES LTDA.|Tomador - Asegurado|48  |P Natural   |Tiene poliza|Seguro de Cumplimiento                                |Sura               |Cumplimiento |1             |2           |\n",
      "|100084    |63333    |Mensual          |4601422.0  |418311.0             |2024-12-27         |2025-12-27      |Vigente    |Renovación     |Anterior|Vigencias Anteriores    |MEDELLIN            |Tomador - Asegurado|50  |P Natural   |Tiene poliza|Nuevos Productos Autosura                             |Sura               |Autos        |1             |1           |\n",
      "|100084    |127242   |Anual            |5100536.0  |5100536.0            |2024-12-27         |2025-12-27      |Vigente    |Renovación     |Anterior|Vigencias Anteriores    |MEDELLIN            |Tomador - Asegurado|50  |P Natural   |Tiene poliza|Nuevo Producto Automoviles                            |Bolivar            |Autos        |1             |1           |\n",
      "|100088    |63313    |Mensual          |3317079.0  |301553.0             |2024-10-04         |2025-10-04      |Vigente    |Renovación     |Anterior|Vigencias Anteriores    |MEDELLIN            |Tomador - Asegurado|49  |P Natural   |Tiene poliza|Nuevos Productos Autosura                             |Sura               |Autos        |1             |1           |\n",
      "|100089    |63355    |Anual            |712656.0   |712656.0             |2024-11-30         |2025-11-30      |Vigente    |Renovación     |Otros   |Vigencias Anteriores    |MEDELLIN            |Tomador - Asegurado|48  |P Natural   |Tiene poliza|Seguro De Cumplimiento Para Contratos De Arrendamiento|Sura               |Cumplimiento |1             |1           |\n",
      "|10009     |15133    |Anual            |100000.0   |100000.0             |2024-04-18         |2027-07-17      |Vigente    |Renovación     |Actual  |Vigente                 |OLANO ASESORES LTDA.|Tomador - Asegurado|45  |P Natural   |Tiene poliza|Seguro de Cumplimiento                                |Sura               |Cumplimiento |1             |1           |\n",
      "|100092    |63561    |Mensual          |7828153.0  |652346.0             |2025-06-11         |2026-06-11      |Vigente    |Renovación     |Anterior|Vigencias Anteriores    |MEDELLIN            |Tomador - Asegurado|46  |P Natural   |Tiene poliza|Plan Salud Clásico Familiar                           |Sura               |Salud        |1             |1           |\n",
      "|100093    |63372    |Anual            |3892403.0  |3892403.0            |2024-08-13         |2025-08-13      |Vigente    |Renovación     |Anterior|Vigencias Anteriores    |MEDELLIN            |Tomador - Asegurado|45  |P Natural   |Tiene poliza|Hogar Sura                                            |Sura               |Patrimoniales|1             |1           |\n",
      "|100094    |63611    |Mensual          |1122047.0  |93504.0              |2025-06-10         |2026-06-10      |Vigente    |Renovación     |Anterior|Vigencias Anteriores    |MEDELLIN            |Tomador            |0   |P Natural   |Tiene poliza|Plan Vive                                             |Sura               |Vida         |1             |1           |\n",
      "|100095    |63340    |Anual            |6934861.0  |6934861.0            |2025-01-07         |2026-01-07      |Vigente    |Renovación     |Actual  |Renovado                |MEDELLIN            |Tomador - Asegurado|43  |P Natural   |Tiene poliza|Nuevos Productos Autosura                             |Sura               |Autos        |1             |1           |\n",
      "|100096    |63610    |Mensual          |5023863.0  |418655.0             |2024-12-19         |2025-12-19      |Vigente    |Renovación     |Anterior|Vigencias Anteriores    |MEDELLIN            |Tomador - Asegurado|42  |P Natural   |Tiene poliza|Plan Vida Personal                                    |Sura               |Vida         |1             |1           |\n",
      "|100098    |63473    |Mensual          |5984320.0  |498693.0             |2024-11-22         |2025-11-22      |Vigente    |Renovación     |Anterior|Vigencias Anteriores    |MEDELLIN            |Tomador - Asegurado|41  |P Natural   |Tiene poliza|Plan Salud Clásico Familiar                           |Sura               |Salud        |1             |1           |\n",
      "|10010     |15236    |Mensual          |1.5399216E7|1283268.0            |2025-06-08         |2026-06-08      |Vigente    |Renovación     |Otros   |Vigencias Anteriores    |OLANO ASESORES LTDA.|Tomador - Asegurado|44  |P Natural   |Tiene poliza|Plan Salud Clásico Familiar                           |Sura               |Salud        |1             |1           |\n",
      "|100100    |63477    |Mensual          |5840680.0  |486723.0             |2024-12-01         |2025-12-01      |Vigente    |Renovación     |Anterior|Vigencias Anteriores    |MEDELLIN            |Tomador - Asegurado|40  |P Natural   |Tiene poliza|Plan Salud Clásico Familiar                           |Sura               |Salud        |1             |1           |\n",
      "|100101    |63526    |Mensual          |1929740.0  |160812.0             |2025-03-01         |2026-03-01      |Vigente    |Renovación     |Actual  |Renovado                |MEDELLIN            |Tomador - Asegurado|39  |P Natural   |Tiene poliza|Salud Para Todos Integral Familiar                    |Sura               |Salud        |1             |1           |\n",
      "|100104    |63653    |Anual            |481459.0   |481459.0             |2024-08-22         |2025-08-22      |Vigente    |Renovación     |Anterior|Vigencias Anteriores    |MEDELLIN            |Tomador - Asegurado|44  |P Natural   |Tiene poliza|Plan Crédito Protegido                                |Sura               |Vida         |1             |1           |\n",
      "|100106    |63514    |Mensual          |7971793.0  |664316.0             |2025-05-16         |2026-05-16      |Vigente    |Renovación     |Anterior|Vigencias Anteriores    |MEDELLIN            |Tomador - Asegurado|50  |P Natural   |Tiene poliza|Plan Salud Clásico Familiar                           |Sura               |Salud        |1             |1           |\n",
      "|10011     |15284    |Mensual          |4934349.0  |411196.0             |2025-04-02         |2026-04-02      |Vigente    |Renovación     |Actual  |Renovado                |OLANO ASESORES LTDA.|Tomador            |45  |P Natural   |Tiene poliza|Plan Salud Clásico Familiar                           |Sura               |Salud        |1             |1           |\n",
      "|10012     |15113    |Anual            |460137.0   |41831.0              |2025-11-21         |2026-11-21      |Vigente    |Renovación     |Otros   |Vigencias Anteriores    |OLANO ASESORES LTDA.|Tomador - Asegurado|44  |P Natural   |Tiene poliza|Hogar Sura                                            |Sura               |Patrimoniales|1             |1           |\n",
      "|10014     |15353    |Mensual          |2779923.0  |231660.0             |2020-05-21         |2026-05-21      |Vigente    |Renovación     |Anterior|Vigencias Anteriores    |OLANO ASESORES LTDA.|Tomador - Asegurado|43  |P Natural   |Tiene poliza|Plan Vive                                             |Sura               |Vida         |1             |1           |\n",
      "|10014     |15234    |Mensual          |2.210515E7 |1842096.0            |2025-02-28         |2026-02-28      |Vigente    |Renovación     |Otros   |Vigencias Anteriores    |OLANO ASESORES LTDA.|Tomador - Asegurado|43  |P Natural   |Tiene poliza|Plan Salud Global Familiar                            |Sura               |Salud        |1             |2           |\n",
      "|10014     |99402    |Mensual          |2641176.0  |220098.0             |2025-05-05         |2026-05-05      |Vigente    |Renovación     |Actual  |Renovado                |MEDELLIN            |Tomador - Asegurado|43  |P Natural   |Tiene poliza|Automoviles Individual Livianos Particulares          |Allianz            |Autos        |1             |3           |\n",
      "|10015     |15129    |Sin información  |670626.0   |670626.0             |2025-02-24         |2026-02-24      |Vigente    |Renovación     |Otros   |Vigencias Anteriores    |OLANO ASESORES LTDA.|Tomador - Asegurado|43  |P Natural   |Tiene poliza|Seguro de Incendio GW                                 |Sura               |Patrimoniales|1             |1           |\n",
      "|10016     |15100    |Anual            |154760.0   |154760.0             |2023-09-11         |2026-12-11      |Vigente    |Renovación     |Actual  |Vigente                 |OLANO ASESORES LTDA.|Tomador - Asegurado|43  |P Natural   |Tiene poliza|Seguro de Cumplimiento                                |Sura               |Cumplimiento |1             |1           |\n",
      "|10017     |15326    |Semestral        |2870510.0  |1435255.0            |2023-12-14         |2025-12-14      |Vigente    |Renovación     |Otros   |Vigencias Anteriores    |OLANO ASESORES LTDA.|Tomador - Asegurado|41  |P Natural   |Tiene poliza|Plan Vive                                             |Sura               |Vida         |1             |1           |\n",
      "|10018     |15252    |Mensual          |4281039.0  |356753.0             |2025-10-30         |2026-10-30      |Vigente    |Renovación     |Otros   |Vigencias Anteriores    |OLANO ASESORES LTDA.|Tomador            |41  |P Natural   |Tiene poliza|Plan Salud Clásico Familiar                           |Sura               |Salud        |1             |1           |\n",
      "|10019     |15351    |Mensual          |2331338.0  |194278.0             |2025-07-31         |2026-07-31      |Vigente    |Renovación     |Otros   |Vigencias Anteriores    |OLANO ASESORES LTDA.|Tomador - Asegurado|41  |P Natural   |Tiene poliza|Plan Vive                                             |Sura               |Vida         |1             |1           |\n",
      "|10020     |15257    |Mensual          |1902207.0  |158517.0             |2019-02-27         |2026-02-27      |Vigente    |Renovación     |Anterior|Vigencias Anteriores    |OLANO ASESORES LTDA.|Tomador - Asegurado|41  |P Natural   |Tiene poliza|Plan Vive                                             |Sura               |Vida         |1             |1           |\n",
      "|10020     |15290    |Anual            |1738424.0  |1738424.0            |2019-02-28         |2046-10-31      |Vigente    |Renovación     |Actual  |Vigente                 |OLANO ASESORES LTDA.|Tomador - Asegurado|41  |P Natural   |Tiene poliza|Renta Pensional Suramericana                          |Sura               |Vida         |1             |2           |\n",
      "|10020     |15230    |Mensual          |7296597.0  |608050.0             |2025-08-19         |2026-08-19      |Vigente    |Renovación     |Otros   |Vigencias Anteriores    |OLANO ASESORES LTDA.|Tomador - Asegurado|41  |P Natural   |Tiene poliza|Plan Salud Evoluciona Familiar                        |Sura               |Salud        |1             |3           |\n",
      "|10020     |158078   |Anual            |3084924.0  |3084924.0            |2025-09-19         |2026-09-19      |Vigente    |Renovación     |Anterior|Vigencias Anteriores    |MEDELLIN            |Tomador - Asegurado|41  |P Natural   |Tiene poliza|Total Auto Hdi                                        |Hdi                |Autos        |1             |4           |\n",
      "|10021     |15337    |Anual            |6421862.0  |6421862.0            |2020-05-05         |2026-05-05      |Vigente    |Renovación     |Anterior|Vigencias Anteriores    |OLANO ASESORES LTDA.|Tomador - Asegurado|40  |P Natural   |Tiene poliza|Plan Vive                                             |Sura               |Vida         |1             |1           |\n",
      "|10021     |15338    |Anual            |609714.0   |609714.0             |2024-11-12         |2025-11-12      |Vigente    |Renovación     |Actual  |En Proceso              |OLANO ASESORES LTDA.|Tomador - Asegurado|40  |P Natural   |Tiene poliza|Plan Crédito Protegido                                |Sura               |Vida         |1             |2           |\n",
      "|10021     |160543   |Anual            |409833.0   |409833.0             |2025-06-25         |2026-06-25      |Vigente    |Renovación     |Otros   |Vigencias Anteriores    |MEDELLIN            |Tomador - Asegurado|40  |P Natural   |Tiene poliza|Allianz Hogar                                         |Allianz            |Patrimoniales|1             |3           |\n",
      "|10021     |15296    |Anual            |1281352.0  |1281352.0            |2025-07-05         |2026-07-05      |Vigente    |Renovación     |Anterior|Vigencias Anteriores    |OLANO ASESORES LTDA.|Tomador - Asegurado|40  |P Natural   |Tiene poliza|Plan Crédito Protegido                                |Sura               |Vida         |1             |4           |\n",
      "|10022     |15259    |Mensual          |1.3632992E7|1136083.0            |2024-12-27         |2025-12-27      |Vigente    |Renovación     |Anterior|Vigencias Anteriores    |OLANO ASESORES LTDA.|Tomador - Asegurado|74  |P Natural   |Tiene poliza|Plan Vida Personal                                    |Sura               |Vida         |1             |1           |\n",
      "|10023     |15180    |Anual            |297500.0   |297500.0             |2025-05-31         |2026-05-31      |Vigente    |Renovación     |Otros   |Vigencias Anteriores    |OLANO ASESORES LTDA.|Tomador - Asegurado|51  |P Natural   |Tiene poliza|R.C. D Y O Host Gw                                    |Sura               |Patrimoniales|1             |1           |\n",
      "|10025     |58666    |Anual            |620233.0   |620233.0             |2025-03-10         |2026-03-10      |Vigente    |Renovación     |Actual  |Renovado                |OLANO ASESORES LTDA.|Tomador - Asegurado|47  |P Natural   |Tiene poliza|Plan Crédito Protegido                                |Sura               |Vida         |1             |1           |\n",
      "|100253    |63733    |Mensual          |5007558.0  |417296.0             |2024-12-12         |2025-12-12      |Vigente    |Renovación     |Anterior|Vigencias Anteriores    |MEDELLIN            |Tomador            |38  |P Natural   |Tiene poliza|Pac - 60 Más                                          |Sura               |Salud        |1             |1           |\n",
      "|100260    |63729    |Mensual          |4509156.0  |375763.0             |2025-01-11         |2026-01-11      |Vigente    |Renovación     |Actual  |Renovado                |MEDELLIN            |Tomador            |32  |P Natural   |Tiene poliza|Pac - 60 Más                                          |Sura               |Salud        |1             |1           |\n",
      "|10027     |15334    |Anual            |1193544.0  |1193544.0            |2020-12-28         |2025-12-28      |Vigente    |Renovación     |Otros   |Vigencias Anteriores    |OLANO ASESORES LTDA.|Tomador            |0   |P Natural   |Tiene poliza|Plan Crédito Protegido                                |Sura               |Vida         |1             |1           |\n",
      "|100279    |63728    |Mensual          |5203646.0  |433637.0             |2025-04-20         |2026-04-20      |Vigente    |Renovación     |Actual  |Renovado                |MEDELLIN            |Tomador            |33  |P Natural   |Tiene poliza|Pac - 60 Más                                          |Sura               |Salud        |1             |1           |\n",
      "|10028     |15157    |Sin información  |107100.0   |107100.0             |2024-12-20         |2025-12-20      |Vigente    |Renovación     |Otros   |Vigencias Anteriores    |OLANO ASESORES LTDA.|Tomador - Asegurado|34  |P Natural   |Tiene poliza|Seguro de Incendio GW                                 |Sura               |Patrimoniales|1             |1           |\n",
      "+----------+---------+-----------------+-----------+---------------------+-------------------+----------------+-----------+---------------+--------+------------------------+--------------------+-------------------+----+------------+------------+------------------------------------------------------+-------------------+-------------+--------------+------------+\n",
      "only showing top 100 rows"
     ]
    }
   ],
   "source": [
    "# Crear ventana por cliente, ordenando por la fecha de inicio\n",
    "window_spec = Window.partitionBy(\"codCliente\").orderBy(F.asc(\"fechaInicioVigencia\"))\n",
    "\n",
    "# Crear columna orden_poliza: asigna el mismo número a pólizas con igual fecha\n",
    "df_final = df.withColumn(\"orden_poliza\", F.dense_rank().over(window_spec))\n",
    "\n",
    "df_final.orderBy(\"codCliente\", \"orden_poliza\").show(100, truncate=False)"
   ]
  },
  {
   "cell_type": "code",
   "execution_count": 7,
   "metadata": {
    "colab": {
     "base_uri": "https://localhost:8080/"
    },
    "id": "pckzKK7pRFOK",
    "outputId": "c4b9159c-83a3-43cd-bdbc-c99147affe8e"
   },
   "outputs": [
    {
     "data": {
      "application/vnd.jupyter.widget-view+json": {
       "model_id": "",
       "version_major": 2,
       "version_minor": 0
      },
      "text/plain": [
       "FloatProgress(value=0.0, bar_style='info', description='Progress:', layout=Layout(height='25px', width='50%'),…"
      ]
     },
     "metadata": {},
     "output_type": "display_data"
    },
    {
     "name": "stdout",
     "output_type": "stream",
     "text": [
      "+----------+---------+-----------------+-----------+---------------------+-------------------+----------------+-------+---------------+--------+------------------------+--------------------+-------------------+----+------------+------------+----------------------------------+-------------------+-----+--------------+------------+\n",
      "|codCliente|codPoliza|formaPagoVigencia|valorTotal |Valor_Total_Periodico|fechaInicioVigencia|fechaFinVigencia|estado |OpracionesGrupo|Vigencia|EstadoRenovacionesinicio|ciudad              |tipoVinculacion    |Edad|Tipo_Empresa|tomador     |nomProducto                       |nomGrupoEmpresarial|Ramo |orden_vigencia|orden_poliza|\n",
      "+----------+---------+-----------------+-----------+---------------------+-------------------+----------------+-------+---------------+--------+------------------------+--------------------+-------------------+----+------------+------------+----------------------------------+-------------------+-----+--------------+------------+\n",
      "|10000     |15283    |Anual            |8497197.0  |8497197.0            |2016-09-30         |2037-11-30      |Vigente|Renovación     |Actual  |Vigente                 |OLANO ASESORES LTDA.|Tomador - Asegurado|55  |P Natural   |Tiene poliza|Renta Educativa Sura              |Sura               |Vida |1             |1           |\n",
      "|10000     |14928    |Anual            |4360283.0  |4360283.0            |2025-01-20         |2026-01-20      |Vigente|Renovación     |Actual  |Renovado                |OLANO ASESORES LTDA.|Tomador - Asegurado|55  |P Natural   |Tiene poliza|Nuevos Productos Autosura         |Sura               |Autos|1             |2           |\n",
      "|100001    |63481    |Mensual          |9938275.0  |828190.0             |2025-03-01         |2026-03-01      |Vigente|Renovación     |Actual  |Renovado                |MEDELLIN            |Tomador - Asegurado|49  |P Natural   |Tiene poliza|Plan Salud Global Familiar        |Sura               |Salud|1             |1           |\n",
      "|100003    |63628    |Anual            |222824.0   |222824.0             |2025-07-29         |2026-07-29      |Vigente|Renovación     |Anterior|Vigencias Anteriores    |MEDELLIN            |Tomador - Asegurado|45  |P Natural   |Tiene poliza|Plan Crédito Protegido            |Sura               |Vida |1             |1           |\n",
      "|100003    |63530    |Mensual          |1666274.0  |138856.0             |2025-08-26         |2026-08-26      |Vigente|Renovación     |Otros   |Vigencias Anteriores    |MEDELLIN            |Tomador - Asegurado|45  |P Natural   |Tiene poliza|Salud Para Todos Integral Familiar|Sura               |Salud|1             |2           |\n",
      "|100004    |63459    |Mensual          |8355955.0  |696330.0             |2025-05-01         |2026-05-01      |Vigente|Renovación     |Actual  |Renovado                |MEDELLIN            |Tomador            |41  |P Natural   |Tiene poliza|Plan Salud Evoluciona Familiar    |Sura               |Salud|1             |1           |\n",
      "|100005    |96956    |Mensual          |2.4617741E7|2051478.0            |2025-04-30         |2026-04-30      |Vigente|Renovación     |Actual  |Renovado                |MEDELLIN            |Tomador - Asegurado|40  |P Natural   |Tiene poliza|Plan Salud Global Familiar        |Sura               |Salud|1             |1           |\n",
      "|100007    |63591    |Mensual          |1936176.0  |161348.0             |2024-09-29         |2025-09-29      |Vigente|Renovación     |Anterior|Vigencias Anteriores    |MEDELLIN            |Tomador - Asegurado|57  |P Natural   |Tiene poliza|Plan Vive                         |Sura               |Vida |1             |1           |\n",
      "|100010    |63702    |Anual            |789165.0   |789165.0             |2024-11-21         |2025-11-21      |Vigente|Renovación     |Anterior|Vigencias Anteriores    |MEDELLIN            |Tomador - Asegurado|64  |P Natural   |Tiene poliza|Plan Crédito Protegido            |Sura               |Vida |1             |1           |\n",
      "|100012    |63290    |Anual            |1841193.0  |1841193.0            |2025-07-22         |2026-07-22      |Vigente|Renovación     |Actual  |Renovado                |MEDELLIN            |Tomador - Asegurado|69  |P Natural   |Tiene poliza|Nuevos Productos Autosura         |Sura               |Autos|1             |1           |\n",
      "|100014    |63488    |Mensual          |1.7424187E7|1452016.0            |2024-11-02         |2025-11-02      |Vigente|Renovación     |Anterior|Vigencias Anteriores    |MEDELLIN            |Tomador - Asegurado|59  |P Natural   |Tiene poliza|Plan Salud Clásico Familiar       |Sura               |Salud|1             |1           |\n",
      "|100016    |63701    |Anual            |245772.0   |245772.0             |2024-11-05         |2025-11-05      |Vigente|Renovación     |Anterior|Vigencias Anteriores    |MEDELLIN            |Tomador - Asegurado|55  |P Natural   |Tiene poliza|Plan Crédito Protegido            |Sura               |Vida |1             |1           |\n",
      "|100017    |63322    |Mensual          |1471085.0  |133735.0             |2025-07-09         |2026-07-09      |Vigente|Renovación     |Actual  |Renovado                |MEDELLIN            |Tomador - Asegurado|54  |P Natural   |Tiene poliza|Nuevos Productos Autosura         |Sura               |Autos|1             |1           |\n",
      "|100019    |99483    |Anual            |385490.0   |385490.0             |2025-05-07         |2026-05-07      |Vigente|Renovación     |Actual  |Renovado                |MEDELLIN            |Tomador - Asegurado|50  |P Natural   |Tiene poliza|Plan Crédito Protegido            |Sura               |Vida |1             |1           |\n",
      "|10002     |15210    |Mensual          |1.5615117E7|1301260.0            |2025-03-07         |2026-03-07      |Vigente|Renovación     |Otros   |Vigencias Anteriores    |OLANO ASESORES LTDA.|Tomador - Asegurado|54  |P Natural   |Tiene poliza|Plan Salud Global Familiar        |Sura               |Salud|1             |1           |\n",
      "|100024    |127239   |Anual            |3541054.0  |3541054.0            |2024-11-16         |2025-11-16      |Vigente|Renovación     |Anterior|Vigencias Anteriores    |MEDELLIN            |Tomador            |0   |P Natural   |Tiene poliza|Nuevo Producto Automoviles        |Bolivar            |Autos|1             |1           |\n",
      "|100024    |63475    |Mensual          |7251955.0  |604330.0             |2025-07-24         |2026-07-24      |Vigente|Renovación     |Anterior|Vigencias Anteriores    |MEDELLIN            |Tomador            |0   |P Natural   |Tiene poliza|Plan Salud Clásico Familiar       |Sura               |Salud|1             |2           |\n",
      "|100027    |63598    |Mensual          |1114186.0  |92849.0              |2024-09-13         |2025-09-13      |Vigente|Renovación     |Anterior|Vigencias Anteriores    |MEDELLIN            |Tomador - Asegurado|40  |P Natural   |Tiene poliza|Plan Vive                         |Sura               |Vida |1             |1           |\n",
      "|10003     |15345    |Trimestral       |3693333.0  |923333.0             |2025-11-23         |2026-11-23      |Vigente|Renovación     |Anterior|Vigencias Anteriores    |OLANO ASESORES LTDA.|Tomador - Asegurado|54  |P Natural   |Tiene poliza|Plan Vive                         |Sura               |Vida |1             |1           |\n",
      "|100030    |63586    |Mensual          |590659.0   |49222.0              |2025-06-06         |2026-06-06      |Vigente|Renovación     |Anterior|Vigencias Anteriores    |MEDELLIN            |Tomador - Asegurado|42  |P Natural   |Tiene poliza|Plan Vive                         |Sura               |Vida |1             |1           |\n",
      "+----------+---------+-----------------+-----------+---------------------+-------------------+----------------+-------+---------------+--------+------------------------+--------------------+-------------------+----+------------+------------+----------------------------------+-------------------+-----+--------------+------------+\n",
      "only showing top 20 rows"
     ]
    }
   ],
   "source": [
    "# Ordenar y numerar las pólizas por cliente y ramo según la fecha más antigua\n",
    "w_ramo = Window.partitionBy(\"codCliente\", \"Ramo\").orderBy(F.col(\"fechaInicioVigencia\").asc())\n",
    "\n",
    "df_final = df_final.withColumn(\n",
    "    \"rn_ramo\",\n",
    "    F.row_number().over(w_ramo)\n",
    ")\n",
    "\n",
    "# Filtrar para quedarnos solo con la primera póliza (más antigua) por ramo y cliente\n",
    "df_final = df_final.filter(F.col(\"rn_ramo\") == 1).drop(\"rn_ramo\")\n",
    "\n",
    "# Volver a recalcular orden_poliza ahora con las pólizas restantes\n",
    "w_poliza = Window.partitionBy(\"codCliente\").orderBy(F.col(\"fechaInicioVigencia\").asc())\n",
    "\n",
    "df_final = df_final.withColumn(\"orden_poliza\", F.dense_rank().over(w_poliza))\n",
    "\n",
    "# Resultado ordenado para revisar visualmente\n",
    "df_final.orderBy(\"codCliente\", \"orden_poliza\").show(truncate=False)"
   ]
  },
  {
   "cell_type": "code",
   "execution_count": 8,
   "metadata": {
    "colab": {
     "base_uri": "https://localhost:8080/"
    },
    "id": "rM0VHMDGUayO",
    "outputId": "66e4014f-d588-445c-9e87-1da3782a6afc"
   },
   "outputs": [
    {
     "data": {
      "application/vnd.jupyter.widget-view+json": {
       "model_id": "",
       "version_major": 2,
       "version_minor": 0
      },
      "text/plain": [
       "FloatProgress(value=0.0, bar_style='info', description='Progress:', layout=Layout(height='25px', width='50%'),…"
      ]
     },
     "metadata": {},
     "output_type": "display_data"
    },
    {
     "name": "stdout",
     "output_type": "stream",
     "text": [
      "+----------+------------+-------------+-----+----+------------+-----+-----+-----+\n",
      "|codCliente|orden_poliza|Patrimoniales|Otros|Vida|Cumplimiento|Autos|Salud|Y    |\n",
      "+----------+------------+-------------+-----+----+------------+-----+-----+-----+\n",
      "|10000     |1           |0            |0    |1   |0           |0    |0    |Autos|\n",
      "|10000     |2           |0            |0    |1   |0           |1    |0    |NULL |\n",
      "|100001    |1           |0            |0    |0   |0           |0    |1    |NULL |\n",
      "|100003    |1           |0            |0    |1   |0           |0    |0    |Salud|\n",
      "|100003    |2           |0            |0    |1   |0           |0    |1    |NULL |\n",
      "|100004    |1           |0            |0    |0   |0           |0    |1    |NULL |\n",
      "|100005    |1           |0            |0    |0   |0           |0    |1    |NULL |\n",
      "|100007    |1           |0            |0    |1   |0           |0    |0    |NULL |\n",
      "|100010    |1           |0            |0    |1   |0           |0    |0    |NULL |\n",
      "|100012    |1           |0            |0    |0   |0           |1    |0    |NULL |\n",
      "|100014    |1           |0            |0    |0   |0           |0    |1    |NULL |\n",
      "|100016    |1           |0            |0    |1   |0           |0    |0    |NULL |\n",
      "|100017    |1           |0            |0    |0   |0           |1    |0    |NULL |\n",
      "|100019    |1           |0            |0    |1   |0           |0    |0    |NULL |\n",
      "|10002     |1           |0            |0    |0   |0           |0    |1    |NULL |\n",
      "|100024    |1           |0            |0    |0   |0           |1    |0    |Salud|\n",
      "|100024    |2           |0            |0    |0   |0           |1    |1    |NULL |\n",
      "|100027    |1           |0            |0    |1   |0           |0    |0    |NULL |\n",
      "|10003     |1           |0            |0    |1   |0           |0    |0    |NULL |\n",
      "|100030    |1           |0            |0    |1   |0           |0    |0    |NULL |\n",
      "|100034    |1           |1            |0    |0   |0           |0    |0    |NULL |\n",
      "|100036    |1           |0            |0    |0   |0           |0    |1    |NULL |\n",
      "|10004     |1           |0            |0    |0   |0           |1    |0    |Salud|\n",
      "|10004     |2           |0            |0    |0   |0           |1    |1    |NULL |\n",
      "|100040    |1           |0            |0    |0   |0           |0    |1    |NULL |\n",
      "|100041    |1           |0            |0    |0   |1           |0    |0    |NULL |\n",
      "|100043    |1           |0            |0    |0   |0           |1    |0    |NULL |\n",
      "|100048    |1           |0            |0    |0   |0           |0    |1    |NULL |\n",
      "|100050    |1           |1            |0    |0   |0           |0    |0    |NULL |\n",
      "|100051    |1           |0            |0    |0   |0           |1    |0    |NULL |\n",
      "|100053    |1           |0            |0    |0   |0           |0    |1    |NULL |\n",
      "|100054    |1           |0            |0    |0   |0           |0    |1    |NULL |\n",
      "|100056    |1           |0            |0    |0   |0           |0    |1    |NULL |\n",
      "|100057    |1           |0            |0    |1   |0           |0    |0    |NULL |\n",
      "|100058    |1           |0            |0    |0   |1           |0    |0    |NULL |\n",
      "|10006     |1           |0            |0    |1   |0           |0    |0    |NULL |\n",
      "|100062    |1           |0            |0    |1   |0           |0    |0    |NULL |\n",
      "|100066    |1           |0            |0    |1   |0           |0    |0    |NULL |\n",
      "|100067    |1           |0            |0    |1   |0           |0    |0    |Salud|\n",
      "|100067    |2           |0            |0    |1   |0           |0    |1    |Autos|\n",
      "|100067    |3           |0            |0    |1   |0           |1    |1    |NULL |\n",
      "|10007     |1           |0            |0    |0   |0           |1    |0    |NULL |\n",
      "|100073    |1           |0            |0    |1   |0           |0    |0    |Salud|\n",
      "|100073    |2           |0            |0    |1   |0           |0    |1    |NULL |\n",
      "|100075    |1           |0            |0    |1   |0           |0    |0    |NULL |\n",
      "|10008     |1           |0            |0    |0   |1           |0    |0    |NULL |\n",
      "|100084    |1           |0            |0    |0   |0           |1    |0    |NULL |\n",
      "|100088    |1           |0            |0    |0   |0           |1    |0    |NULL |\n",
      "|100089    |1           |0            |0    |0   |1           |0    |0    |NULL |\n",
      "|10009     |1           |0            |0    |0   |1           |0    |0    |NULL |\n",
      "+----------+------------+-------------+-----+----+------------+-----+-----+-----+\n",
      "only showing top 50 rows"
     ]
    }
   ],
   "source": [
    "# Ventana por cliente, ordenada por la secuencia de las pólizas\n",
    "w = Window.partitionBy(\"codCliente\").orderBy(\"orden_poliza\")\n",
    "\n",
    "# Crear lista de ramos anteriores a cada fila\n",
    "df_final = df_final.withColumn(\n",
    "    \"ramos_previos\",\n",
    "    F.collect_list(\"Ramo\").over(w.rowsBetween(Window.unboundedPreceding, -1))\n",
    ")\n",
    "\n",
    "# Reemplazar null por lista vacía\n",
    "df_final = df_final.withColumn(\n",
    "    \"ramos_previos\",\n",
    "    F.when(F.col(\"ramos_previos\").isNull(), F.array()).otherwise(F.col(\"ramos_previos\"))\n",
    ")\n",
    "\n",
    "# Crear columna objetivo Y (siguiente ramo que compró el cliente)\n",
    "df_final = df_final.withColumn(\n",
    "    \"Y\",\n",
    "    F.lead(\"Ramo\").over(w)\n",
    ")\n",
    "\n",
    "# Obtener lista de ramos únicos y sus nombres limpios\n",
    "ramos_unicos = [r[\"Ramo\"] for r in df_final.select(\"Ramo\").distinct().collect() if r[\"Ramo\"] is not None]\n",
    "ramos_unicos_limpios = [limpiar_nombre(r) for r in ramos_unicos]\n",
    "\n",
    "# Crear columnas binarias (1 si ya lo compró antes O si es el actual)\n",
    "for ramo_original, ramo_col in zip(ramos_unicos, ramos_unicos_limpios):\n",
    "    df_final = df_final.withColumn(\n",
    "        ramo_col,\n",
    "        F.when(\n",
    "            (F.array_contains(F.col(\"ramos_previos\"), F.lit(ramo_original))) |\n",
    "            (F.col(\"Ramo\") == ramo_original),\n",
    "            1\n",
    "        ).otherwise(0)\n",
    "    )\n",
    "\n",
    "# Eliminar columna auxiliar\n",
    "df_final = df_final.drop(\"ramos_previos\")\n",
    "\n",
    "df_final.orderBy(\"codCliente\", \"orden_poliza\").select(\n",
    "    \"codCliente\", \"orden_poliza\", *ramos_unicos_limpios, \"Y\"\n",
    ").show(50, truncate=False)\n"
   ]
  },
  {
   "cell_type": "code",
   "execution_count": 9,
   "metadata": {
    "colab": {
     "base_uri": "https://localhost:8080/"
    },
    "id": "AlhsDFJEVnb-",
    "outputId": "ac01ffb8-9c5f-4a2d-a703-e3e004afbb4a"
   },
   "outputs": [
    {
     "data": {
      "application/vnd.jupyter.widget-view+json": {
       "model_id": "",
       "version_major": 2,
       "version_minor": 0
      },
      "text/plain": [
       "FloatProgress(value=0.0, bar_style='info', description='Progress:', layout=Layout(height='25px', width='50%'),…"
      ]
     },
     "metadata": {},
     "output_type": "display_data"
    },
    {
     "name": "stdout",
     "output_type": "stream",
     "text": [
      "N?mero de registros: 9353\n",
      "+----------+---------+-----------------+----------+---------------------+-------------------+----------------+-------+---------------+--------+------------------------+--------+-------------------+----+------------+------------+-----------+-------------------+----+--------------+------------+-----+-------------+-----+----+------------+-----+-----+\n",
      "|codCliente|codPoliza|formaPagoVigencia|valorTotal|Valor_Total_Periodico|fechaInicioVigencia|fechaFinVigencia|estado |OpracionesGrupo|Vigencia|EstadoRenovacionesinicio|ciudad  |tipoVinculacion    |Edad|Tipo_Empresa|tomador     |nomProducto|nomGrupoEmpresarial|Ramo|orden_vigencia|orden_poliza|Y    |Patrimoniales|Otros|Vida|Cumplimiento|Autos|Salud|\n",
      "+----------+---------+-----------------+----------+---------------------+-------------------+----------------+-------+---------------+--------+------------------------+--------+-------------------+----+------------+------------+-----------+-------------------+----+--------------+------------+-----+-------------+-----+----+------------+-----+-----+\n",
      "|1500      |2213     |Anual            |1019840.0 |1019840.0            |2023-12-04         |2025-12-04      |Vigente|Renovación     |Otros   |Vigencias Anteriores    |MEDELLIN|Tomador - Asegurado|0   |P Juridica  |Tiene poliza|Plan Vive  |Sura               |Vida|1             |1           |Salud|0            |0    |1   |0           |0    |0    |\n",
      "+----------+---------+-----------------+----------+---------------------+-------------------+----------------+-------+---------------+--------+------------------------+--------+-------------------+----+------------+------------+-----------+-------------------+----+--------------+------------+-----+-------------+-----+----+------------+-----+-----+"
     ]
    }
   ],
   "source": [
    "df_final = df_final.filter(F.col(\"Y\").isNotNull())\n",
    "print(\"Número de registros:\", df_final.count())\n",
    "\n",
    "df_cliente = df_final.filter(F.col(\"codCliente\") == \"1500\")\n",
    "df_cliente.show(truncate=False)"
   ]
  },
  {
   "cell_type": "code",
   "execution_count": 10,
   "metadata": {
    "colab": {
     "base_uri": "https://localhost:8080/"
    },
    "id": "ptOF4W04bQAc",
    "outputId": "31a7630e-328d-4686-a5e0-b784665a4dd0"
   },
   "outputs": [
    {
     "data": {
      "application/vnd.jupyter.widget-view+json": {
       "model_id": "",
       "version_major": 2,
       "version_minor": 0
      },
      "text/plain": [
       "FloatProgress(value=0.0, bar_style='info', description='Progress:', layout=Layout(height='25px', width='50%'),…"
      ]
     },
     "metadata": {},
     "output_type": "display_data"
    },
    {
     "name": "stdout",
     "output_type": "stream",
     "text": [
      "+----------+---------+-------------+-------------+-----+----+-----+------------+-------------+-----+\n",
      "|codCliente|codPoliza|         Ramo|            Y|Salud|Vida|Autos|Cumplimiento|Patrimoniales|Otros|\n",
      "+----------+---------+-------------+-------------+-----+----+-----+------------+-------------+-----+\n",
      "|     10004|    14919|        Autos|        Salud|    0|   0|    1|           0|            0|    0|\n",
      "|     10031|   211649|        Autos|Patrimoniales|    0|   0|    1|           0|            0|    0|\n",
      "|     10038|    15246|        Salud|        Autos|    1|   0|    0|           0|            0|    0|\n",
      "|    100391|    63849|Patrimoniales|        Autos|    0|   0|    0|           0|            1|    0|\n",
      "|    100442|    64753| Cumplimiento|        Autos|    0|   0|    0|           1|            0|    0|\n",
      "|    100447|   127299|Patrimoniales|         Vida|    0|   0|    0|           0|            1|    0|\n",
      "|    100504|    96897|         Vida|Patrimoniales|    0|   1|    0|           0|            0|    0|\n",
      "|    100515|    64130|        Salud|         Vida|    1|   0|    0|           0|            0|    0|\n",
      "|    100535|    64042|         Vida|        Autos|    0|   1|    0|           0|            0|    0|\n",
      "|    100561|    64078|         Vida|        Salud|    0|   1|    0|           0|            0|    0|\n",
      "|    100594|    64127|         Vida|        Autos|    0|   1|    0|           0|            0|    0|\n",
      "|    100633|    65074|         Vida|        Salud|    0|   1|    0|           0|            0|    0|\n",
      "|    100635|    65027|         Vida| Cumplimiento|    0|   1|    0|           0|            0|    0|\n",
      "|    100635|    64182| Cumplimiento|        Salud|    0|   1|    0|           1|            0|    0|\n",
      "|    100770|    64236| Cumplimiento|Patrimoniales|    0|   0|    0|           1|            0|    0|\n",
      "|    100789|    64720|         Vida|        Salud|    0|   1|    0|           0|            0|    0|\n",
      "|    101112|    65047|         Vida|        Salud|    0|   1|    0|           0|            0|    0|\n",
      "|    101320|   159898|        Autos|         Vida|    0|   0|    1|           0|            0|    0|\n",
      "|     10133|    15489|        Autos|        Salud|    0|   0|    1|           0|            0|    0|\n",
      "|     10133|    15518|        Salud|Patrimoniales|    1|   0|    1|           0|            0|    0|\n",
      "+----------+---------+-------------+-------------+-----+----+-----+------------+-------------+-----+\n",
      "only showing top 20 rows"
     ]
    }
   ],
   "source": [
    "#Conservar solo las columnas necesarias\n",
    "df_final = df_final.select(\n",
    "    \"codCliente\",\n",
    "    \"codPoliza\",\n",
    "    \"Ramo\",\n",
    "    \"Y\",\n",
    "    \"Salud\",\n",
    "    \"Vida\",\n",
    "    \"Autos\",\n",
    "    \"Cumplimiento\",\n",
    "    \"Patrimoniales\",\n",
    "    \"Otros\"\n",
    ")\n",
    "df_final.show()"
   ]
  },
  {
   "cell_type": "markdown",
   "metadata": {},
   "source": [
    "## Guardar datos en refined"
   ]
  },
  {
   "cell_type": "code",
   "execution_count": 11,
   "metadata": {},
   "outputs": [
    {
     "data": {
      "application/vnd.jupyter.widget-view+json": {
       "model_id": "",
       "version_major": 2,
       "version_minor": 0
      },
      "text/plain": [
       "FloatProgress(value=0.0, bar_style='info', description='Progress:', layout=Layout(height='25px', width='50%'),…"
      ]
     },
     "metadata": {},
     "output_type": "display_data"
    },
    {
     "name": "stdout",
     "output_type": "stream",
     "text": [
      "Datos de la zona refined guardados exitosamente en: s3://s3-pi-perfilamiento-20252/refined/"
     ]
    }
   ],
   "source": [
    "path_refined = \"s3://s3-pi-perfilamiento-20252/refined/\"\n",
    "\n",
    "df_final.coalesce(1) \\\n",
    "        .write \\\n",
    "        .mode(\"overwrite\") \\\n",
    "        .option(\"header\", \"true\") \\\n",
    "        .csv(path_refined)\n",
    "\n",
    "print(f\"Datos de la zona refined guardados exitosamente en: {path_refined}\")"
   ]
  },
  {
   "cell_type": "code",
   "execution_count": null,
   "metadata": {},
   "outputs": [],
   "source": []
  }
 ],
 "metadata": {
  "colab": {
   "include_colab_link": true,
   "provenance": []
  },
  "kernelspec": {
   "display_name": "PySpark",
   "language": "python",
   "name": "pysparkkernel"
  },
  "language_info": {
   "codemirror_mode": {
    "name": "python",
    "version": 3
   },
   "file_extension": ".py",
   "mimetype": "text/x-python",
   "name": "pyspark",
   "pygments_lexer": "python3"
  }
 },
 "nbformat": 4,
 "nbformat_minor": 1
}
