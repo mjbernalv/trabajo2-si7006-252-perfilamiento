{
 "cells": [
  {
   "cell_type": "markdown",
   "metadata": {},
   "source": [
    "# <center> Procesamiento de datos a trusted </center>"
   ]
  },
  {
   "cell_type": "markdown",
   "metadata": {},
   "source": [
    "## Librerías"
   ]
  },
  {
   "cell_type": "code",
   "execution_count": 1,
   "metadata": {},
   "outputs": [
    {
     "name": "stdout",
     "output_type": "stream",
     "text": [
      "Starting Spark application\n"
     ]
    },
    {
     "data": {
      "text/html": [
       "<table>\n",
       "<tr><th>ID</th><th>YARN Application ID</th><th>Kind</th><th>State</th><th>Spark UI</th><th>Driver log</th><th>User</th><th>Current session?</th></tr><tr><td>2</td><td>application_1761950954788_0003</td><td>pyspark</td><td>idle</td><td><a target=\"_blank\" href=\"http://ip-172-31-71-131.ec2.internal:20888/proxy/application_1761950954788_0003/\">Link</a></td><td><a target=\"_blank\" href=\"http://ip-172-31-76-66.ec2.internal:8042/node/containerlogs/container_1761950954788_0003_01_000001/livy\">Link</a></td><td>None</td><td>✔</td></tr></table>"
      ],
      "text/plain": [
       "<IPython.core.display.HTML object>"
      ]
     },
     "metadata": {},
     "output_type": "display_data"
    },
    {
     "data": {
      "application/vnd.jupyter.widget-view+json": {
       "model_id": "",
       "version_major": 2,
       "version_minor": 0
      },
      "text/plain": [
       "FloatProgress(value=0.0, bar_style='info', description='Progress:', layout=Layout(height='25px', width='50%'),…"
      ]
     },
     "metadata": {},
     "output_type": "display_data"
    },
    {
     "name": "stdout",
     "output_type": "stream",
     "text": [
      "SparkSession available as 'spark'.\n"
     ]
    },
    {
     "data": {
      "application/vnd.jupyter.widget-view+json": {
       "model_id": "",
       "version_major": 2,
       "version_minor": 0
      },
      "text/plain": [
       "FloatProgress(value=0.0, bar_style='info', description='Progress:', layout=Layout(height='25px', width='50%'),…"
      ]
     },
     "metadata": {},
     "output_type": "display_data"
    }
   ],
   "source": [
    "import re\n",
    "from pyspark.sql import SparkSession\n",
    "from pyspark.sql.functions import col\n",
    "from pyspark.sql import functions as F, Window\n",
    "from pyspark.sql.types import IntegerType, DoubleType"
   ]
  },
  {
   "cell_type": "markdown",
   "metadata": {},
   "source": [
    "## Lectura de datos"
   ]
  },
  {
   "cell_type": "code",
   "execution_count": 2,
   "metadata": {
    "colab": {
     "base_uri": "https://localhost:8080/"
    },
    "id": "tLBLUkcsXmJz",
    "outputId": "30c7997e-a5f8-4ac9-bd33-3a4f0a4d08db"
   },
   "outputs": [
    {
     "data": {
      "application/vnd.jupyter.widget-view+json": {
       "model_id": "",
       "version_major": 2,
       "version_minor": 0
      },
      "text/plain": [
       "FloatProgress(value=0.0, bar_style='info', description='Progress:', layout=Layout(height='25px', width='50%'),…"
      ]
     },
     "metadata": {},
     "output_type": "display_data"
    },
    {
     "name": "stdout",
     "output_type": "stream",
     "text": [
      "Spark iniciado: <pyspark.sql.session.SparkSession object at 0x7f8ba4d98e50>"
     ]
    }
   ],
   "source": [
    "spk = spark.builder \\\n",
    "    .appName(\"raw-to-trusted-spark\") \\\n",
    "    .getOrCreate()\n",
    "\n",
    "print(\"Spark iniciado:\", spk)"
   ]
  },
  {
   "cell_type": "code",
   "execution_count": 4,
   "metadata": {
    "colab": {
     "base_uri": "https://localhost:8080/"
    },
    "id": "zZMGv3x_XcvZ",
    "outputId": "78652607-4d96-4d20-92a9-e4affea41405"
   },
   "outputs": [
    {
     "data": {
      "application/vnd.jupyter.widget-view+json": {
       "model_id": "",
       "version_major": 2,
       "version_minor": 0
      },
      "text/plain": [
       "FloatProgress(value=0.0, bar_style='info', description='Progress:', layout=Layout(height='25px', width='50%'),…"
      ]
     },
     "metadata": {},
     "output_type": "display_data"
    },
    {
     "name": "stdout",
     "output_type": "stream",
     "text": [
      "Poliza: 226254 filas, 28 columnas\n",
      "Producto: 562 filas, 11 columnas\n",
      "Clientes: 253062 filas, 8 columnas"
     ]
    }
   ],
   "source": [
    "# Rutas de los archivos en s3\n",
    "path_poliza = \"s3://s3-pi-perfilamiento-20252/raw/polizas/detalle_poliza.csv\"\n",
    "path_producto = \"s3://s3-pi-perfilamiento-20252/raw/productos/detalle_producto.csv\"\n",
    "path_clientes = \"s3://s3-pi-perfilamiento-20252/raw/clientes/detalle_cliente.csv\"\n",
    "\n",
    "# Leer con inferencia de esquema y header\n",
    "df_poliza = spark.read.option(\"header\", \"true\").option(\"inferSchema\", \"true\").csv(path_poliza)\n",
    "df_producto = spark.read.option(\"header\", \"true\").option(\"inferSchema\", \"true\").csv(path_producto)\n",
    "df_clientes = spark.read.option(\"header\", \"true\").option(\"inferSchema\", \"true\").csv(path_clientes)\n",
    "\n",
    "# Mostrar confirmación\n",
    "print(\"Poliza:\", df_poliza.count(), \"filas,\", len(df_poliza.columns), \"columnas\")\n",
    "print(\"Producto:\", df_producto.count(), \"filas,\", len(df_producto.columns), \"columnas\")\n",
    "print(\"Clientes:\", df_clientes.count(), \"filas,\", len(df_clientes.columns), \"columnas\")"
   ]
  },
  {
   "cell_type": "markdown",
   "metadata": {},
   "source": [
    "## Transformaciones"
   ]
  },
  {
   "cell_type": "markdown",
   "metadata": {},
   "source": [
    "### Unión tablas"
   ]
  },
  {
   "cell_type": "code",
   "execution_count": 5,
   "metadata": {
    "colab": {
     "base_uri": "https://localhost:8080/"
    },
    "id": "Gn1x-2sicpmE",
    "outputId": "79013b65-65b1-426a-f5c1-7c8dfdb1c546"
   },
   "outputs": [
    {
     "data": {
      "application/vnd.jupyter.widget-view+json": {
       "model_id": "",
       "version_major": 2,
       "version_minor": 0
      },
      "text/plain": [
       "FloatProgress(value=0.0, bar_style='info', description='Progress:', layout=Layout(height='25px', width='50%'),…"
      ]
     },
     "metadata": {},
     "output_type": "display_data"
    },
    {
     "name": "stdout",
     "output_type": "stream",
     "text": [
      "Filas finales: 226254\n",
      "Columnas finales: 45\n",
      "+-----------+----------+---------+-------------------+-----------+----------+-------------------+----------+-----------------+------+----------+-------------+---------------------+-------------------+----------------+---------+------------------+----------+-----------+---------------+--------+----------+------------------------+--------------------+----------------+----------------------------+------------------+------------------+----------------------------+----------------+-------------------+----+------------------------------+------------+------------+------------------+-------+----------+-------------+-------------+-------------------------------+-------------------+----------+----------+------------------+\n",
      "|codProducto|codCliente|codPoliza|estadoProcesamiento|fechaInicio|fechaFin  |origenProcesamiento|estadoDato|formaPagoVigencia|IVA   |valorTotal|IVA_Periodico|Valor_Total_Periodico|fechaInicioVigencia|fechaFinVigencia|estado   |EstadoRenovaciones|tipoPoliza|aseguradora|OpracionesGrupo|Vigencia|Fecha     |EstadoRenovacionesinicio|ciudad              |valorTotalSinIva|Valor_Total_Periodico_SinIva|TasaIVA           |TasaIVA_Periodico |fechaNacCliente             |nomTipoDocumento|tipoVinculacion    |Edad|FechaCumple                   |Tipo Empresa|tomador     |nomProducto       |codRamo|nomRamo   |seRenuevaRamo|nomGrupo     |nomCompania                    |nomGrupoEmpresarial|GrupoRamo |Ramo      |NegociosEspeciales|\n",
      "+-----------+----------+---------+-------------------+-----------+----------+-------------------+----------+-----------------+------+----------+-------------+---------------------+-------------------+----------------+---------+------------------+----------+-----------+---------------+--------+----------+------------------------+--------------------+----------------+----------------------------+------------------+------------------+----------------------------+----------------+-------------------+----+------------------------------+------------+------------+------------------+-------+----------+-------------+-------------+-------------------------------+-------------------+----------+----------+------------------+\n",
      "|26         |153031    |155137   |Procesado          |2025-06-25 |2025-06-30|Programa           |Correcto  |Anual            |-244.0|-4536     |-244.0       |-4536.0              |2025-06-25         |2025-06-30      |Cancelada|Cancelada         |Póliza    |SURA       |Cancelada      |Anterior|2025-06-30|Cancelada               |OLANO ASESORES LTDA.|-4292.0         |-4292.0                     |0.0568499534016775|0.0568499534016775|domingo, 17 de abril de 1988|Cedula          |Tomador - Asegurado|37  |viernes, 17 de abril de 2026  |P Natural   |Tiene poliza|Productos Viajeros|BAN    |AP Viajero|No se Renueva|Empresariales|Soluciones de Seguros Generales|Sura               |Ap Viajero|Ap Viajero|No Aplica         |\n",
      "|26         |153031    |165071   |Procesado          |2025-06-25 |2025-06-30|Programa           |Correcto  |Anual            |-244.0|-4536     |-244.0       |-4536.0              |2025-06-25         |2025-06-30      |Cancelada|Cancelada         |Póliza    |SURA       |Cancelada      |Anterior|2025-06-30|Cancelada               |OLANO ASESORES LTDA.|-4292.0         |-4292.0                     |0.0568499534016775|0.0568499534016775|domingo, 17 de abril de 1988|Cedula          |Tomador - Asegurado|37  |viernes, 17 de abril de 2026  |P Natural   |Tiene poliza|Productos Viajeros|BAN    |AP Viajero|No se Renueva|Empresariales|Soluciones de Seguros Generales|Sura               |Ap Viajero|Ap Viajero|No Aplica         |\n",
      "|26         |153029    |165072   |Procesado          |2025-06-25 |2025-06-29|Programa           |Correcto  |Anual            |-221.0|-4043     |-221.0       |-4043.0              |2025-06-25         |2025-06-29      |Cancelada|Cancelada         |Póliza    |SURA       |Cancelada      |Anterior|2025-06-29|Cancelada               |OLANO ASESORES LTDA.|-3822.0         |-3822.0                     |0.0578231292517007|0.0578231292517007|lunes, 22 de abril de 1968  |Cedula          |Tomador - Asegurado|57  |miércoles, 22 de abril de 2026|P Natural   |Tiene poliza|Productos Viajeros|BAN    |AP Viajero|No se Renueva|Empresariales|Soluciones de Seguros Generales|Sura               |Ap Viajero|Ap Viajero|No Aplica         |\n",
      "|26         |153029    |155143   |Procesado          |2025-06-25 |2025-06-29|Programa           |Correcto  |Anual            |-221.0|-4043     |-221.0       |-4043.0              |2025-06-25         |2025-06-29      |Cancelada|Cancelada         |Póliza    |SURA       |Cancelada      |Anterior|2025-06-29|Cancelada               |OLANO ASESORES LTDA.|-3822.0         |-3822.0                     |0.0578231292517007|0.0578231292517007|lunes, 22 de abril de 1968  |Cedula          |Tomador - Asegurado|57  |miércoles, 22 de abril de 2026|P Natural   |Tiene poliza|Productos Viajeros|BAN    |AP Viajero|No se Renueva|Empresariales|Soluciones de Seguros Generales|Sura               |Ap Viajero|Ap Viajero|No Aplica         |\n",
      "|26         |153029    |165074   |Procesado          |2025-06-25 |2025-06-29|Programa           |Correcto  |Anual            |-221.0|-4043     |-221.0       |-4043.0              |2025-06-25         |2025-06-29      |Cancelada|Cancelada         |Póliza    |SURA       |Cancelada      |Anterior|2025-06-29|Cancelada               |OLANO ASESORES LTDA.|-3822.0         |-3822.0                     |0.0578231292517007|0.0578231292517007|lunes, 22 de abril de 1968  |Cedula          |Tomador - Asegurado|57  |miércoles, 22 de abril de 2026|P Natural   |Tiene poliza|Productos Viajeros|BAN    |AP Viajero|No se Renueva|Empresariales|Soluciones de Seguros Generales|Sura               |Ap Viajero|Ap Viajero|No Aplica         |\n",
      "+-----------+----------+---------+-------------------+-----------+----------+-------------------+----------+-----------------+------+----------+-------------+---------------------+-------------------+----------------+---------+------------------+----------+-----------+---------------+--------+----------+------------------------+--------------------+----------------+----------------------------+------------------+------------------+----------------------------+----------------+-------------------+----+------------------------------+------------+------------+------------------+-------+----------+-------------+-------------+-------------------------------+-------------------+----------+----------+------------------+\n",
      "only showing top 5 rows"
     ]
    }
   ],
   "source": [
    "# Unión de poliza con clientes\n",
    "df_poliza_clientes = df_poliza.join(\n",
    "    df_clientes,\n",
    "    on=\"codCliente\",  # clave común\n",
    "    how=\"left\"\n",
    ")\n",
    "\n",
    "# Unión del resultado anterior con producto\n",
    "df_final = df_poliza_clientes.join(\n",
    "    df_producto,\n",
    "    on=\"codProducto\",  # clave común\n",
    "    how=\"left\"\n",
    ")\n",
    "\n",
    "# Mostrar resultado\n",
    "print(\"Filas finales:\", df_final.count())\n",
    "print(\"Columnas finales:\", len(df_final.columns))\n",
    "df_final.show(5, truncate=False)"
   ]
  },
  {
   "cell_type": "markdown",
   "metadata": {},
   "source": [
    "### Eliminación columnas no relevantes"
   ]
  },
  {
   "cell_type": "code",
   "execution_count": 7,
   "metadata": {
    "colab": {
     "base_uri": "https://localhost:8080/"
    },
    "id": "n1g7nrHPkF1V",
    "outputId": "32381927-a3de-41d2-873a-dda82bbdbe20"
   },
   "outputs": [
    {
     "data": {
      "application/vnd.jupyter.widget-view+json": {
       "model_id": "",
       "version_major": 2,
       "version_minor": 0
      },
      "text/plain": [
       "FloatProgress(value=0.0, bar_style='info', description='Progress:', layout=Layout(height='25px', width='50%'),…"
      ]
     },
     "metadata": {},
     "output_type": "display_data"
    },
    {
     "name": "stdout",
     "output_type": "stream",
     "text": [
      "Columnas eliminadas correctamente\n",
      "N?mero de columnas restantes: 19"
     ]
    }
   ],
   "source": [
    "columnas_a_eliminar = [\n",
    "    \"codProducto\",\n",
    "    \"estadoProcesamiento\",\n",
    "    \"origenProcesamiento\",\n",
    "    \"estadoDato\",\n",
    "    \"IVA\",\n",
    "    \"IVA_Periodico\",\n",
    "    \"fechaInicio\",\n",
    "    \"fechaFin\",\n",
    "    \"EstadoRenovaciones\",\n",
    "    \"tipoPoliza\",\n",
    "    \"Fecha\",\n",
    "    \"valorTotalSinIva\",\n",
    "    \"Valor_Total_Periodico_SinIva\",\n",
    "    \"TasaIVA\",\n",
    "    \"TasaIVA_Periodico\",\n",
    "    \"fechaNacCliente\",\n",
    "    \"FechaCumple\",\n",
    "    \"nomTipoDocumento\",\n",
    "    \"Tiene poliza\",\n",
    "    \"codRamo\",\n",
    "    \"seRenuevaRamo\",\n",
    "    \"nomGrupo\",\n",
    "    \"nomCompania\",\n",
    "    \"GrupoRamo\",\n",
    "    \"nomRamo\",\n",
    "    \"NegociosEspeciales\",\n",
    "    \"aseguradora\",\n",
    "    \"tomador\"\n",
    "    \"nomProducto\"\n",
    "]\n",
    "# Eliminar columnas (solo si existen en el dataframe)\n",
    "df_final = df_final.drop(*[c for c in columnas_a_eliminar if c in df_final.columns])\n",
    "\n",
    "print(\"Columnas eliminadas correctamente\")\n",
    "print(\"Número de columnas restantes:\", len(df_final.columns))\n"
   ]
  },
  {
   "cell_type": "markdown",
   "metadata": {},
   "source": [
    "### Generar nuevas categorías de ramos"
   ]
  },
  {
   "cell_type": "code",
   "execution_count": 8,
   "metadata": {
    "id": "NbldViNaVnh1"
   },
   "outputs": [
    {
     "data": {
      "application/vnd.jupyter.widget-view+json": {
       "model_id": "",
       "version_major": 2,
       "version_minor": 0
      },
      "text/plain": [
       "FloatProgress(value=0.0, bar_style='info', description='Progress:', layout=Layout(height='25px', width='50%'),…"
      ]
     },
     "metadata": {},
     "output_type": "display_data"
    }
   ],
   "source": [
    "df_final = df_final.withColumn(\n",
    "    \"Ramo\",\n",
    "    F.when(F.col(\"Ramo\").isin(\n",
    "        \"Salud Familiar\", \"Enfermedades Graves\", \"Salud Colectivo\",\n",
    "        \"Asistencia Medica\", \"Medicina Prepagada\"\n",
    "    ), \"Salud\")\n",
    "    .when(F.col(\"Ramo\").isin(\n",
    "        \"Vida Individual\", \"Vida Grupo\", \"Educacion\", \"Pension\",\n",
    "        \"Accidentes Personales\", \"Juvenil\", \"Exequial\"\n",
    "    ), \"Vida\")\n",
    "    .when(F.col(\"Ramo\").isin(\n",
    "        \"Automoviles\", \"Soat\"\n",
    "    ), \"Autos\")\n",
    "    .when(F.col(\"Ramo\").isin(\n",
    "        \"Cumplimiento\", \"Arrendamiento\"\n",
    "    ), \"Cumplimiento\")\n",
    "    .when(F.col(\"Ramo\").isin(\n",
    "        \"Incendio\", \"Responsabilidad Civil\", \"Hogar\", \"Transporte Mercancia\",\n",
    "        \"Transporte Valores\", \"Maquinaria Y Equipo\", \"Manejo\", \"Copropiedad\",\n",
    "        \"Montaje\", \"Construcción\", \"Navegacion\",\n",
    "        \"R.C. Parqueaderos Y Talleres\", \"Agricola\"\n",
    "    ), \"Patrimoniales\")\n",
    "    .otherwise(\"Otros\")\n",
    ")"
   ]
  },
  {
   "cell_type": "markdown",
   "metadata": {},
   "source": [
    "### Reemplazar caracteres "
   ]
  },
  {
   "cell_type": "code",
   "execution_count": 9,
   "metadata": {
    "id": "oafWS-VFm8aS"
   },
   "outputs": [
    {
     "data": {
      "application/vnd.jupyter.widget-view+json": {
       "model_id": "",
       "version_major": 2,
       "version_minor": 0
      },
      "text/plain": [
       "FloatProgress(value=0.0, bar_style='info', description='Progress:', layout=Layout(height='25px', width='50%'),…"
      ]
     },
     "metadata": {},
     "output_type": "display_data"
    }
   ],
   "source": [
    "# Reemplazamos espacios y caracteres raros por guiones bajos\n",
    "for old_name in df_final.columns:\n",
    "    new_name = old_name.strip().replace(\" \", \"_\").replace(\"-\", \"_\")\n",
    "    df_final = df_final.withColumnRenamed(old_name, new_name)"
   ]
  },
  {
   "cell_type": "markdown",
   "metadata": {},
   "source": [
    "### Validar tipos de datos"
   ]
  },
  {
   "cell_type": "code",
   "execution_count": 10,
   "metadata": {
    "id": "i5Lnq368m_7p"
   },
   "outputs": [
    {
     "data": {
      "application/vnd.jupyter.widget-view+json": {
       "model_id": "",
       "version_major": 2,
       "version_minor": 0
      },
      "text/plain": [
       "FloatProgress(value=0.0, bar_style='info', description='Progress:', layout=Layout(height='25px', width='50%'),…"
      ]
     },
     "metadata": {},
     "output_type": "display_data"
    }
   ],
   "source": [
    "df_final = df_final.withColumn(\"Edad\", col(\"Edad\").cast(IntegerType()))\n",
    "df_final = df_final.withColumn(\"valorTotal\", col(\"valorTotal\").cast(DoubleType()))\n",
    "df_final = df_final.withColumn(\"fechaInicioVigencia\", F.to_date(\"fechaInicioVigencia\", \"dd/MM/yyyy\"))"
   ]
  },
  {
   "cell_type": "markdown",
   "metadata": {},
   "source": [
    "### Filtros con reglas de negocio"
   ]
  },
  {
   "cell_type": "code",
   "execution_count": 11,
   "metadata": {},
   "outputs": [
    {
     "data": {
      "application/vnd.jupyter.widget-view+json": {
       "model_id": "",
       "version_major": 2,
       "version_minor": 0
      },
      "text/plain": [
       "FloatProgress(value=0.0, bar_style='info', description='Progress:', layout=Layout(height='25px', width='50%'),…"
      ]
     },
     "metadata": {},
     "output_type": "display_data"
    }
   ],
   "source": [
    "# Eliminar filas donde valorTotal sea 0 o nulo\n",
    "df_final = df_final.filter((F.col(\"valorTotal\") > 0) & (F.col(\"valorTotal\").isNotNull()))"
   ]
  },
  {
   "cell_type": "markdown",
   "metadata": {},
   "source": [
    "### Eliminar duplicados"
   ]
  },
  {
   "cell_type": "code",
   "execution_count": 12,
   "metadata": {},
   "outputs": [
    {
     "data": {
      "application/vnd.jupyter.widget-view+json": {
       "model_id": "",
       "version_major": 2,
       "version_minor": 0
      },
      "text/plain": [
       "FloatProgress(value=0.0, bar_style='info', description='Progress:', layout=Layout(height='25px', width='50%'),…"
      ]
     },
     "metadata": {},
     "output_type": "display_data"
    }
   ],
   "source": [
    "# Eliminar duplicados por las columnas clave\n",
    "df_final = df_final.dropDuplicates([\"codCliente\", \"codPoliza\", \"fechaInicioVigencia\", \"fechaFinVigencia\", \"Ramo\"])"
   ]
  },
  {
   "cell_type": "markdown",
   "metadata": {},
   "source": [
    "### Crear columna de orden"
   ]
  },
  {
   "cell_type": "code",
   "execution_count": 13,
   "metadata": {},
   "outputs": [
    {
     "data": {
      "application/vnd.jupyter.widget-view+json": {
       "model_id": "",
       "version_major": 2,
       "version_minor": 0
      },
      "text/plain": [
       "FloatProgress(value=0.0, bar_style='info', description='Progress:', layout=Layout(height='25px', width='50%'),…"
      ]
     },
     "metadata": {},
     "output_type": "display_data"
    }
   ],
   "source": [
    "# Crear ventana por cliente y póliza, ordenada por fecha de inicio\n",
    "window_spec = Window.partitionBy(\"codCliente\", \"codPoliza\").orderBy(F.asc(\"fechaInicioVigencia\"))\n",
    "\n",
    "# Agregar columna de orden (opcional, para validar el orden)\n",
    "df_final = df_final.withColumn(\"orden_vigencia\", F.row_number().over(window_spec))\n",
    "\n",
    "df_final = df_final.filter(F.col(\"orden_vigencia\") == 1)"
   ]
  },
  {
   "cell_type": "markdown",
   "metadata": {},
   "source": [
    "## Verificar datos"
   ]
  },
  {
   "cell_type": "code",
   "execution_count": 14,
   "metadata": {},
   "outputs": [
    {
     "data": {
      "application/vnd.jupyter.widget-view+json": {
       "model_id": "",
       "version_major": 2,
       "version_minor": 0
      },
      "text/plain": [
       "FloatProgress(value=0.0, bar_style='info', description='Progress:', layout=Layout(height='25px', width='50%'),…"
      ]
     },
     "metadata": {},
     "output_type": "display_data"
    },
    {
     "name": "stdout",
     "output_type": "stream",
     "text": [
      "N?mero de registros: 81758"
     ]
    }
   ],
   "source": [
    "# Reordenar para verificar\n",
    "df_final = df_final.orderBy(\"codCliente\", \"codPoliza\", \"fechaInicioVigencia\")\n",
    "\n",
    "print(\"Número de registros:\", df_final.count())"
   ]
  },
  {
   "cell_type": "code",
   "execution_count": 15,
   "metadata": {},
   "outputs": [
    {
     "data": {
      "application/vnd.jupyter.widget-view+json": {
       "model_id": "",
       "version_major": 2,
       "version_minor": 0
      },
      "text/plain": [
       "FloatProgress(value=0.0, bar_style='info', description='Progress:', layout=Layout(height='25px', width='50%'),…"
      ]
     },
     "metadata": {},
     "output_type": "display_data"
    },
    {
     "name": "stdout",
     "output_type": "stream",
     "text": [
      "+----------+---------+-----------------+-----------+---------------------+-------------------+----------------+-------+---------------+--------+------------------------+--------+-------------------+----+------------+------------+--------------------------------------------------------+-------------------+-------------+--------------+\n",
      "|codCliente|codPoliza|formaPagoVigencia|valorTotal |Valor_Total_Periodico|fechaInicioVigencia|fechaFinVigencia|estado |OpracionesGrupo|Vigencia|EstadoRenovacionesinicio|ciudad  |tipoVinculacion    |Edad|Tipo_Empresa|tomador     |nomProducto                                             |nomGrupoEmpresarial|Ramo         |orden_vigencia|\n",
      "+----------+---------+-----------------+-----------+---------------------+-------------------+----------------+-------+---------------+--------+------------------------+--------+-------------------+----+------------+------------+--------------------------------------------------------+-------------------+-------------+--------------+\n",
      "|37        |69       |Anual            |642179.0   |642179.0             |2023-03-01         |2026-03-01      |Vigente|Renovación     |Otros   |Vigencias Anteriores    |MEDELLIN|Tomador - Asegurado|31  |P Natural   |Tiene poliza|Plan Vive                                               |Sura               |Vida         |1             |\n",
      "|37        |352      |Mensual          |1103798.0  |91983.0              |2025-04-01         |2026-04-01      |Vigente|Renovación     |Actual  |Renovado                |MEDELLIN|Tomador - Asegurado|31  |P Natural   |Tiene poliza|Salud Para Dos Familiar                                 |Sura               |Salud        |1             |\n",
      "|37        |80568    |Anual            |2612142.0  |2612142.0            |2025-01-22         |2026-01-22      |Vigente|Renovación     |Actual  |Renovado                |MEDELLIN|Tomador - Asegurado|31  |P Natural   |Tiene poliza|Automoviles Individual Livianos Particulares            |Allianz            |Autos        |1             |\n",
      "|39        |2771     |Mensual          |1929740.0  |160812.0             |2025-01-31         |2026-01-31      |Vigente|Renovación     |Actual  |Renovado                |MEDELLIN|Tomador - Asegurado|29  |P Natural   |Tiene poliza|Salud Para Todos Integral Familiar                      |Sura               |Salud        |1             |\n",
      "|58        |9        |Mensual          |1290025.0  |107502.0             |2025-04-03         |2026-04-03      |Vigente|Nueva          |Otros   |Vigencias Anteriores    |MEDELLIN|Tomador - Asegurado|32  |P Natural   |Tiene poliza|Nuevos Productos Autosura                               |Sura               |Autos        |1             |\n",
      "|61        |64612    |Mensual          |5728483.0  |520771.0             |2025-01-30         |2026-01-30      |Vigente|Nueva          |Actual  |Renovado                |MEDELLIN|Tomador - Asegurado|32  |P Natural   |Tiene poliza|Nuevos Productos Autosura                               |Sura               |Autos        |1             |\n",
      "|84        |71       |Mensual          |158598.0   |13216.0              |2025-02-10         |2026-02-10      |Vigente|Renovación     |Otros   |Vigencias Anteriores    |MEDELLIN|Tomador - Asegurado|41  |P Natural   |Tiene poliza|Plan Crédito Protegido                                  |Sura               |Vida         |1             |\n",
      "|84        |118023   |Anual            |5442866.0  |5442866.0            |2024-02-11         |2025-02-11      |Vigente|Renovación     |Anterior|Vigencias Anteriores    |MEDELLIN|Tomador - Asegurado|41  |P Natural   |Tiene poliza|Nuevo Producto Automoviles                              |Bolivar            |Autos        |1             |\n",
      "|85        |2792     |Semestral        |3738743.0  |1869372.0            |2025-05-22         |2026-05-22      |Vigente|Renovación     |Actual  |Renovado                |MEDELLIN|Tomador - Asegurado|74  |P Natural   |Tiene poliza|Nuevos Productos Autosura                               |Sura               |Autos        |1             |\n",
      "|87        |54       |Anual            |1044177.0  |1044177.0            |2020-01-23         |2026-01-23      |Vigente|Renovación     |Anterior|Vigencias Anteriores    |MEDELLIN|Tomador - Asegurado|42  |P Natural   |Tiene poliza|Plan Vive                                               |Sura               |Vida         |1             |\n",
      "|87        |77       |Mensual          |178102.0   |14842.0              |2025-07-15         |2026-07-15      |Vigente|Renovación     |Otros   |Vigencias Anteriores    |MEDELLIN|Tomador - Asegurado|42  |P Natural   |Tiene poliza|Plan Crédito Protegido                                  |Sura               |Vida         |1             |\n",
      "|87        |2756     |Mensual          |1941811.0  |161818.0             |2025-07-25         |2026-07-25      |Vigente|Nueva          |Anterior|Vigencias Anteriores    |MEDELLIN|Tomador - Asegurado|42  |P Natural   |Tiene poliza|Salud Para Todos Integral Familiar                      |Sura               |Salud        |1             |\n",
      "|87        |2757     |Mensual          |3203122.0  |266927.0             |2025-03-25         |2026-03-25      |Vigente|Renovación     |Anterior|Vigencias Anteriores    |MEDELLIN|Tomador - Asegurado|42  |P Natural   |Tiene poliza|Salud Para Todos Integral Familiar                      |Sura               |Salud        |1             |\n",
      "|87        |170078   |Anual            |171396.0   |171396.0             |2025-07-18         |2026-07-18      |Vigente|Nueva          |Actual  |Renovado                |MEDELLIN|Tomador - Asegurado|42  |P Natural   |Tiene poliza|Plan Crédito Protegido                                  |Sura               |Vida         |1             |\n",
      "|95        |7687     |Anual            |1642409.0  |1642409.0            |2025-01-21         |2026-01-21      |Vigente|Renovación     |Anterior|Vigencias Anteriores    |MEDELLIN|Tomador - Asegurado|37  |P Natural   |Tiene poliza|Salud Para Todos Integral Familiar                      |Sura               |Salud        |1             |\n",
      "|1356      |206      |Anual            |1.1932243E7|1.1932243E7          |2023-10-02         |2027-10-02      |Vigente|Renovación     |Actual  |Vigente                 |MEDELLIN|Tomador - Asegurado|0   |P Juridica  |Tiene poliza|Seguro de Cumplimiento                                  |Sura               |Cumplimiento |1             |\n",
      "|1356      |2797     |Mensual          |1.5061232E7|1.5061232E7          |2025-05-01         |2026-05-01      |Vigente|Renovación     |Actual  |Renovado                |MEDELLIN|Tomador - Asegurado|0   |P Juridica  |Tiene poliza|Salud Para Todos Integral Colectivo                     |Sura               |Salud        |1             |\n",
      "|1356      |4691     |Anual            |2713298.0  |2713298.0            |2024-09-09         |2028-09-09      |Vigente|Renovación     |Actual  |Vigente                 |MEDELLIN|Tomador - Asegurado|0   |P Juridica  |Tiene poliza|Seguro de Cumplimiento                                  |Sura               |Cumplimiento |1             |\n",
      "|1356      |4695     |Anual            |428400.0   |428400.0             |2024-09-09         |2025-09-09      |Vigente|Renovación     |Anterior|Vigencias Anteriores    |MEDELLIN|Tomador - Asegurado|0   |P Juridica  |Tiene poliza|Seguro de Responsabilidad Civil Derivado de Cumplimiento|Sura               |Patrimoniales|1             |\n",
      "|1356      |47774    |Mensual          |1103798.0  |91983.0              |2025-03-03         |2026-03-03      |Vigente|Renovación     |Actual  |Renovado                |MEDELLIN|Tomador - Asegurado|0   |P Juridica  |Tiene poliza|Salud Para Dos Familiar                                 |Sura               |Salud        |1             |\n",
      "+----------+---------+-----------------+-----------+---------------------+-------------------+----------------+-------+---------------+--------+------------------------+--------+-------------------+----+------------+------------+--------------------------------------------------------+-------------------+-------------+--------------+\n",
      "only showing top 20 rows"
     ]
    }
   ],
   "source": [
    "df_final.show(truncate=False)"
   ]
  },
  {
   "cell_type": "markdown",
   "metadata": {},
   "source": [
    "## Guardar datos"
   ]
  },
  {
   "cell_type": "code",
   "execution_count": 19,
   "metadata": {
    "colab": {
     "base_uri": "https://localhost:8080/"
    },
    "id": "_jnkRzrScS6h",
    "outputId": "92cd203f-63ba-492c-b452-67fe9f3a1208"
   },
   "outputs": [
    {
     "data": {
      "application/vnd.jupyter.widget-view+json": {
       "model_id": "",
       "version_major": 2,
       "version_minor": 0
      },
      "text/plain": [
       "FloatProgress(value=0.0, bar_style='info', description='Progress:', layout=Layout(height='25px', width='50%'),…"
      ]
     },
     "metadata": {},
     "output_type": "display_data"
    },
    {
     "name": "stdout",
     "output_type": "stream",
     "text": [
      "Datos de la zona trusted guardados exitosamente en: s3://s3-pi-perfilamiento-20252/trusted/"
     ]
    }
   ],
   "source": [
    "path_trusted = \"s3://s3-pi-perfilamiento-20252/trusted/\"\n",
    "\n",
    "df_final.coalesce(1) \\\n",
    "        .write \\\n",
    "        .mode(\"overwrite\") \\\n",
    "        .option(\"header\", \"true\") \\\n",
    "        .csv(path_trusted)\n",
    "\n",
    "print(f\"Datos de la zona trusted guardados exitosamente en: {path_trusted}\")"
   ]
  },
  {
   "cell_type": "code",
   "execution_count": null,
   "metadata": {},
   "outputs": [],
   "source": []
  }
 ],
 "metadata": {
  "colab": {
   "include_colab_link": true,
   "provenance": []
  },
  "kernelspec": {
   "display_name": "PySpark",
   "language": "python",
   "name": "pysparkkernel"
  },
  "language_info": {
   "codemirror_mode": {
    "name": "python",
    "version": 3
   },
   "file_extension": ".py",
   "mimetype": "text/x-python",
   "name": "pyspark",
   "pygments_lexer": "python3"
  }
 },
 "nbformat": 4,
 "nbformat_minor": 1
}
