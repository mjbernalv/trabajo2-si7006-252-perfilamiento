{
  "nbformat": 4,
  "nbformat_minor": 0,
  "metadata": {
    "colab": {
      "provenance": [],
      "include_colab_link": true
    },
    "kernelspec": {
      "name": "python3",
      "display_name": "Python 3"
    },
    "language_info": {
      "name": "python"
    }
  },
  "cells": [
    {
      "cell_type": "markdown",
      "metadata": {
        "id": "view-in-github",
        "colab_type": "text"
      },
      "source": [
        "<a href=\"https://colab.research.google.com/github/mjbernalv/trabajo2-si7006-252-perfilamiento/blob/main/pyspark.ipynb\" target=\"_parent\"><img src=\"https://colab.research.google.com/assets/colab-badge.svg\" alt=\"Open In Colab\"/></a>"
      ]
    },
    {
      "cell_type": "code",
      "source": [
        "from pyspark.sql.functions import col\n",
        "from google.colab import drive\n",
        "from pyspark.sql import SparkSession\n",
        "from pyspark.sql.types import IntegerType, DoubleType\n",
        "import shutil\n",
        "import glob\n",
        "from pyspark.sql import functions as F, Window\n",
        "import re\n",
        "\n",
        "def limpiar_nombre(nombre):\n",
        "    if nombre is None:\n",
        "        return \"Desconocido\"\n",
        "    # Reemplazar cualquier carácter que no sea letra o número por \"_\"\n",
        "    return re.sub(r'[^A-Za-z0-9_]', '_', nombre.strip())"
      ],
      "metadata": {
        "id": "Av-x8nEpkx7k"
      },
      "execution_count": 23,
      "outputs": []
    },
    {
      "cell_type": "code",
      "source": [
        "drive.mount('/content/drive')"
      ],
      "metadata": {
        "colab": {
          "base_uri": "https://localhost:8080/"
        },
        "id": "VecFZmhTVych",
        "outputId": "d44297a9-c977-4b76-c8a1-aa1dd870d189"
      },
      "execution_count": 24,
      "outputs": [
        {
          "output_type": "stream",
          "name": "stdout",
          "text": [
            "Drive already mounted at /content/drive; to attempt to forcibly remount, call drive.mount(\"/content/drive\", force_remount=True).\n"
          ]
        }
      ]
    },
    {
      "cell_type": "code",
      "source": [
        "spark = SparkSession.builder \\\n",
        "    .appName(\"EDA_Dataset_PI\") \\\n",
        "    .getOrCreate()\n",
        "\n",
        "print(\"Spark iniciado:\", spark)"
      ],
      "metadata": {
        "colab": {
          "base_uri": "https://localhost:8080/"
        },
        "id": "tLBLUkcsXmJz",
        "outputId": "30c7997e-a5f8-4ac9-bd33-3a4f0a4d08db"
      },
      "execution_count": 25,
      "outputs": [
        {
          "output_type": "stream",
          "name": "stdout",
          "text": [
            "Spark iniciado: <pyspark.sql.session.SparkSession object at 0x7e982c5bfbc0>\n"
          ]
        }
      ]
    },
    {
      "cell_type": "code",
      "source": [
        "ruta_base = \"/content/drive/MyDrive/Dataset PI/\"\n",
        "\n",
        "detalle_poliza = ruta_base + \"Raw/detalle_poliza.csv\"\n",
        "detalle_producto = ruta_base + \"Raw/detalle_producto.csv\"\n",
        "detalle_cliente = ruta_base + \"Raw/detalle_cliente.csv\"\n",
        "\n",
        "# Leer con inferencia de esquema y header\n",
        "df_poliza = spark.read.option(\"header\", \"true\").option(\"inferSchema\", \"true\").csv(detalle_poliza)\n",
        "df_producto = spark.read.option(\"header\", \"true\").option(\"inferSchema\", \"true\").csv(detalle_producto)\n",
        "df_clientes = spark.read.option(\"header\", \"true\").option(\"inferSchema\", \"true\").csv(detalle_cliente)\n",
        "\n",
        "# Mostrar confirmación\n",
        "print(\"Poliza:\", df_poliza.count(), \"filas,\", len(df_poliza.columns), \"columnas\")\n",
        "print(\"Producto:\", df_producto.count(), \"filas,\", len(df_producto.columns), \"columnas\")\n",
        "print(\"Clientes:\", df_clientes.count(), \"filas,\", len(df_clientes.columns), \"columnas\")\n",
        "\n"
      ],
      "metadata": {
        "colab": {
          "base_uri": "https://localhost:8080/"
        },
        "id": "zZMGv3x_XcvZ",
        "outputId": "78652607-4d96-4d20-92a9-e4affea41405"
      },
      "execution_count": 26,
      "outputs": [
        {
          "output_type": "stream",
          "name": "stdout",
          "text": [
            "Poliza: 226254 filas, 28 columnas\n",
            "Producto: 562 filas, 11 columnas\n",
            "Clientes: 253062 filas, 8 columnas\n"
          ]
        }
      ]
    },
    {
      "cell_type": "code",
      "source": [
        "# Unión de poliza con clientes\n",
        "df_poliza_clientes = df_poliza.join(\n",
        "    df_clientes,\n",
        "    on=\"codCliente\",  # clave común\n",
        "    how=\"left\"\n",
        ")\n",
        "\n",
        "# Unión del resultado anterior con producto\n",
        "df_final = df_poliza_clientes.join(\n",
        "    df_producto,\n",
        "    on=\"codProducto\",  # clave común\n",
        "    how=\"left\"\n",
        ")\n",
        "\n",
        "# Mostrar resultado\n",
        "print(\"Filas finales:\", df_final.count())\n",
        "print(\"Columnas finales:\", len(df_final.columns))\n",
        "df_final.show(5, truncate=False)\n",
        "\n",
        "# Ruta donde guardaremos la tabla unida\n",
        "ruta_salida = \"/content/drive/MyDrive/Dataset PI/tabla_merge.csv\"\n",
        "\n",
        "# Guardar el dataframe como CSV con encabezado\n",
        "df_final.coalesce(1) \\\n",
        "    .write.mode(\"overwrite\") \\\n",
        "    .option(\"header\", \"true\") \\\n",
        "    .csv(ruta_salida)\n",
        "\n",
        "print(\" Tabla final guardada en:\", ruta_salida)\n",
        "\n",
        "\n",
        "\n",
        "# Buscar el archivo generado dentro de la carpeta\n",
        "archivo_generado = glob.glob(ruta_salida + \"/part-*.csv\")[0]\n",
        "\n",
        "# Moverlo a la misma carpeta con el nombre tabla_final.csv\n",
        "ruta_final = \"/content/drive/MyDrive/Dataset PI/tabla_merge_unida.csv\"\n",
        "shutil.move(archivo_generado, ruta_final)\n",
        "\n",
        "# Eliminar la carpeta vacía\n",
        "shutil.rmtree(ruta_salida)\n"
      ],
      "metadata": {
        "colab": {
          "base_uri": "https://localhost:8080/"
        },
        "id": "Gn1x-2sicpmE",
        "outputId": "79013b65-65b1-426a-f5c1-7c8dfdb1c546"
      },
      "execution_count": 27,
      "outputs": [
        {
          "output_type": "stream",
          "name": "stdout",
          "text": [
            "Filas finales: 226254\n",
            "Columnas finales: 45\n",
            "+-----------+----------+---------+-------------------+-----------+----------+-------------------+----------+-----------------+------+----------+-------------+---------------------+-------------------+----------------+-----------+------------------+----------+-----------+---------------+--------+----------+------------------------+--------------------+----------------+----------------------------+------------------+------------------+--------------------------+----------------+-------------------+----+------------------------------+------------+------------+------------------+-------+----------+-------------+-------------+--------------------------------+-------------------+----------+----------+------------------+\n",
            "|codProducto|codCliente|codPoliza|estadoProcesamiento|fechaInicio|fechaFin  |origenProcesamiento|estadoDato|formaPagoVigencia|IVA   |valorTotal|IVA_Periodico|Valor_Total_Periodico|fechaInicioVigencia|fechaFinVigencia|estado     |EstadoRenovaciones|tipoPoliza|aseguradora|OpracionesGrupo|Vigencia|Fecha     |EstadoRenovacionesinicio|ciudad              |valorTotalSinIva|Valor_Total_Periodico_SinIva|TasaIVA           |TasaIVA_Periodico |fechaNacCliente           |nomTipoDocumento|tipoVinculacion    |Edad|FechaCumple                   |Tipo Empresa|tomador     |nomProducto       |codRamo|nomRamo   |seRenuevaRamo|nomGrupo     |nomCompania                     |nomGrupoEmpresarial|GrupoRamo |Ramo      |NegociosEspeciales|\n",
            "+-----------+----------+---------+-------------------+-----------+----------+-------------------+----------+-----------------+------+----------+-------------+---------------------+-------------------+----------------+-----------+------------------+----------+-----------+---------------+--------+----------+------------------------+--------------------+----------------+----------------------------+------------------+------------------+--------------------------+----------------+-------------------+----+------------------------------+------------+------------+------------------+-------+----------+-------------+-------------+--------------------------------+-------------------+----------+----------+------------------+\n",
            "|26         |153029    |155142   |Procesado          |2025-06-25 |2025-06-29|Programa           |Correcto  |Anual            |-221.0|-4043     |-221.0       |-4043.0              |2025-06-25         |2025-06-29      |Cancelada  |Cancelada         |Póliza    |SURA       |Cancelada      |Anterior|2025-06-29|Cancelada               |OLANO ASESORES LTDA.|-3822.0         |-3822.0                     |0.0578231292517007|0.0578231292517007|lunes, 22 de abril de 1968|Cedula          |Tomador - Asegurado|57  |miércoles, 22 de abril de 2026|P Natural   |Tiene poliza|Productos Viajeros|BAN    |AP Viajero|No se Renueva|Empresariales|Soluciones de Seguros Generales |Sura               |Ap Viajero|Ap Viajero|No Aplica         |\n",
            "|26         |153029    |165074   |Procesado          |2025-06-25 |2025-06-29|Programa           |Correcto  |Anual            |-221.0|-4043     |-221.0       |-4043.0              |2025-06-25         |2025-06-29      |Cancelada  |Cancelada         |Póliza    |SURA       |Cancelada      |Anterior|2025-06-29|Cancelada               |OLANO ASESORES LTDA.|-3822.0         |-3822.0                     |0.0578231292517007|0.0578231292517007|lunes, 22 de abril de 1968|Cedula          |Tomador - Asegurado|57  |miércoles, 22 de abril de 2026|P Natural   |Tiene poliza|Productos Viajeros|BAN    |AP Viajero|No se Renueva|Empresariales|Soluciones de Seguros Generales |Sura               |Ap Viajero|Ap Viajero|No Aplica         |\n",
            "|26         |153029    |155143   |Procesado          |2025-06-25 |2025-06-29|Programa           |Correcto  |Anual            |-221.0|-4043     |-221.0       |-4043.0              |2025-06-25         |2025-06-29      |Cancelada  |Cancelada         |Póliza    |SURA       |Cancelada      |Anterior|2025-06-29|Cancelada               |OLANO ASESORES LTDA.|-3822.0         |-3822.0                     |0.0578231292517007|0.0578231292517007|lunes, 22 de abril de 1968|Cedula          |Tomador - Asegurado|57  |miércoles, 22 de abril de 2026|P Natural   |Tiene poliza|Productos Viajeros|BAN    |AP Viajero|No se Renueva|Empresariales|Soluciones de Seguros Generales |Sura               |Ap Viajero|Ap Viajero|No Aplica         |\n",
            "|26         |153029    |165072   |Procesado          |2025-06-25 |2025-06-29|Programa           |Correcto  |Anual            |-221.0|-4043     |-221.0       |-4043.0              |2025-06-25         |2025-06-29      |Cancelada  |Cancelada         |Póliza    |SURA       |Cancelada      |Anterior|2025-06-29|Cancelada               |OLANO ASESORES LTDA.|-3822.0         |-3822.0                     |0.0578231292517007|0.0578231292517007|lunes, 22 de abril de 1968|Cedula          |Tomador - Asegurado|57  |miércoles, 22 de abril de 2026|P Natural   |Tiene poliza|Productos Viajeros|BAN    |AP Viajero|No se Renueva|Empresariales|Soluciones de Seguros Generales |Sura               |Ap Viajero|Ap Viajero|No Aplica         |\n",
            "|165        |214088    |192854   |Sin información    |2024-02-29 |2025-02-28|Programa           |Correcto  |Anual            |0.0   |0         |0.0          |0.0                  |2024-02-29         |2025-02-28      |No Renovada|No Renovado       |Soat      |BOLIVAR    |Otras OP       |Actual  |2025-02-28|No Renovada             |MEDELLIN            |0.0             |0.0                         |0.0               |0.0               |NULL                      |Cedula          |Tomador            |0   |NULL                          |P Natural   |Tiene poliza|Soat              |B310   |Soat      |Se renueva   |Soat         |Compañía de Seguros Bolívar S.A.|Bolivar            |Soat      |Soat      |No Aplica         |\n",
            "+-----------+----------+---------+-------------------+-----------+----------+-------------------+----------+-----------------+------+----------+-------------+---------------------+-------------------+----------------+-----------+------------------+----------+-----------+---------------+--------+----------+------------------------+--------------------+----------------+----------------------------+------------------+------------------+--------------------------+----------------+-------------------+----+------------------------------+------------+------------+------------------+-------+----------+-------------+-------------+--------------------------------+-------------------+----------+----------+------------------+\n",
            "only showing top 5 rows\n",
            "\n",
            " Tabla final guardada en: /content/drive/MyDrive/Dataset PI/tabla_merge.csv\n"
          ]
        }
      ]
    },
    {
      "cell_type": "code",
      "source": [
        "columnas_a_eliminar = [\n",
        "    \"codProducto\",\n",
        "    \"estadoProcesamiento\",\n",
        "    \"origenProcesamiento\",\n",
        "    \"estadoDato\",\n",
        "    \"IVA\",\n",
        "    \"IVA_Periodico\",\n",
        "    \"fechaInicio\",\n",
        "    \"fechaFin\",\n",
        "    \"EstadoRenovaciones\",\n",
        "    \"tipoPoliza\",\n",
        "    \"Fecha\",\n",
        "    \"valorTotalSinIva\",\n",
        "    \"Valor_Total_Periodico_SinIva\",\n",
        "    \"TasaIVA\",\n",
        "    \"TasaIVA_Periodico\",\n",
        "    \"fechaNacCliente\",\n",
        "    \"FechaCumple\",\n",
        "    \"nomTipoDocumento\",\n",
        "    \"Tiene poliza\",\n",
        "    \"codRamo\",\n",
        "    \"seRenuevaRamo\",\n",
        "    \"nomGrupo\",\n",
        "    \"nomCompania\",\n",
        "    \"GrupoRamo\",\n",
        "    \"nomRamo\",\n",
        "    \"NegociosEspeciales\",\n",
        "    \"aseguradora\",\n",
        "    \"tomador\"\n",
        "    \"nomProducto\"\n",
        "]\n",
        "# Eliminar columnas (solo si existen en el dataframe)\n",
        "df_final = df_final.drop(*[c for c in columnas_a_eliminar if c in df_final.columns])\n",
        "\n",
        "print(\"Columnas eliminadas correctamente\")\n",
        "print(\"Número de columnas restantes:\", len(df_final.columns))\n"
      ],
      "metadata": {
        "colab": {
          "base_uri": "https://localhost:8080/"
        },
        "id": "n1g7nrHPkF1V",
        "outputId": "32381927-a3de-41d2-873a-dda82bbdbe20"
      },
      "execution_count": 28,
      "outputs": [
        {
          "output_type": "stream",
          "name": "stdout",
          "text": [
            "Columnas eliminadas correctamente\n",
            "Número de columnas restantes: 19\n"
          ]
        }
      ]
    },
    {
      "cell_type": "code",
      "source": [
        "\n",
        "\n",
        "df_final = df_final.withColumn(\n",
        "    \"Ramo\",\n",
        "    F.when(F.col(\"Ramo\").isin(\n",
        "        \"Salud Familiar\", \"Enfermedades Graves\", \"Salud Colectivo\",\n",
        "        \"Asistencia Medica\", \"Medicina Prepagada\"\n",
        "    ), \"Salud\")\n",
        "    .when(F.col(\"Ramo\").isin(\n",
        "        \"Vida Individual\", \"Vida Grupo\", \"Educacion\", \"Pension\",\n",
        "        \"Accidentes Personales\", \"Juvenil\", \"Exequial\"\n",
        "    ), \"Vida\")\n",
        "    .when(F.col(\"Ramo\").isin(\n",
        "        \"Automoviles\", \"Soat\"\n",
        "    ), \"Autos\")\n",
        "    .when(F.col(\"Ramo\").isin(\n",
        "        \"Cumplimiento\", \"Arrendamiento\"\n",
        "    ), \"Cumplimiento\")\n",
        "    .when(F.col(\"Ramo\").isin(\n",
        "        \"Incendio\", \"Responsabilidad Civil\", \"Hogar\", \"Transporte Mercancia\",\n",
        "        \"Transporte Valores\", \"Maquinaria Y Equipo\", \"Manejo\", \"Copropiedad\",\n",
        "        \"Montaje\", \"Construcción\", \"Navegacion\",\n",
        "        \"R.C. Parqueaderos Y Talleres\", \"Agricola\"\n",
        "    ), \"Patrimoniales\")\n",
        "    .otherwise(\"Otros\")\n",
        ")"
      ],
      "metadata": {
        "id": "NbldViNaVnh1"
      },
      "execution_count": 29,
      "outputs": []
    },
    {
      "cell_type": "code",
      "source": [
        "# Reemplazamos espacios y caracteres raros por guiones bajos\n",
        "for old_name in df_final.columns:\n",
        "    new_name = old_name.strip().replace(\" \", \"_\").replace(\"-\", \"_\")\n",
        "    df_final = df_final.withColumnRenamed(old_name, new_name)\n"
      ],
      "metadata": {
        "id": "oafWS-VFm8aS"
      },
      "execution_count": 30,
      "outputs": []
    },
    {
      "cell_type": "code",
      "source": [
        "df_final = df_final.withColumn(\"Edad\", col(\"Edad\").cast(IntegerType()))\n",
        "df_final = df_final.withColumn(\"valorTotal\", col(\"valorTotal\").cast(DoubleType()))\n"
      ],
      "metadata": {
        "id": "i5Lnq368m_7p"
      },
      "execution_count": 31,
      "outputs": []
    },
    {
      "cell_type": "code",
      "source": [
        "df_final.show(5, truncate=False)"
      ],
      "metadata": {
        "colab": {
          "base_uri": "https://localhost:8080/"
        },
        "id": "7uEBXgmFnQQ6",
        "outputId": "ab442027-a5c3-4e76-aec2-5837568ed797"
      },
      "execution_count": 32,
      "outputs": [
        {
          "output_type": "stream",
          "name": "stdout",
          "text": [
            "+----------+---------+-----------------+----------+---------------------+-------------------+----------------+-----------+---------------+--------+------------------------+--------------------+-------------------+----+------------+------------+------------------+-------------------+-----+\n",
            "|codCliente|codPoliza|formaPagoVigencia|valorTotal|Valor_Total_Periodico|fechaInicioVigencia|fechaFinVigencia|estado     |OpracionesGrupo|Vigencia|EstadoRenovacionesinicio|ciudad              |tipoVinculacion    |Edad|Tipo_Empresa|tomador     |nomProducto       |nomGrupoEmpresarial|Ramo |\n",
            "+----------+---------+-----------------+----------+---------------------+-------------------+----------------+-----------+---------------+--------+------------------------+--------------------+-------------------+----+------------+------------+------------------+-------------------+-----+\n",
            "|153029    |155142   |Anual            |-4043.0   |-4043.0              |2025-06-25         |2025-06-29      |Cancelada  |Cancelada      |Anterior|Cancelada               |OLANO ASESORES LTDA.|Tomador - Asegurado|57  |P Natural   |Tiene poliza|Productos Viajeros|Sura               |Otros|\n",
            "|153029    |165074   |Anual            |-4043.0   |-4043.0              |2025-06-25         |2025-06-29      |Cancelada  |Cancelada      |Anterior|Cancelada               |OLANO ASESORES LTDA.|Tomador - Asegurado|57  |P Natural   |Tiene poliza|Productos Viajeros|Sura               |Otros|\n",
            "|153029    |155143   |Anual            |-4043.0   |-4043.0              |2025-06-25         |2025-06-29      |Cancelada  |Cancelada      |Anterior|Cancelada               |OLANO ASESORES LTDA.|Tomador - Asegurado|57  |P Natural   |Tiene poliza|Productos Viajeros|Sura               |Otros|\n",
            "|153029    |165072   |Anual            |-4043.0   |-4043.0              |2025-06-25         |2025-06-29      |Cancelada  |Cancelada      |Anterior|Cancelada               |OLANO ASESORES LTDA.|Tomador - Asegurado|57  |P Natural   |Tiene poliza|Productos Viajeros|Sura               |Otros|\n",
            "|214088    |192854   |Anual            |0.0       |0.0                  |2024-02-29         |2025-02-28      |No Renovada|Otras OP       |Actual  |No Renovada             |MEDELLIN            |Tomador            |0   |P Natural   |Tiene poliza|Soat              |Bolivar            |Autos|\n",
            "+----------+---------+-----------------+----------+---------------------+-------------------+----------------+-----------+---------------+--------+------------------------+--------------------+-------------------+----+------------+------------+------------------+-------------------+-----+\n",
            "only showing top 5 rows\n",
            "\n"
          ]
        }
      ]
    },
    {
      "cell_type": "markdown",
      "source": [
        "operaciones= nuevas and renovaciones\n",
        "estado!= cancelado\n",
        "valor >=0\n",
        "vigencias != otros\n",
        "\n",
        "\n",
        "\n",
        "crear una columna que coja cada policza y marque como 1 la mas vieja 2 la que sigue y asi\n",
        "\n",
        "hacer un desc rank"
      ],
      "metadata": {
        "id": "jG7T8Wbx5c2T"
      }
    },
    {
      "cell_type": "code",
      "metadata": {
        "colab": {
          "base_uri": "https://localhost:8080/"
        },
        "id": "00fd1160",
        "outputId": "961137de-2f4f-47bc-c988-5fcaa90492b9"
      },
      "source": [
        "df_final_filtered = df_final.filter(\n",
        "    (col(\"OpracionesGrupo\").isin(\"Nueva\", \"Renovación\")) &\n",
        "    (col(\"EstadoRenovaciones\") != \"Cancelada\") &\n",
        "    (col(\"valorTotal\") > 0) &\n",
        "    (col(\"Vigencia\") != \"Otros\")\n",
        ")\n",
        "\n",
        "print(\"Número de filas después del filtrado:\", df_final_filtered.count())\n",
        "df_final_filtered.show(5, truncate=False)"
      ],
      "execution_count": 33,
      "outputs": [
        {
          "output_type": "stream",
          "name": "stdout",
          "text": [
            "Número de filas después del filtrado: 115745\n",
            "+----------+---------+-----------------+-----------+---------------------+-------------------+----------------+-------+---------------+--------+------------------------+--------------------+-------------------+----+------------+------------+---------------------------+-------------------+-------------+\n",
            "|codCliente|codPoliza|formaPagoVigencia|valorTotal |Valor_Total_Periodico|fechaInicioVigencia|fechaFinVigencia|estado |OpracionesGrupo|Vigencia|EstadoRenovacionesinicio|ciudad              |tipoVinculacion    |Edad|Tipo_Empresa|tomador     |nomProducto                |nomGrupoEmpresarial|Ramo         |\n",
            "+----------+---------+-----------------+-----------+---------------------+-------------------+----------------+-------+---------------+--------+------------------------+--------------------+-------------------+----+------------+------------+---------------------------+-------------------+-------------+\n",
            "|9853      |15214    |Mensual          |1.5216566E7|1268047.0            |2025-07-30         |2026-07-30      |Vigente|Renovación     |Anterior|Vigencias Anteriores    |OLANO ASESORES LTDA.|Tomador            |37  |P Natural   |Tiene poliza|Plan Salud Clásico Familiar|Sura               |Salud        |\n",
            "|9878      |15240    |Anual            |633057.0   |633057.0             |2025-05-25         |2026-05-25      |Vigente|Renovación     |Anterior|Vigencias Anteriores    |OLANO ASESORES LTDA.|Tomador - Asegurado|36  |P Natural   |Tiene poliza|R.C. D Y O Host Gw         |Sura               |Patrimoniales|\n",
            "|9885      |15249    |Mensual          |1.1681359E7|973447.0             |2025-10-06         |2026-10-06      |Vigente|Renovación     |Anterior|Vigencias Anteriores    |OLANO ASESORES LTDA.|Tomador - Asegurado|39  |P Natural   |Tiene poliza|Plan Salud Clásico Familiar|Sura               |Salud        |\n",
            "|9894      |15239    |Mensual          |1.0528623E7|877385.0             |2025-09-01         |2026-09-01      |Vigente|Renovación     |Anterior|Vigencias Anteriores    |OLANO ASESORES LTDA.|Tomador - Asegurado|37  |P Natural   |Tiene poliza|Plan Salud Clásico Familiar|Sura               |Salud        |\n",
            "|153722    |199631   |Anual            |4.4336381E7|4.4336381E7          |2025-07-01         |2026-07-01      |Vigente|Renovación     |Actual  |Renovado                |MEDELLIN            |Tomador - Asegurado|71  |P Natural   |Tiene poliza|Allianz Medicall Gold      |Allianz            |Salud        |\n",
            "+----------+---------+-----------------+-----------+---------------------+-------------------+----------------+-------+---------------+--------+------------------------+--------------------+-------------------+----+------------+------------+---------------------------+-------------------+-------------+\n",
            "only showing top 5 rows\n",
            "\n"
          ]
        }
      ]
    },
    {
      "cell_type": "code",
      "source": [
        "# Eliminar filas donde valorTotal sea 0 o nulo\n",
        "df_final = df_final.filter((F.col(\"valorTotal\") > 0) & (F.col(\"valorTotal\").isNotNull()))\n",
        "\n",
        "# Eliminar duplicados por las columnas clave\n",
        "df_final = df_final.dropDuplicates([\"codCliente\", \"codPoliza\", \"fechaInicioVigencia\", \"fechaFinVigencia\", \"Ramo\"])\n",
        "\n",
        "# (Opcional) Reordenar para verificar\n",
        "df_final = df_final.orderBy(\"codCliente\", \"codPoliza\", \"fechaInicioVigencia\")\n",
        "\n",
        "print(\"Número de registros:\", df_final.count())"
      ],
      "metadata": {
        "colab": {
          "base_uri": "https://localhost:8080/"
        },
        "id": "3voRckniEZqY",
        "outputId": "7aa5cd57-2699-4846-f1a1-0ea62eb8fb9f"
      },
      "execution_count": 34,
      "outputs": [
        {
          "output_type": "stream",
          "name": "stdout",
          "text": [
            "Número de registros: 83574\n"
          ]
        }
      ]
    },
    {
      "cell_type": "code",
      "source": [
        "# Asegurar que la columna de fecha sea tipo date\n",
        "df_final = df_final.withColumn(\n",
        "    \"fechaInicioVigencia\",\n",
        "    F.to_date(\"fechaInicioVigencia\", \"dd/MM/yyyy\")\n",
        ")\n",
        "\n",
        "# Crear ventana por cliente y póliza, ordenada por fecha de inicio\n",
        "window_spec = Window.partitionBy(\"codCliente\", \"codPoliza\").orderBy(F.asc(\"fechaInicioVigencia\"))\n",
        "\n",
        "# Agregar columna de orden (opcional, para validar el orden)\n",
        "df_final = df_final.withColumn(\"orden_vigencia\", F.row_number().over(window_spec))\n",
        "\n",
        "# Mostrar resultados ordenados globalmente para ver el efecto\n",
        "df_final = df_final.orderBy(\"codCliente\", \"codPoliza\", \"orden_vigencia\")\n",
        "\n",
        "#traer solo las primeras vigencias\n",
        "df_final=df_final.filter(F.col(\"orden_vigencia\") == 1)\n",
        "\n",
        "df_final.show( truncate=False)\n"
      ],
      "metadata": {
        "colab": {
          "base_uri": "https://localhost:8080/"
        },
        "id": "Y-ug8Y3qCEnK",
        "outputId": "f452fdfb-8ebb-467c-8a88-8d91086bf30a"
      },
      "execution_count": 35,
      "outputs": [
        {
          "output_type": "stream",
          "name": "stdout",
          "text": [
            "+----------+---------+-----------------+-----------+---------------------+-------------------+----------------+-------+---------------+--------+------------------------+--------+-------------------+----+------------+------------+--------------------------------------------------------+-------------------+-------------+--------------+\n",
            "|codCliente|codPoliza|formaPagoVigencia|valorTotal |Valor_Total_Periodico|fechaInicioVigencia|fechaFinVigencia|estado |OpracionesGrupo|Vigencia|EstadoRenovacionesinicio|ciudad  |tipoVinculacion    |Edad|Tipo_Empresa|tomador     |nomProducto                                             |nomGrupoEmpresarial|Ramo         |orden_vigencia|\n",
            "+----------+---------+-----------------+-----------+---------------------+-------------------+----------------+-------+---------------+--------+------------------------+--------+-------------------+----+------------+------------+--------------------------------------------------------+-------------------+-------------+--------------+\n",
            "|37        |69       |Anual            |642179.0   |642179.0             |2023-03-01         |2026-03-01      |Vigente|Renovación     |Otros   |Vigencias Anteriores    |MEDELLIN|Tomador - Asegurado|31  |P Natural   |Tiene poliza|Plan Vive                                               |Sura               |Vida         |1             |\n",
            "|37        |352      |Mensual          |1103798.0  |91983.0              |2025-04-01         |2026-04-01      |Vigente|Renovación     |Actual  |Renovado                |MEDELLIN|Tomador - Asegurado|31  |P Natural   |Tiene poliza|Salud Para Dos Familiar                                 |Sura               |Salud        |1             |\n",
            "|37        |80568    |Anual            |2612142.0  |2612142.0            |2025-01-22         |2026-01-22      |Vigente|Renovación     |Actual  |Renovado                |MEDELLIN|Tomador - Asegurado|31  |P Natural   |Tiene poliza|Automoviles Individual Livianos Particulares            |Allianz            |Autos        |1             |\n",
            "|39        |2771     |Mensual          |1929740.0  |160812.0             |2025-01-31         |2026-01-31      |Vigente|Renovación     |Actual  |Renovado                |MEDELLIN|Tomador - Asegurado|29  |P Natural   |Tiene poliza|Salud Para Todos Integral Familiar                      |Sura               |Salud        |1             |\n",
            "|58        |9        |Mensual          |1290025.0  |107502.0             |2025-04-03         |2026-04-03      |Vigente|Nueva          |Otros   |Vigencias Anteriores    |MEDELLIN|Tomador - Asegurado|32  |P Natural   |Tiene poliza|Nuevos Productos Autosura                               |Sura               |Autos        |1             |\n",
            "|61        |64612    |Mensual          |5728483.0  |520771.0             |2025-01-30         |2026-01-30      |Vigente|Nueva          |Actual  |Renovado                |MEDELLIN|Tomador - Asegurado|32  |P Natural   |Tiene poliza|Nuevos Productos Autosura                               |Sura               |Autos        |1             |\n",
            "|84        |71       |Mensual          |158598.0   |13216.0              |2025-02-10         |2026-02-10      |Vigente|Renovación     |Otros   |Vigencias Anteriores    |MEDELLIN|Tomador - Asegurado|41  |P Natural   |Tiene poliza|Plan Crédito Protegido                                  |Sura               |Vida         |1             |\n",
            "|84        |118023   |Anual            |5442866.0  |5442866.0            |2024-02-11         |2025-02-11      |Vigente|Renovación     |Anterior|Vigencias Anteriores    |MEDELLIN|Tomador - Asegurado|41  |P Natural   |Tiene poliza|Nuevo Producto Automoviles                              |Bolivar            |Autos        |1             |\n",
            "|85        |2792     |Semestral        |3738743.0  |1869372.0            |2025-05-22         |2026-05-22      |Vigente|Renovación     |Actual  |Renovado                |MEDELLIN|Tomador - Asegurado|74  |P Natural   |Tiene poliza|Nuevos Productos Autosura                               |Sura               |Autos        |1             |\n",
            "|87        |54       |Anual            |1044177.0  |1044177.0            |2020-01-23         |2026-01-23      |Vigente|Renovación     |Anterior|Vigencias Anteriores    |MEDELLIN|Tomador - Asegurado|42  |P Natural   |Tiene poliza|Plan Vive                                               |Sura               |Vida         |1             |\n",
            "|87        |77       |Mensual          |178102.0   |14842.0              |2025-07-15         |2026-07-15      |Vigente|Renovación     |Otros   |Vigencias Anteriores    |MEDELLIN|Tomador - Asegurado|42  |P Natural   |Tiene poliza|Plan Crédito Protegido                                  |Sura               |Vida         |1             |\n",
            "|87        |2756     |Mensual          |1941811.0  |161818.0             |2025-07-25         |2026-07-25      |Vigente|Nueva          |Anterior|Vigencias Anteriores    |MEDELLIN|Tomador - Asegurado|42  |P Natural   |Tiene poliza|Salud Para Todos Integral Familiar                      |Sura               |Salud        |1             |\n",
            "|87        |2757     |Mensual          |3203122.0  |266927.0             |2025-03-25         |2026-03-25      |Vigente|Renovación     |Anterior|Vigencias Anteriores    |MEDELLIN|Tomador - Asegurado|42  |P Natural   |Tiene poliza|Salud Para Todos Integral Familiar                      |Sura               |Salud        |1             |\n",
            "|87        |170078   |Anual            |171396.0   |171396.0             |2025-07-18         |2026-07-18      |Vigente|Nueva          |Actual  |Renovado                |MEDELLIN|Tomador - Asegurado|42  |P Natural   |Tiene poliza|Plan Crédito Protegido                                  |Sura               |Vida         |1             |\n",
            "|95        |7687     |Anual            |1642409.0  |1642409.0            |2025-01-21         |2026-01-21      |Vigente|Renovación     |Anterior|Vigencias Anteriores    |MEDELLIN|Tomador - Asegurado|37  |P Natural   |Tiene poliza|Salud Para Todos Integral Familiar                      |Sura               |Salud        |1             |\n",
            "|1356      |206      |Anual            |1.1932243E7|1.1932243E7          |2023-10-02         |2027-10-02      |Vigente|Renovación     |Actual  |Vigente                 |MEDELLIN|Tomador - Asegurado|0   |P Juridica  |Tiene poliza|Seguro de Cumplimiento                                  |Sura               |Cumplimiento |1             |\n",
            "|1356      |2797     |Mensual          |1.5061232E7|1.5061232E7          |2025-05-01         |2026-05-01      |Vigente|Renovación     |Actual  |Renovado                |MEDELLIN|Tomador - Asegurado|0   |P Juridica  |Tiene poliza|Salud Para Todos Integral Colectivo                     |Sura               |Salud        |1             |\n",
            "|1356      |4691     |Anual            |2713298.0  |2713298.0            |2024-09-09         |2028-09-09      |Vigente|Renovación     |Actual  |Vigente                 |MEDELLIN|Tomador - Asegurado|0   |P Juridica  |Tiene poliza|Seguro de Cumplimiento                                  |Sura               |Cumplimiento |1             |\n",
            "|1356      |4695     |Anual            |428400.0   |428400.0             |2024-09-09         |2025-09-09      |Vigente|Renovación     |Anterior|Vigencias Anteriores    |MEDELLIN|Tomador - Asegurado|0   |P Juridica  |Tiene poliza|Seguro de Responsabilidad Civil Derivado de Cumplimiento|Sura               |Patrimoniales|1             |\n",
            "|1356      |47774    |Mensual          |1103798.0  |91983.0              |2025-03-03         |2026-03-03      |Vigente|Renovación     |Actual  |Renovado                |MEDELLIN|Tomador - Asegurado|0   |P Juridica  |Tiene poliza|Salud Para Dos Familiar                                 |Sura               |Salud        |1             |\n",
            "+----------+---------+-----------------+-----------+---------------------+-------------------+----------------+-------+---------------+--------+------------------------+--------+-------------------+----+------------+------------+--------------------------------------------------------+-------------------+-------------+--------------+\n",
            "only showing top 20 rows\n",
            "\n"
          ]
        }
      ]
    },
    {
      "cell_type": "code",
      "source": [
        "#Refined\n",
        "# Ruta donde guardaremos la tabla unida\n",
        "ruta_salida = \"/content/drive/MyDrive/Dataset PI/Refined/Refined_temp.csv\"\n",
        "\n",
        "# Guardar el dataframe como CSV con encabezado\n",
        "df_final.coalesce(1) \\\n",
        "    .write.mode(\"overwrite\") \\\n",
        "    .option(\"header\", \"true\") \\\n",
        "    .csv(ruta_salida)\n",
        "\n",
        "print(\" Tabla final guardada en:\", ruta_salida)\n",
        "\n",
        "\n",
        "\n",
        "# Buscar el archivo generado dentro de la carpeta\n",
        "archivo_generado = glob.glob(ruta_salida + \"/part-*.csv\")[0]\n",
        "\n",
        "# Moverlo a la misma carpeta con el nombre tabla_final.csv\n",
        "ruta_final = \"/content/drive/MyDrive/Dataset PI/Refined/Refined_data.csv\"\n",
        "shutil.move(archivo_generado, ruta_final)\n",
        "\n",
        "# Eliminar la carpeta vacía\n",
        "shutil.rmtree(ruta_salida)\n"
      ],
      "metadata": {
        "colab": {
          "base_uri": "https://localhost:8080/"
        },
        "id": "_jnkRzrScS6h",
        "outputId": "92cd203f-63ba-492c-b452-67fe9f3a1208"
      },
      "execution_count": 36,
      "outputs": [
        {
          "output_type": "stream",
          "name": "stdout",
          "text": [
            " Tabla final guardada en: /content/drive/MyDrive/Dataset PI/Refined/Refined_temp.csv\n"
          ]
        }
      ]
    },
    {
      "cell_type": "code",
      "source": [
        "# Crear ventana por cliente, ordenando por la fecha de inicio\n",
        "window_spec = Window.partitionBy(\"codCliente\").orderBy(F.asc(\"fechaInicioVigencia\"))\n",
        "\n",
        "# Crear columna orden_poliza: asigna el mismo número a pólizas con igual fecha\n",
        "df_final = df_final.withColumn(\"orden_poliza\", F.dense_rank().over(window_spec))\n",
        "\n",
        "df_final.orderBy(\"codCliente\", \"orden_poliza\").show(100, truncate=False)\n",
        "\n"
      ],
      "metadata": {
        "colab": {
          "base_uri": "https://localhost:8080/"
        },
        "id": "nfJOwLCVOhBU",
        "outputId": "5fe4fe19-837c-4649-8a01-00ccdfb0a842"
      },
      "execution_count": 37,
      "outputs": [
        {
          "output_type": "stream",
          "name": "stdout",
          "text": [
            "+----------+---------+-----------------+------------+---------------------+-------------------+----------------+-------+---------------+--------+------------------------+--------+-------------------+----+------------+------------+--------------------------------------------------------+-------------------+-------------+--------------+------------+\n",
            "|codCliente|codPoliza|formaPagoVigencia|valorTotal  |Valor_Total_Periodico|fechaInicioVigencia|fechaFinVigencia|estado |OpracionesGrupo|Vigencia|EstadoRenovacionesinicio|ciudad  |tipoVinculacion    |Edad|Tipo_Empresa|tomador     |nomProducto                                             |nomGrupoEmpresarial|Ramo         |orden_vigencia|orden_poliza|\n",
            "+----------+---------+-----------------+------------+---------------------+-------------------+----------------+-------+---------------+--------+------------------------+--------+-------------------+----+------------+------------+--------------------------------------------------------+-------------------+-------------+--------------+------------+\n",
            "|37        |69       |Anual            |642179.0    |642179.0             |2023-03-01         |2026-03-01      |Vigente|Renovación     |Otros   |Vigencias Anteriores    |MEDELLIN|Tomador - Asegurado|31  |P Natural   |Tiene poliza|Plan Vive                                               |Sura               |Vida         |1             |1           |\n",
            "|37        |80568    |Anual            |2612142.0   |2612142.0            |2025-01-22         |2026-01-22      |Vigente|Renovación     |Actual  |Renovado                |MEDELLIN|Tomador - Asegurado|31  |P Natural   |Tiene poliza|Automoviles Individual Livianos Particulares            |Allianz            |Autos        |1             |2           |\n",
            "|37        |352      |Mensual          |1103798.0   |91983.0              |2025-04-01         |2026-04-01      |Vigente|Renovación     |Actual  |Renovado                |MEDELLIN|Tomador - Asegurado|31  |P Natural   |Tiene poliza|Salud Para Dos Familiar                                 |Sura               |Salud        |1             |3           |\n",
            "|39        |2771     |Mensual          |1929740.0   |160812.0             |2025-01-31         |2026-01-31      |Vigente|Renovación     |Actual  |Renovado                |MEDELLIN|Tomador - Asegurado|29  |P Natural   |Tiene poliza|Salud Para Todos Integral Familiar                      |Sura               |Salud        |1             |1           |\n",
            "|58        |9        |Mensual          |1290025.0   |107502.0             |2025-04-03         |2026-04-03      |Vigente|Nueva          |Otros   |Vigencias Anteriores    |MEDELLIN|Tomador - Asegurado|32  |P Natural   |Tiene poliza|Nuevos Productos Autosura                               |Sura               |Autos        |1             |1           |\n",
            "|61        |64612    |Mensual          |5728483.0   |520771.0             |2025-01-30         |2026-01-30      |Vigente|Nueva          |Actual  |Renovado                |MEDELLIN|Tomador - Asegurado|32  |P Natural   |Tiene poliza|Nuevos Productos Autosura                               |Sura               |Autos        |1             |1           |\n",
            "|84        |118023   |Anual            |5442866.0   |5442866.0            |2024-02-11         |2025-02-11      |Vigente|Renovación     |Anterior|Vigencias Anteriores    |MEDELLIN|Tomador - Asegurado|41  |P Natural   |Tiene poliza|Nuevo Producto Automoviles                              |Bolivar            |Autos        |1             |1           |\n",
            "|84        |71       |Mensual          |158598.0    |13216.0              |2025-02-10         |2026-02-10      |Vigente|Renovación     |Otros   |Vigencias Anteriores    |MEDELLIN|Tomador - Asegurado|41  |P Natural   |Tiene poliza|Plan Crédito Protegido                                  |Sura               |Vida         |1             |2           |\n",
            "|85        |2792     |Semestral        |3738743.0   |1869372.0            |2025-05-22         |2026-05-22      |Vigente|Renovación     |Actual  |Renovado                |MEDELLIN|Tomador - Asegurado|74  |P Natural   |Tiene poliza|Nuevos Productos Autosura                               |Sura               |Autos        |1             |1           |\n",
            "|87        |54       |Anual            |1044177.0   |1044177.0            |2020-01-23         |2026-01-23      |Vigente|Renovación     |Anterior|Vigencias Anteriores    |MEDELLIN|Tomador - Asegurado|42  |P Natural   |Tiene poliza|Plan Vive                                               |Sura               |Vida         |1             |1           |\n",
            "|87        |2757     |Mensual          |3203122.0   |266927.0             |2025-03-25         |2026-03-25      |Vigente|Renovación     |Anterior|Vigencias Anteriores    |MEDELLIN|Tomador - Asegurado|42  |P Natural   |Tiene poliza|Salud Para Todos Integral Familiar                      |Sura               |Salud        |1             |2           |\n",
            "|87        |77       |Mensual          |178102.0    |14842.0              |2025-07-15         |2026-07-15      |Vigente|Renovación     |Otros   |Vigencias Anteriores    |MEDELLIN|Tomador - Asegurado|42  |P Natural   |Tiene poliza|Plan Crédito Protegido                                  |Sura               |Vida         |1             |3           |\n",
            "|87        |170078   |Anual            |171396.0    |171396.0             |2025-07-18         |2026-07-18      |Vigente|Nueva          |Actual  |Renovado                |MEDELLIN|Tomador - Asegurado|42  |P Natural   |Tiene poliza|Plan Crédito Protegido                                  |Sura               |Vida         |1             |4           |\n",
            "|87        |2756     |Mensual          |1941811.0   |161818.0             |2025-07-25         |2026-07-25      |Vigente|Nueva          |Anterior|Vigencias Anteriores    |MEDELLIN|Tomador - Asegurado|42  |P Natural   |Tiene poliza|Salud Para Todos Integral Familiar                      |Sura               |Salud        |1             |5           |\n",
            "|95        |7687     |Anual            |1642409.0   |1642409.0            |2025-01-21         |2026-01-21      |Vigente|Renovación     |Anterior|Vigencias Anteriores    |MEDELLIN|Tomador - Asegurado|37  |P Natural   |Tiene poliza|Salud Para Todos Integral Familiar                      |Sura               |Salud        |1             |1           |\n",
            "|1356      |206      |Anual            |1.1932243E7 |1.1932243E7          |2023-10-02         |2027-10-02      |Vigente|Renovación     |Actual  |Vigente                 |MEDELLIN|Tomador - Asegurado|0   |P Juridica  |Tiene poliza|Seguro de Cumplimiento                                  |Sura               |Cumplimiento |1             |1           |\n",
            "|1356      |4691     |Anual            |2713298.0   |2713298.0            |2024-09-09         |2028-09-09      |Vigente|Renovación     |Actual  |Vigente                 |MEDELLIN|Tomador - Asegurado|0   |P Juridica  |Tiene poliza|Seguro de Cumplimiento                                  |Sura               |Cumplimiento |1             |2           |\n",
            "|1356      |4695     |Anual            |428400.0    |428400.0             |2024-09-09         |2025-09-09      |Vigente|Renovación     |Anterior|Vigencias Anteriores    |MEDELLIN|Tomador - Asegurado|0   |P Juridica  |Tiene poliza|Seguro de Responsabilidad Civil Derivado de Cumplimiento|Sura               |Patrimoniales|1             |2           |\n",
            "|1356      |47774    |Mensual          |1103798.0   |91983.0              |2025-03-03         |2026-03-03      |Vigente|Renovación     |Actual  |Renovado                |MEDELLIN|Tomador - Asegurado|0   |P Juridica  |Tiene poliza|Salud Para Dos Familiar                                 |Sura               |Salud        |1             |3           |\n",
            "|1356      |2797     |Mensual          |1.5061232E7 |1.5061232E7          |2025-05-01         |2026-05-01      |Vigente|Renovación     |Actual  |Renovado                |MEDELLIN|Tomador - Asegurado|0   |P Juridica  |Tiene poliza|Salud Para Todos Integral Colectivo                     |Sura               |Salud        |1             |4           |\n",
            "|1357      |237      |Anual            |100000.0    |100000.0             |2023-11-20         |2026-05-22      |Vigente|Nueva          |Otros   |Vigencias Anteriores    |MEDELLIN|Tomador - Asegurado|0   |P Juridica  |Tiene poliza|Seguro de Cumplimiento                                  |Sura               |Cumplimiento |1             |1           |\n",
            "|1360      |233      |Anual            |1312700.0   |1312700.0            |2023-07-20         |2027-07-19      |Vigente|Renovación     |Actual  |Vigente                 |MEDELLIN|Tomador - Asegurado|0   |P Juridica  |Tiene poliza|Seguro de Cumplimiento                                  |Sura               |Cumplimiento |1             |1           |\n",
            "|1361      |250      |Mensual          |5.4717871E7 |5.4717871E7          |2025-02-21         |2026-02-21      |Vigente|Renovación     |Actual  |Renovado                |MEDELLIN|Tomador - Asegurado|0   |P Juridica  |Tiene poliza|Plan Salud Clásico Colectivo                            |Sura               |Salud        |1             |1           |\n",
            "|1361      |260      |Mensual          |6.977731E7  |6.977731E7           |2025-02-21         |2026-02-21      |Vigente|Renovación     |Actual  |Renovado                |MEDELLIN|Tomador - Asegurado|0   |P Juridica  |Tiene poliza|Plan Salud Global Colectivo                             |Sura               |Salud        |1             |1           |\n",
            "|1362      |201      |Anual            |3287838.0   |3287838.0            |2022-12-16         |2026-12-16      |Vigente|Nueva          |Actual  |Vigente                 |MEDELLIN|Tomador - Asegurado|0   |P Juridica  |Tiene poliza|Seguro de Cumplimiento                                  |Sura               |Cumplimiento |1             |1           |\n",
            "|1362      |216      |Anual            |125615.0    |125615.0             |2022-12-26         |2026-01-15      |Vigente|Renovación     |Actual  |Vigente                 |MEDELLIN|Tomador - Asegurado|0   |P Juridica  |Tiene poliza|Seguro de Cumplimiento                                  |Sura               |Cumplimiento |1             |2           |\n",
            "|1363      |207      |Anual            |3116961.0   |3116961.0            |2022-11-01         |2028-01-01      |Vigente|Renovación     |Actual  |Vigente                 |MEDELLIN|Tomador - Asegurado|0   |P Juridica  |Tiene poliza|Seguro de Cumplimiento                                  |Sura               |Cumplimiento |1             |1           |\n",
            "|1363      |230      |Anual            |619012.0    |619012.0             |2023-09-08         |2029-03-15      |Vigente|Nueva          |Actual  |Vigente                 |MEDELLIN|Tomador - Asegurado|0   |P Juridica  |Tiene poliza|Seguro de Cumplimiento                                  |Sura               |Cumplimiento |1             |2           |\n",
            "|1365      |228      |Anual            |100000.0    |100000.0             |2024-02-05         |2029-08-05      |Vigente|Renovación     |Actual  |Vigente                 |MEDELLIN|Tomador - Asegurado|0   |P Juridica  |Tiene poliza|Seguro de Cumplimiento                                  |Sura               |Cumplimiento |1             |1           |\n",
            "|1366      |118014   |Anual            |2.8599416E7 |2.8599416E7          |2024-12-13         |2026-07-07      |Vigente|Nueva          |Actual  |Vigente                 |MEDELLIN|Tomador - Asegurado|0   |P Juridica  |Tiene poliza|Todo Riesgo Construccion                                |Bolivar            |Patrimoniales|1             |1           |\n",
            "|1366      |118017   |Anual            |7140000.0   |7140000.0            |2025-01-13         |2026-07-07      |Vigente|Nueva          |Actual  |Renovado                |MEDELLIN|Tomador - Asegurado|0   |P Juridica  |Tiene poliza|Responsabilidad Civil                                   |Bolivar            |Patrimoniales|1             |2           |\n",
            "|1366      |52489    |Anual            |1230963.0   |1230963.0            |2025-02-20         |2025-11-20      |Vigente|Renovación     |Anterior|No Renovada             |MEDELLIN|Tomador - Asegurado|0   |P Juridica  |Tiene poliza|Seguro de Responsabilidad Civil Derivado de Cumplimiento|Sura               |Patrimoniales|1             |3           |\n",
            "|1366      |52490    |Anual            |1.0752145E7 |1.0752145E7          |2025-02-20         |2028-08-20      |Vigente|Renovación     |Actual  |Renovado                |MEDELLIN|Tomador - Asegurado|0   |P Juridica  |Tiene poliza|Seguro de Cumplimiento                                  |Sura               |Cumplimiento |1             |3           |\n",
            "|1369      |278      |Sin información  |6292946.0   |6292946.0            |2025-09-12         |2026-09-12      |Vigente|Renovación     |Actual  |Renovado                |MEDELLIN|Tomador - Asegurado|0   |P Juridica  |Tiene poliza|Seguro de Incendio GW                                   |Sura               |Patrimoniales|1             |1           |\n",
            "|1373      |236      |Anual            |100000.0    |100000.0             |2024-02-22         |2028-02-22      |Vigente|Renovación     |Actual  |Vigente                 |MEDELLIN|Tomador - Asegurado|0   |P Juridica  |Tiene poliza|Seguro de Cumplimiento                                  |Sura               |Cumplimiento |1             |1           |\n",
            "|1374      |214      |Anual            |264032.0    |264032.0             |2023-05-30         |2027-12-15      |Vigente|Renovación     |Actual  |Vigente                 |MEDELLIN|Tomador - Asegurado|0   |P Juridica  |Tiene poliza|Seguro de Cumplimiento                                  |Sura               |Cumplimiento |1             |1           |\n",
            "|1374      |205      |Anual            |100000.0    |100000.0             |2023-07-14         |2027-01-20      |Vigente|Renovación     |Actual  |Vigente                 |MEDELLIN|Tomador - Asegurado|0   |P Juridica  |Tiene poliza|Seguro de Cumplimiento                                  |Sura               |Cumplimiento |1             |2           |\n",
            "|1374      |251      |Anual            |4.0085626E7 |4.0085626E7          |2025-09-21         |2026-09-21      |Vigente|Renovación     |Actual  |Renovado                |MEDELLIN|Tomador - Asegurado|0   |P Juridica  |Tiene poliza|Plan Salud Global Colectivo                             |Sura               |Salud        |1             |3           |\n",
            "|1374      |252      |Anual            |1.48981227E8|1.48981227E8         |2025-10-21         |2026-10-21      |Vigente|Renovación     |Actual  |Renovado                |MEDELLIN|Tomador - Asegurado|0   |P Juridica  |Tiene poliza|Plan Salud Clásico Colectivo                            |Sura               |Salud        |1             |4           |\n",
            "|1378      |2874     |Anual            |4200000.0   |4200000.0            |2024-08-31         |2046-05-31      |Vigente|Nueva          |Actual  |Vigente                 |MEDELLIN|Tomador - Asegurado|37  |P Natural   |Tiene poliza|Renta Educativa Sura                                    |Sura               |Vida         |1             |1           |\n",
            "|1378      |290      |Mensual          |1692814.0   |141068.0             |2025-11-29         |2026-11-29      |Vigente|Renovación     |Otros   |Vigencias Anteriores    |MEDELLIN|Tomador - Asegurado|37  |P Natural   |Tiene poliza|Seguro Prorrogado                                       |Sura               |Vida         |1             |2           |\n",
            "|1379      |269      |Mensual          |5896624.0   |491385.0             |2025-06-06         |2026-06-06      |Vigente|Renovación     |Actual  |Renovado                |MEDELLIN|Tomador - Asegurado|36  |P Natural   |Tiene poliza|Plan Salud Clásico Familiar                             |Sura               |Salud        |1             |1           |\n",
            "|1380      |15380    |Anual            |5318413.0   |5318413.0            |2024-12-13         |2025-12-13      |Vigente|Renovación     |Anterior|Vigencias Anteriores    |MEDELLIN|Tomador - Asegurado|36  |P Natural   |Tiene poliza|Nuevos Productos Autosura                               |Sura               |Autos        |1             |1           |\n",
            "|1380      |253      |Sin información  |491719.0    |491719.0             |2025-01-16         |2026-01-16      |Vigente|Renovación     |Actual  |Renovado                |MEDELLIN|Tomador - Asegurado|36  |P Natural   |Tiene poliza|Seguro de Incendio GW                                   |Sura               |Patrimoniales|1             |2           |\n",
            "|1380      |52731    |Semestral        |4463464.0   |2231732.0            |2025-03-06         |2026-03-06      |Vigente|Nueva          |Actual  |Renovado                |MEDELLIN|Tomador - Asegurado|36  |P Natural   |Tiene poliza|Plan Salud Evoluciona Familiar                          |Sura               |Salud        |1             |3           |\n",
            "|1381      |325      |Anual            |1560540.0   |1560540.0            |2022-11-30         |2048-05-31      |Vigente|Renovación     |Actual  |Vigente                 |MEDELLIN|Tomador - Asegurado|39  |P Natural   |Tiene poliza|Renta Pensional Suramericana                            |Sura               |Vida         |1             |1           |\n",
            "|1382      |319      |Anual            |1207697.0   |1207697.0            |2025-07-28         |2026-07-28      |Vigente|Renovación     |Otros   |Vigencias Anteriores    |MEDELLIN|Tomador - Asegurado|37  |P Natural   |Tiene poliza|Plan Vive                                               |Sura               |Vida         |1             |1           |\n",
            "|1383      |118085   |Anual            |229230.0    |229230.0             |2025-03-26         |2026-03-26      |Vigente|Nueva          |Actual  |Renovado                |MEDELLIN|Tomador - Asegurado|35  |P Natural   |Tiene poliza|Proteccion De Creditos Individual                       |Bolivar            |Vida         |1             |1           |\n",
            "|1383      |86701    |Anual            |202590.0    |202590.0             |2025-04-10         |2026-04-10      |Vigente|Renovación     |Actual  |Renovado                |MEDELLIN|Tomador - Asegurado|35  |P Natural   |Tiene poliza|Plan Crédito Protegido                                  |Sura               |Vida         |1             |2           |\n",
            "|1383      |124986   |Anual            |207092.0    |207092.0             |2025-05-26         |2026-05-26      |Vigente|Renovación     |Actual  |Renovado                |MEDELLIN|Tomador - Asegurado|35  |P Natural   |Tiene poliza|Plan Crédito Protegido                                  |Sura               |Vida         |1             |3           |\n",
            "|1383      |306      |Anual            |165665.0    |165665.0             |2025-08-30         |2026-08-30      |Vigente|Renovación     |Otros   |Vigencias Anteriores    |MEDELLIN|Tomador - Asegurado|35  |P Natural   |Tiene poliza|Plan Crédito Protegido                                  |Sura               |Vida         |1             |4           |\n",
            "|1384      |224      |Anual            |368568.0    |368568.0             |2022-12-27         |2026-02-27      |Vigente|Renovación     |Actual  |Vigente                 |MEDELLIN|Tomador - Asegurado|35  |P Natural   |Tiene poliza|Seguro de Cumplimiento                                  |Sura               |Cumplimiento |1             |1           |\n",
            "|1384      |219      |Anual            |103424.0    |103424.0             |2023-11-08         |2026-12-15      |Vigente|Renovación     |Actual  |Vigente                 |MEDELLIN|Tomador - Asegurado|35  |P Natural   |Tiene poliza|Seguro de Cumplimiento                                  |Sura               |Cumplimiento |1             |2           |\n",
            "|1384      |198      |Anual            |271596.0    |271596.0             |2023-11-10         |2026-12-13      |Vigente|Renovación     |Actual  |Vigente                 |MEDELLIN|Tomador - Asegurado|35  |P Natural   |Tiene poliza|Seguro de Cumplimiento                                  |Sura               |Cumplimiento |1             |3           |\n",
            "|1387      |199      |Mensual          |728601.0    |60717.0              |2025-06-27         |2026-06-27      |Vigente|Renovación     |Otros   |Vigencias Anteriores    |MEDELLIN|Tomador - Asegurado|29  |P Natural   |Tiene poliza|Nuevos Productos Autosura                               |Sura               |Autos        |1             |1           |\n",
            "|1387      |244      |Mensual          |8355955.0   |696330.0             |2025-06-27         |2026-06-27      |Vigente|Renovación     |Actual  |Renovado                |MEDELLIN|Tomador - Asegurado|29  |P Natural   |Tiene poliza|Plan Salud Evoluciona Familiar                          |Sura               |Salud        |1             |1           |\n",
            "|1388      |331      |Mensual          |509852.0    |42488.0              |2025-09-16         |2026-09-16      |Vigente|Renovación     |Otros   |Vigencias Anteriores    |MEDELLIN|Tomador - Asegurado|32  |P Natural   |Tiene poliza|Plan Vive                                               |Sura               |Vida         |1             |1           |\n",
            "|1389      |262      |Sin información  |476480.0    |476480.0             |2025-03-16         |2026-03-16      |Vigente|Renovación     |Otros   |Vigencias Anteriores    |MEDELLIN|Tomador - Asegurado|29  |P Natural   |Tiene poliza|Seguro de Incendio GW                                   |Sura               |Patrimoniales|1             |1           |\n",
            "|1390      |218      |Mensual          |1503926.0   |125327.0             |2025-02-20         |2026-02-20      |Vigente|Renovación     |Actual  |Renovado                |MEDELLIN|Tomador - Asegurado|38  |P Natural   |Tiene poliza|Nuevos Productos Autosura                               |Sura               |Autos        |1             |1           |\n",
            "|1393      |173611   |Mensual          |8355955.0   |696330.0             |2025-07-30         |2026-07-30      |Vigente|Renovación     |Actual  |Renovado                |MEDELLIN|Tomador - Asegurado|37  |P Natural   |Tiene poliza|Plan Salud Evoluciona Familiar                          |Sura               |Salud        |1             |1           |\n",
            "|1394      |347      |Anual            |1547208.0   |1547208.0            |2025-04-08         |2026-04-08      |Vigente|Renovación     |Otros   |Vigencias Anteriores    |MEDELLIN|Tomador - Asegurado|34  |P Natural   |Tiene poliza|Nuevos Productos Autosura                               |Sura               |Autos        |1             |1           |\n",
            "|1394      |266      |Mensual          |3725303.0   |310442.0             |2025-09-01         |2026-09-01      |Vigente|Renovación     |Otros   |Vigencias Anteriores    |MEDELLIN|Tomador - Asegurado|34  |P Natural   |Tiene poliza|Plan Salud Evoluciona Familiar                          |Sura               |Salud        |1             |2           |\n",
            "|1395      |293      |Anual            |4621949.0   |4621949.0            |2025-10-04         |2026-10-04      |Vigente|Renovación     |Actual  |Renovado                |MEDELLIN|Tomador - Asegurado|37  |P Natural   |Tiene poliza|Plan Vive                                               |Sura               |Vida         |1             |1           |\n",
            "|1398      |245      |Sin información  |483092.0    |483092.0             |2025-01-16         |2026-01-16      |Vigente|Renovación     |Actual  |Renovado                |MEDELLIN|Tomador - Asegurado|29  |P Natural   |Tiene poliza|Seguro de Incendio GW                                   |Sura               |Patrimoniales|1             |1           |\n",
            "|1399      |274      |Mensual          |6040264.0   |503355.0             |2025-09-12         |2026-09-12      |Vigente|Renovación     |Actual  |Renovado                |MEDELLIN|Tomador - Asegurado|29  |P Natural   |Tiene poliza|Plan Salud Clásico Familiar                             |Sura               |Salud        |1             |1           |\n",
            "|1400      |229      |Sin información  |690608.0    |690608.0             |2025-08-03         |2026-08-03      |Vigente|Renovación     |Otros   |Vigencias Anteriores    |MEDELLIN|Tomador - Asegurado|26  |P Natural   |Tiene poliza|Seguro de Incendio GW                                   |Sura               |Patrimoniales|1             |1           |\n",
            "|1403      |118012   |Anual            |1145412.0   |1145412.0            |2024-01-11         |2025-01-11      |Vigente|Renovación     |Anterior|Vigencias Anteriores    |MEDELLIN|Tomador - Asegurado|35  |P Natural   |Tiene poliza|Hogar Para Disfrutar                                    |Bolivar            |Patrimoniales|1             |1           |\n",
            "|1403      |283      |Mensual          |3725303.0   |310442.0             |2025-01-27         |2026-01-27      |Vigente|Renovación     |Otros   |Vigencias Anteriores    |MEDELLIN|Tomador - Asegurado|35  |P Natural   |Tiene poliza|Plan Salud Evoluciona Familiar                          |Sura               |Salud        |1             |2           |\n",
            "|1403      |330      |Mensual          |4484308.0   |373692.0             |2025-01-27         |2026-01-27      |Vigente|Renovación     |Anterior|Vigencias Anteriores    |MEDELLIN|Tomador - Asegurado|35  |P Natural   |Tiene poliza|Plan Vive                                               |Sura               |Vida         |1             |2           |\n",
            "|1403      |254      |Sin información  |476480.0    |476480.0             |2025-02-16         |2026-02-16      |Vigente|Renovación     |Otros   |Vigencias Anteriores    |MEDELLIN|Tomador - Asegurado|35  |P Natural   |Tiene poliza|Seguro de Incendio GW                                   |Sura               |Patrimoniales|1             |3           |\n",
            "|1404      |305      |Mensual          |1482406.0   |123534.0             |2024-12-10         |2025-12-10      |Vigente|Renovación     |Otros   |Vigencias Anteriores    |MEDELLIN|Tomador - Asegurado|38  |P Natural   |Tiene poliza|Plan Vive                                               |Sura               |Vida         |1             |1           |\n",
            "|1406      |333      |Anual            |123369.0    |123369.0             |2024-11-28         |2025-11-28      |Vigente|Renovación     |Otros   |Vigencias Anteriores    |MEDELLIN|Tomador - Asegurado|38  |P Natural   |Tiene poliza|Plan Crédito Protegido                                  |Sura               |Vida         |1             |1           |\n",
            "|1407      |225      |Anual            |184022.0    |184022.0             |2022-11-04         |2026-01-04      |Vigente|Renovación     |Actual  |Vigente                 |MEDELLIN|Tomador - Asegurado|36  |P Natural   |Tiene poliza|Seguro de Cumplimiento                                  |Sura               |Cumplimiento |1             |1           |\n",
            "|1408      |246      |Mensual          |5896624.0   |491385.0             |2025-08-01         |2026-08-01      |Vigente|Renovación     |Actual  |Renovado                |MEDELLIN|Tomador - Asegurado|34  |P Natural   |Tiene poliza|Plan Salud Clásico Familiar                             |Sura               |Salud        |1             |1           |\n",
            "|1411      |84679    |Anual            |100000.0    |100000.0             |2025-04-04         |2026-05-03      |Vigente|Nueva          |Actual  |Renovado                |MEDELLIN|Tomador - Asegurado|38  |P Natural   |Tiene poliza|Seguro de Cumplimiento                                  |Sura               |Cumplimiento |1             |1           |\n",
            "|1411      |275      |Mensual          |5896624.0   |491385.0             |2025-06-22         |2026-06-22      |Vigente|Renovación     |Actual  |Renovado                |MEDELLIN|Tomador - Asegurado|38  |P Natural   |Tiene poliza|Plan Salud Clásico Familiar                             |Sura               |Salud        |1             |2           |\n",
            "|1412      |197      |Anual            |100000.0    |100000.0             |2023-06-08         |2026-07-07      |Vigente|Renovación     |Actual  |Vigente                 |MEDELLIN|Tomador - Asegurado|42  |P Natural   |Tiene poliza|Seguro de Cumplimiento                                  |Sura               |Cumplimiento |1             |1           |\n",
            "|1414      |217      |Sin información  |690608.0    |690608.0             |2025-08-05         |2026-08-05      |Vigente|Renovación     |Otros   |Vigencias Anteriores    |MEDELLIN|Tomador - Asegurado|29  |P Natural   |Tiene poliza|Seguro de Incendio GW                                   |Sura               |Patrimoniales|1             |1           |\n",
            "|1415      |336      |Anual            |222808.0    |222808.0             |2024-03-04         |2026-03-04      |Vigente|Renovación     |Actual  |Renovado                |MEDELLIN|Tomador - Asegurado|27  |P Natural   |Tiene poliza|Plan Crédito Protegido                                  |Sura               |Vida         |1             |1           |\n",
            "|1415      |139125   |Anual            |270368.0    |270368.0             |2025-06-06         |2026-06-06      |Vigente|Nueva          |Actual  |Renovado                |MEDELLIN|Tomador - Asegurado|27  |P Natural   |Tiene poliza|Proteccion De Creditos Individual                       |Bolivar            |Vida         |1             |2           |\n",
            "|1415      |142084   |Anual            |141680.0    |141680.0             |2025-06-16         |2026-06-16      |Vigente|Renovación     |Actual  |Renovado                |MEDELLIN|Tomador - Asegurado|27  |P Natural   |Tiene poliza|Plan Crédito Protegido                                  |Sura               |Vida         |1             |3           |\n",
            "|1416      |118049   |Anual            |7614221.0   |7614221.0            |2025-03-20         |2026-03-20      |Vigente|Nueva          |Actual  |Renovado                |MEDELLIN|Tomador - Asegurado|30  |P Natural   |Tiene poliza|Nuevo Producto Automoviles                              |Bolivar            |Autos        |1             |1           |\n",
            "|1417      |321      |Mensual          |473705.0    |39475.0              |2025-08-31         |2026-08-31      |Vigente|Renovación     |Otros   |Vigencias Anteriores    |MEDELLIN|Tomador - Asegurado|28  |P Natural   |Tiene poliza|Plan Vive                                               |Sura               |Vida         |1             |1           |\n",
            "|1419      |287      |Mensual          |1.8050483E7 |1504207.0            |2024-12-08         |2025-12-08      |Vigente|Renovación     |Otros   |Vigencias Anteriores    |MEDELLIN|Tomador - Asegurado|39  |P Natural   |Tiene poliza|Plan Salud Clásico Familiar                             |Sura               |Salud        |1             |1           |\n",
            "|1422      |276      |Mensual          |1041314.0   |86776.0              |2024-12-27         |2025-12-27      |Vigente|Renovación     |Anterior|Vigencias Anteriores    |MEDELLIN|Tomador - Asegurado|79  |P Natural   |Tiene poliza|Salud Para Dos Familiar                                 |Sura               |Salud        |1             |1           |\n",
            "|1423      |284      |Mensual          |5896624.0   |491385.0             |2025-09-08         |2026-09-08      |Vigente|Renovación     |Actual  |Renovado                |MEDELLIN|Tomador - Asegurado|40  |P Natural   |Tiene poliza|Plan Salud Clásico Familiar                             |Sura               |Salud        |1             |1           |\n",
            "|1424      |19890    |Anual            |9244432.0   |9244432.0            |2025-01-14         |2026-01-14      |Vigente|Renovación     |Actual  |Renovado                |MEDELLIN|Tomador - Asegurado|59  |P Natural   |Tiene poliza|Nuevos Productos Autosura                               |Sura               |Autos        |1             |1           |\n",
            "|1424      |2791     |Anual            |5536767.0   |5536767.0            |2025-07-23         |2026-07-23      |Vigente|Renovación     |Otros   |Vigencias Anteriores    |MEDELLIN|Tomador - Asegurado|59  |P Natural   |Tiene poliza|Nuevos Productos Autosura                               |Sura               |Autos        |1             |2           |\n",
            "|1424      |270      |Mensual          |1.5073279E7 |1256107.0            |2025-09-12         |2026-09-12      |Vigente|Renovación     |Actual  |Renovado                |MEDELLIN|Tomador - Asegurado|59  |P Natural   |Tiene poliza|Plan Salud Clásico Familiar                             |Sura               |Salud        |1             |3           |\n",
            "|1425      |208      |Mensual          |343633.0    |28636.0              |2025-09-29         |2026-09-29      |Vigente|Renovación     |Actual  |Renovado                |MEDELLIN|Tomador - Asegurado|44  |P Natural   |Tiene poliza|Nuevos Productos Autosura                               |Sura               |Autos        |1             |1           |\n",
            "|1428      |169723   |Anual            |4538445.0   |4538445.0            |2024-09-02         |2025-09-02      |Vigente|Nueva          |Anterior|Vigencias Anteriores    |MEDELLIN|Tomador - Asegurado|40  |P Natural   |Tiene poliza|Nuevo Producto Automoviles                              |Bolivar            |Autos        |1             |1           |\n",
            "|1428      |220      |Mensual          |527679.0    |47971.0              |2025-09-30         |2026-09-30      |Vigente|Renovación     |Actual  |Renovado                |MEDELLIN|Tomador - Asegurado|40  |P Natural   |Tiene poliza|Nuevos Productos Autosura                               |Sura               |Autos        |1             |2           |\n",
            "|1430      |311      |Mensual          |2123923.0   |176994.0             |2022-12-30         |2025-12-30      |Vigente|Renovación     |Otros   |Vigencias Anteriores    |MEDELLIN|Tomador - Asegurado|41  |P Natural   |Tiene poliza|Plan Vive                                               |Sura               |Vida         |1             |1           |\n",
            "|1431      |232      |Anual            |5154398.0   |5154398.0            |2024-11-14         |2025-11-14      |Vigente|Renovación     |Otros   |Vigencias Anteriores    |MEDELLIN|Tomador - Asegurado|74  |P Natural   |Tiene poliza|Nuevos Productos Autosura                               |Sura               |Autos        |1             |1           |\n",
            "|1436      |307      |Anual            |312984.0    |312984.0             |2025-10-04         |2026-10-04      |Vigente|Renovación     |Actual  |Renovado                |MEDELLIN|Tomador - Asegurado|42  |P Natural   |Tiene poliza|Plan Crédito Protegido                                  |Sura               |Vida         |1             |1           |\n",
            "|1437      |118068   |Anual            |109332.0    |109332.0             |2024-12-03         |2025-12-03      |Vigente|Nueva          |Anterior|Vigencias Anteriores    |MEDELLIN|Tomador - Asegurado|46  |P Natural   |Tiene poliza|Proteccion De Creditos Individual                       |Bolivar            |Vida         |1             |1           |\n",
            "|1437      |173825   |Anual            |358892.0    |358892.0             |2025-07-28         |2026-07-28      |Vigente|Renovación     |Actual  |Renovado                |MEDELLIN|Tomador - Asegurado|46  |P Natural   |Tiene poliza|Plan Crédito Protegido                                  |Sura               |Vida         |1             |2           |\n",
            "|1438      |292      |Mensual          |299896.0    |24991.0              |2023-01-23         |2026-01-23      |Vigente|Renovación     |Otros   |Vigencias Anteriores    |MEDELLIN|Tomador - Asegurado|49  |P Natural   |Tiene poliza|Plan Crédito Protegido                                  |Sura               |Vida         |1             |1           |\n",
            "|1439      |195      |Anual            |1466163.0   |1466163.0            |2024-11-30         |2025-11-30      |Vigente|Renovación     |Otros   |Vigencias Anteriores    |MEDELLIN|Tomador - Asegurado|47  |P Natural   |Tiene poliza|Nuevos Productos Autosura                               |Sura               |Autos        |1             |1           |\n",
            "|1439      |272      |Sin información  |654307.0    |654307.0             |2025-09-13         |2026-09-13      |Vigente|Renovación     |Otros   |Vigencias Anteriores    |MEDELLIN|Tomador - Asegurado|47  |P Natural   |Tiene poliza|Seguro de Incendio GW                                   |Sura               |Patrimoniales|1             |2           |\n",
            "+----------+---------+-----------------+------------+---------------------+-------------------+----------------+-------+---------------+--------+------------------------+--------+-------------------+----+------------+------------+--------------------------------------------------------+-------------------+-------------+--------------+------------+\n",
            "only showing top 100 rows\n",
            "\n"
          ]
        }
      ]
    },
    {
      "cell_type": "code",
      "source": [
        "# Ordenar y numerar las pólizas por cliente y ramo según la fecha más antigua\n",
        "w_ramo = Window.partitionBy(\"codCliente\", \"Ramo\").orderBy(F.col(\"fechaInicioVigencia\").asc())\n",
        "\n",
        "df_final = df_final.withColumn(\n",
        "    \"rn_ramo\",\n",
        "    F.row_number().over(w_ramo)\n",
        ")\n",
        "\n",
        "# Filtrar para quedarnos solo con la primera póliza (más antigua) por ramo y cliente\n",
        "df_final = df_final.filter(F.col(\"rn_ramo\") == 1).drop(\"rn_ramo\")\n",
        "\n",
        "# Volver a recalcular orden_poliza ahora con las pólizas restantes\n",
        "w_poliza = Window.partitionBy(\"codCliente\").orderBy(F.col(\"fechaInicioVigencia\").asc())\n",
        "\n",
        "df_final = df_final.withColumn(\n",
        "    \"orden_poliza\",\n",
        "    F.dense_rank().over(w_poliza)\n",
        ")\n",
        "\n",
        "# Resultado ordenado para revisar visualmente\n",
        "df_final.orderBy(\"codCliente\", \"orden_poliza\").show(truncate=False)\n"
      ],
      "metadata": {
        "colab": {
          "base_uri": "https://localhost:8080/"
        },
        "id": "pckzKK7pRFOK",
        "outputId": "c4b9159c-83a3-43cd-bdbc-c99147affe8e"
      },
      "execution_count": 38,
      "outputs": [
        {
          "output_type": "stream",
          "name": "stdout",
          "text": [
            "+----------+---------+-----------------+-----------+---------------------+-------------------+----------------+-------+---------------+--------+------------------------+--------+-------------------+----+------------+------------+--------------------------------------------------------+-------------------+-------------+--------------+------------+\n",
            "|codCliente|codPoliza|formaPagoVigencia|valorTotal |Valor_Total_Periodico|fechaInicioVigencia|fechaFinVigencia|estado |OpracionesGrupo|Vigencia|EstadoRenovacionesinicio|ciudad  |tipoVinculacion    |Edad|Tipo_Empresa|tomador     |nomProducto                                             |nomGrupoEmpresarial|Ramo         |orden_vigencia|orden_poliza|\n",
            "+----------+---------+-----------------+-----------+---------------------+-------------------+----------------+-------+---------------+--------+------------------------+--------+-------------------+----+------------+------------+--------------------------------------------------------+-------------------+-------------+--------------+------------+\n",
            "|37        |69       |Anual            |642179.0   |642179.0             |2023-03-01         |2026-03-01      |Vigente|Renovación     |Otros   |Vigencias Anteriores    |MEDELLIN|Tomador - Asegurado|31  |P Natural   |Tiene poliza|Plan Vive                                               |Sura               |Vida         |1             |1           |\n",
            "|37        |80568    |Anual            |2612142.0  |2612142.0            |2025-01-22         |2026-01-22      |Vigente|Renovación     |Actual  |Renovado                |MEDELLIN|Tomador - Asegurado|31  |P Natural   |Tiene poliza|Automoviles Individual Livianos Particulares            |Allianz            |Autos        |1             |2           |\n",
            "|37        |352      |Mensual          |1103798.0  |91983.0              |2025-04-01         |2026-04-01      |Vigente|Renovación     |Actual  |Renovado                |MEDELLIN|Tomador - Asegurado|31  |P Natural   |Tiene poliza|Salud Para Dos Familiar                                 |Sura               |Salud        |1             |3           |\n",
            "|39        |2771     |Mensual          |1929740.0  |160812.0             |2025-01-31         |2026-01-31      |Vigente|Renovación     |Actual  |Renovado                |MEDELLIN|Tomador - Asegurado|29  |P Natural   |Tiene poliza|Salud Para Todos Integral Familiar                      |Sura               |Salud        |1             |1           |\n",
            "|58        |9        |Mensual          |1290025.0  |107502.0             |2025-04-03         |2026-04-03      |Vigente|Nueva          |Otros   |Vigencias Anteriores    |MEDELLIN|Tomador - Asegurado|32  |P Natural   |Tiene poliza|Nuevos Productos Autosura                               |Sura               |Autos        |1             |1           |\n",
            "|61        |64612    |Mensual          |5728483.0  |520771.0             |2025-01-30         |2026-01-30      |Vigente|Nueva          |Actual  |Renovado                |MEDELLIN|Tomador - Asegurado|32  |P Natural   |Tiene poliza|Nuevos Productos Autosura                               |Sura               |Autos        |1             |1           |\n",
            "|84        |118023   |Anual            |5442866.0  |5442866.0            |2024-02-11         |2025-02-11      |Vigente|Renovación     |Anterior|Vigencias Anteriores    |MEDELLIN|Tomador - Asegurado|41  |P Natural   |Tiene poliza|Nuevo Producto Automoviles                              |Bolivar            |Autos        |1             |1           |\n",
            "|84        |71       |Mensual          |158598.0   |13216.0              |2025-02-10         |2026-02-10      |Vigente|Renovación     |Otros   |Vigencias Anteriores    |MEDELLIN|Tomador - Asegurado|41  |P Natural   |Tiene poliza|Plan Crédito Protegido                                  |Sura               |Vida         |1             |2           |\n",
            "|85        |2792     |Semestral        |3738743.0  |1869372.0            |2025-05-22         |2026-05-22      |Vigente|Renovación     |Actual  |Renovado                |MEDELLIN|Tomador - Asegurado|74  |P Natural   |Tiene poliza|Nuevos Productos Autosura                               |Sura               |Autos        |1             |1           |\n",
            "|87        |54       |Anual            |1044177.0  |1044177.0            |2020-01-23         |2026-01-23      |Vigente|Renovación     |Anterior|Vigencias Anteriores    |MEDELLIN|Tomador - Asegurado|42  |P Natural   |Tiene poliza|Plan Vive                                               |Sura               |Vida         |1             |1           |\n",
            "|87        |2757     |Mensual          |3203122.0  |266927.0             |2025-03-25         |2026-03-25      |Vigente|Renovación     |Anterior|Vigencias Anteriores    |MEDELLIN|Tomador - Asegurado|42  |P Natural   |Tiene poliza|Salud Para Todos Integral Familiar                      |Sura               |Salud        |1             |2           |\n",
            "|95        |7687     |Anual            |1642409.0  |1642409.0            |2025-01-21         |2026-01-21      |Vigente|Renovación     |Anterior|Vigencias Anteriores    |MEDELLIN|Tomador - Asegurado|37  |P Natural   |Tiene poliza|Salud Para Todos Integral Familiar                      |Sura               |Salud        |1             |1           |\n",
            "|1356      |206      |Anual            |1.1932243E7|1.1932243E7          |2023-10-02         |2027-10-02      |Vigente|Renovación     |Actual  |Vigente                 |MEDELLIN|Tomador - Asegurado|0   |P Juridica  |Tiene poliza|Seguro de Cumplimiento                                  |Sura               |Cumplimiento |1             |1           |\n",
            "|1356      |4695     |Anual            |428400.0   |428400.0             |2024-09-09         |2025-09-09      |Vigente|Renovación     |Anterior|Vigencias Anteriores    |MEDELLIN|Tomador - Asegurado|0   |P Juridica  |Tiene poliza|Seguro de Responsabilidad Civil Derivado de Cumplimiento|Sura               |Patrimoniales|1             |2           |\n",
            "|1356      |47774    |Mensual          |1103798.0  |91983.0              |2025-03-03         |2026-03-03      |Vigente|Renovación     |Actual  |Renovado                |MEDELLIN|Tomador - Asegurado|0   |P Juridica  |Tiene poliza|Salud Para Dos Familiar                                 |Sura               |Salud        |1             |3           |\n",
            "|1357      |237      |Anual            |100000.0   |100000.0             |2023-11-20         |2026-05-22      |Vigente|Nueva          |Otros   |Vigencias Anteriores    |MEDELLIN|Tomador - Asegurado|0   |P Juridica  |Tiene poliza|Seguro de Cumplimiento                                  |Sura               |Cumplimiento |1             |1           |\n",
            "|1360      |233      |Anual            |1312700.0  |1312700.0            |2023-07-20         |2027-07-19      |Vigente|Renovación     |Actual  |Vigente                 |MEDELLIN|Tomador - Asegurado|0   |P Juridica  |Tiene poliza|Seguro de Cumplimiento                                  |Sura               |Cumplimiento |1             |1           |\n",
            "|1361      |250      |Mensual          |5.4717871E7|5.4717871E7          |2025-02-21         |2026-02-21      |Vigente|Renovación     |Actual  |Renovado                |MEDELLIN|Tomador - Asegurado|0   |P Juridica  |Tiene poliza|Plan Salud Clásico Colectivo                            |Sura               |Salud        |1             |1           |\n",
            "|1362      |201      |Anual            |3287838.0  |3287838.0            |2022-12-16         |2026-12-16      |Vigente|Nueva          |Actual  |Vigente                 |MEDELLIN|Tomador - Asegurado|0   |P Juridica  |Tiene poliza|Seguro de Cumplimiento                                  |Sura               |Cumplimiento |1             |1           |\n",
            "|1363      |207      |Anual            |3116961.0  |3116961.0            |2022-11-01         |2028-01-01      |Vigente|Renovación     |Actual  |Vigente                 |MEDELLIN|Tomador - Asegurado|0   |P Juridica  |Tiene poliza|Seguro de Cumplimiento                                  |Sura               |Cumplimiento |1             |1           |\n",
            "+----------+---------+-----------------+-----------+---------------------+-------------------+----------------+-------+---------------+--------+------------------------+--------+-------------------+----+------------+------------+--------------------------------------------------------+-------------------+-------------+--------------+------------+\n",
            "only showing top 20 rows\n",
            "\n"
          ]
        }
      ]
    },
    {
      "cell_type": "code",
      "source": [
        "\n",
        "# Ventana por cliente, ordenada por la secuencia de las pólizas\n",
        "w = Window.partitionBy(\"codCliente\").orderBy(\"orden_poliza\")\n",
        "\n",
        "# Crear lista de ramos anteriores a cada fila\n",
        "df_final = df_final.withColumn(\n",
        "    \"ramos_previos\",\n",
        "    F.collect_list(\"Ramo\").over(w.rowsBetween(Window.unboundedPreceding, -1))\n",
        ")\n",
        "\n",
        "# Reemplazar null por lista vacía\n",
        "df_final = df_final.withColumn(\n",
        "    \"ramos_previos\",\n",
        "    F.when(F.col(\"ramos_previos\").isNull(), F.array()).otherwise(F.col(\"ramos_previos\"))\n",
        ")\n",
        "\n",
        "# Crear columna objetivo Y (siguiente ramo que compró el cliente)\n",
        "df_final = df_final.withColumn(\n",
        "    \"Y\",\n",
        "    F.lead(\"Ramo\").over(w)\n",
        ")\n",
        "\n",
        "# Obtener lista de ramos únicos y sus nombres limpios\n",
        "ramos_unicos = [r[\"Ramo\"] for r in df_final.select(\"Ramo\").distinct().collect() if r[\"Ramo\"] is not None]\n",
        "ramos_unicos_limpios = [limpiar_nombre(r) for r in ramos_unicos]\n",
        "\n",
        "# Crear columnas binarias (1 si ya lo compró antes O si es el actual)\n",
        "for ramo_original, ramo_col in zip(ramos_unicos, ramos_unicos_limpios):\n",
        "    df_final = df_final.withColumn(\n",
        "        ramo_col,\n",
        "        F.when(\n",
        "            (F.array_contains(F.col(\"ramos_previos\"), F.lit(ramo_original))) |\n",
        "            (F.col(\"Ramo\") == ramo_original),\n",
        "            1\n",
        "        ).otherwise(0)\n",
        "    )\n",
        "\n",
        "# Eliminar columna auxiliar\n",
        "df_final = df_final.drop(\"ramos_previos\")\n",
        "\n",
        "df_final.orderBy(\"codCliente\", \"orden_poliza\").select(\n",
        "    \"codCliente\", \"orden_poliza\", *ramos_unicos_limpios, \"Y\"\n",
        ").show(50, truncate=False)\n"
      ],
      "metadata": {
        "colab": {
          "base_uri": "https://localhost:8080/"
        },
        "id": "rM0VHMDGUayO",
        "outputId": "66e4014f-d588-445c-9e87-1da3782a6afc"
      },
      "execution_count": 39,
      "outputs": [
        {
          "output_type": "stream",
          "name": "stdout",
          "text": [
            "+----------+------------+-----+----+-----+------------+-------------+-----+-------------+\n",
            "|codCliente|orden_poliza|Salud|Vida|Autos|Cumplimiento|Patrimoniales|Otros|Y            |\n",
            "+----------+------------+-----+----+-----+------------+-------------+-----+-------------+\n",
            "|37        |1           |0    |1   |0    |0           |0            |0    |Autos        |\n",
            "|37        |2           |0    |1   |1    |0           |0            |0    |Salud        |\n",
            "|37        |3           |1    |1   |1    |0           |0            |0    |NULL         |\n",
            "|39        |1           |1    |0   |0    |0           |0            |0    |NULL         |\n",
            "|58        |1           |0    |0   |1    |0           |0            |0    |NULL         |\n",
            "|61        |1           |0    |0   |1    |0           |0            |0    |NULL         |\n",
            "|84        |1           |0    |0   |1    |0           |0            |0    |Vida         |\n",
            "|84        |2           |0    |1   |1    |0           |0            |0    |NULL         |\n",
            "|85        |1           |0    |0   |1    |0           |0            |0    |NULL         |\n",
            "|87        |1           |0    |1   |0    |0           |0            |0    |Salud        |\n",
            "|87        |2           |1    |1   |0    |0           |0            |0    |NULL         |\n",
            "|95        |1           |1    |0   |0    |0           |0            |0    |NULL         |\n",
            "|1356      |1           |0    |0   |0    |1           |0            |0    |Patrimoniales|\n",
            "|1356      |2           |0    |0   |0    |1           |1            |0    |Salud        |\n",
            "|1356      |3           |1    |0   |0    |1           |1            |0    |NULL         |\n",
            "|1357      |1           |0    |0   |0    |1           |0            |0    |NULL         |\n",
            "|1360      |1           |0    |0   |0    |1           |0            |0    |NULL         |\n",
            "|1361      |1           |1    |0   |0    |0           |0            |0    |NULL         |\n",
            "|1362      |1           |0    |0   |0    |1           |0            |0    |NULL         |\n",
            "|1363      |1           |0    |0   |0    |1           |0            |0    |NULL         |\n",
            "|1365      |1           |0    |0   |0    |1           |0            |0    |NULL         |\n",
            "|1366      |1           |0    |0   |0    |0           |1            |0    |Cumplimiento |\n",
            "|1366      |2           |0    |0   |0    |1           |1            |0    |NULL         |\n",
            "|1369      |1           |0    |0   |0    |0           |1            |0    |NULL         |\n",
            "|1373      |1           |0    |0   |0    |1           |0            |0    |NULL         |\n",
            "|1374      |1           |0    |0   |0    |1           |0            |0    |Salud        |\n",
            "|1374      |2           |1    |0   |0    |1           |0            |0    |NULL         |\n",
            "|1378      |1           |0    |1   |0    |0           |0            |0    |NULL         |\n",
            "|1379      |1           |1    |0   |0    |0           |0            |0    |NULL         |\n",
            "|1380      |1           |0    |0   |1    |0           |0            |0    |Patrimoniales|\n",
            "|1380      |2           |0    |0   |1    |0           |1            |0    |Salud        |\n",
            "|1380      |3           |1    |0   |1    |0           |1            |0    |NULL         |\n",
            "|1381      |1           |0    |1   |0    |0           |0            |0    |NULL         |\n",
            "|1382      |1           |0    |1   |0    |0           |0            |0    |NULL         |\n",
            "|1383      |1           |0    |1   |0    |0           |0            |0    |NULL         |\n",
            "|1384      |1           |0    |0   |0    |1           |0            |0    |NULL         |\n",
            "|1387      |1           |0    |0   |1    |0           |0            |0    |Salud        |\n",
            "|1387      |1           |1    |0   |1    |0           |0            |0    |NULL         |\n",
            "|1388      |1           |0    |1   |0    |0           |0            |0    |NULL         |\n",
            "|1389      |1           |0    |0   |0    |0           |1            |0    |NULL         |\n",
            "|1390      |1           |0    |0   |1    |0           |0            |0    |NULL         |\n",
            "|1393      |1           |1    |0   |0    |0           |0            |0    |NULL         |\n",
            "|1394      |1           |0    |0   |1    |0           |0            |0    |Salud        |\n",
            "|1394      |2           |1    |0   |1    |0           |0            |0    |NULL         |\n",
            "|1395      |1           |0    |1   |0    |0           |0            |0    |NULL         |\n",
            "|1398      |1           |0    |0   |0    |0           |1            |0    |NULL         |\n",
            "|1399      |1           |1    |0   |0    |0           |0            |0    |NULL         |\n",
            "|1400      |1           |0    |0   |0    |0           |1            |0    |NULL         |\n",
            "|1403      |1           |0    |0   |0    |0           |1            |0    |Salud        |\n",
            "|1403      |2           |1    |0   |0    |0           |1            |0    |Vida         |\n",
            "+----------+------------+-----+----+-----+------------+-------------+-----+-------------+\n",
            "only showing top 50 rows\n",
            "\n"
          ]
        }
      ]
    },
    {
      "cell_type": "code",
      "source": [
        "df_final = df_final.filter(F.col(\"Y\").isNotNull())\n",
        "print(\"Número de registros:\", df_final.count())\n",
        "\n",
        "df_cliente = df_final.filter(F.col(\"codCliente\") == \"1500\")\n",
        "df_cliente.show(truncate=False)"
      ],
      "metadata": {
        "colab": {
          "base_uri": "https://localhost:8080/"
        },
        "id": "AlhsDFJEVnb-",
        "outputId": "ac01ffb8-9c5f-4a2d-a703-e3e004afbb4a"
      },
      "execution_count": 40,
      "outputs": [
        {
          "output_type": "stream",
          "name": "stdout",
          "text": [
            "Número de registros: 9316\n",
            "+----------+---------+-----------------+----------+---------------------+-------------------+----------------+-------+---------------+--------+------------------------+--------+-------------------+----+------------+------------+-----------+-------------------+----+--------------+------------+-----+-----+----+-----+------------+-------------+-----+\n",
            "|codCliente|codPoliza|formaPagoVigencia|valorTotal|Valor_Total_Periodico|fechaInicioVigencia|fechaFinVigencia|estado |OpracionesGrupo|Vigencia|EstadoRenovacionesinicio|ciudad  |tipoVinculacion    |Edad|Tipo_Empresa|tomador     |nomProducto|nomGrupoEmpresarial|Ramo|orden_vigencia|orden_poliza|Y    |Salud|Vida|Autos|Cumplimiento|Patrimoniales|Otros|\n",
            "+----------+---------+-----------------+----------+---------------------+-------------------+----------------+-------+---------------+--------+------------------------+--------+-------------------+----+------------+------------+-----------+-------------------+----+--------------+------------+-----+-----+----+-----+------------+-------------+-----+\n",
            "|1500      |2213     |Anual            |1019840.0 |1019840.0            |2023-12-04         |2025-12-04      |Vigente|Renovación     |Otros   |Vigencias Anteriores    |MEDELLIN|Tomador - Asegurado|0   |P Juridica  |Tiene poliza|Plan Vive  |Sura               |Vida|1             |1           |Salud|0    |1   |0    |0           |0            |0    |\n",
            "+----------+---------+-----------------+----------+---------------------+-------------------+----------------+-------+---------------+--------+------------------------+--------+-------------------+----+------------+------------+-----------+-------------------+----+--------------+------------+-----+-----+----+-----+------------+-------------+-----+\n",
            "\n"
          ]
        }
      ]
    },
    {
      "cell_type": "code",
      "source": [
        "#Conservar solo las columnas necesarias\n",
        "df_final = df_final.select(\n",
        "    \"codCliente\",\n",
        "    \"codPoliza\",\n",
        "    \"Ramo\",\n",
        "    \"Y\",\n",
        "    \"Salud\",\n",
        "    \"Vida\",\n",
        "    \"Autos\",\n",
        "    \"Cumplimiento\",\n",
        "    \"Patrimoniales\",\n",
        "    \"Otros\"\n",
        ")\n",
        "df_final.show()"
      ],
      "metadata": {
        "colab": {
          "base_uri": "https://localhost:8080/"
        },
        "id": "ptOF4W04bQAc",
        "outputId": "31a7630e-328d-4686-a5e0-b784665a4dd0"
      },
      "execution_count": 41,
      "outputs": [
        {
          "output_type": "stream",
          "name": "stdout",
          "text": [
            "+----------+---------+-------------+-------------+-----+----+-----+------------+-------------+-----+\n",
            "|codCliente|codPoliza|         Ramo|            Y|Salud|Vida|Autos|Cumplimiento|Patrimoniales|Otros|\n",
            "+----------+---------+-------------+-------------+-----+----+-----+------------+-------------+-----+\n",
            "|        37|       69|         Vida|        Autos|    0|   1|    0|           0|            0|    0|\n",
            "|        37|    80568|        Autos|        Salud|    0|   1|    1|           0|            0|    0|\n",
            "|        84|   118023|        Autos|         Vida|    0|   0|    1|           0|            0|    0|\n",
            "|        87|       54|         Vida|        Salud|    0|   1|    0|           0|            0|    0|\n",
            "|      1356|      206| Cumplimiento|Patrimoniales|    0|   0|    0|           1|            0|    0|\n",
            "|      1356|     4695|Patrimoniales|        Salud|    0|   0|    0|           1|            1|    0|\n",
            "|      1366|   118014|Patrimoniales| Cumplimiento|    0|   0|    0|           0|            1|    0|\n",
            "|      1374|      214| Cumplimiento|        Salud|    0|   0|    0|           1|            0|    0|\n",
            "|      1380|    15380|        Autos|Patrimoniales|    0|   0|    1|           0|            0|    0|\n",
            "|      1380|      253|Patrimoniales|        Salud|    0|   0|    1|           0|            1|    0|\n",
            "|      1387|      199|        Autos|        Salud|    0|   0|    1|           0|            0|    0|\n",
            "|      1394|      347|        Autos|        Salud|    0|   0|    1|           0|            0|    0|\n",
            "|      1403|   118012|Patrimoniales|        Salud|    0|   0|    0|           0|            1|    0|\n",
            "|      1403|      283|        Salud|         Vida|    1|   0|    0|           0|            1|    0|\n",
            "|      1411|    84679| Cumplimiento|        Salud|    0|   0|    0|           1|            0|    0|\n",
            "|      1424|    19890|        Autos|        Salud|    0|   0|    1|           0|            0|    0|\n",
            "|      1439|      195|        Autos|Patrimoniales|    0|   0|    1|           0|            0|    0|\n",
            "|      1466|      726| Cumplimiento|Patrimoniales|    0|   0|    0|           1|            0|    0|\n",
            "|      1476|     1369|         Vida|        Salud|    0|   1|    0|           0|            0|    0|\n",
            "|      1480|      733| Cumplimiento|Patrimoniales|    0|   0|    0|           1|            0|    0|\n",
            "+----------+---------+-------------+-------------+-----+----+-----+------------+-------------+-----+\n",
            "only showing top 20 rows\n",
            "\n"
          ]
        }
      ]
    },
    {
      "cell_type": "code",
      "source": [
        "\n",
        "#Trusted\n",
        "# Ruta donde guardaremos la tabla unida\n",
        "ruta_salida = \"/content/drive/MyDrive/Dataset PI/Trust/trust_temp.csv\"\n",
        "\n",
        "# Guardar el dataframe como CSV con encabezado\n",
        "df_final.coalesce(1) \\\n",
        "    .write.mode(\"overwrite\") \\\n",
        "    .option(\"header\", \"true\") \\\n",
        "    .csv(ruta_salida)\n",
        "\n",
        "print(\" Tabla final guardada en:\", ruta_salida)\n",
        "\n",
        "\n",
        "\n",
        "# Buscar el archivo generado dentro de la carpeta\n",
        "archivo_generado = glob.glob(ruta_salida + \"/part-*.csv\")[0]\n",
        "\n",
        "# Moverlo a la misma carpeta con el nombre tabla_final.csv\n",
        "ruta_final = \"/content/drive/MyDrive/Dataset PI/Trust/trust_data.csv\"\n",
        "shutil.move(archivo_generado, ruta_final)\n",
        "\n",
        "# Eliminar la carpeta vacía\n",
        "shutil.rmtree(ruta_salida)\n"
      ],
      "metadata": {
        "colab": {
          "base_uri": "https://localhost:8080/"
        },
        "id": "Cq05GWhCFYKA",
        "outputId": "a68f0f09-b789-46ed-bb71-0c66220e9c2b"
      },
      "execution_count": 42,
      "outputs": [
        {
          "output_type": "stream",
          "name": "stdout",
          "text": [
            " Tabla final guardada en: /content/drive/MyDrive/Dataset PI/Trust/trust_temp.csv\n"
          ]
        }
      ]
    }
  ]
}