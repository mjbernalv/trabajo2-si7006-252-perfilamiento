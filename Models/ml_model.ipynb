{
  "cells": [
    {
      "cell_type": "markdown",
      "metadata": {
        "id": "zA9HAdliUC2M"
      },
      "source": [
        "## 1. Librerías"
      ]
    },
    {
      "cell_type": "code",
      "execution_count": 66,
      "metadata": {
        "id": "dDxL9N3VUIFW"
      },
      "outputs": [],
      "source": [
        "from pyspark.ml import Pipeline\n",
        "from pyspark.sql import SparkSession\n",
        "from pyspark.ml.clustering import KMeans\n",
        "from pyspark.sql import functions as F, types as T\n",
        "from pyspark.ml.evaluation import ClusteringEvaluator\n",
        "from pyspark.ml.feature import StringIndexer, OneHotEncoder, VectorAssembler, StandardScaler"
      ]
    },
    {
      "cell_type": "code",
      "execution_count": null,
      "metadata": {
        "id": "r7m5CDc1ZgTQ"
      },
      "outputs": [],
      "source": []
    },
    {
      "cell_type": "code",
      "execution_count": 23,
      "metadata": {
        "id": "K5IGv0abULP6"
      },
      "outputs": [],
      "source": [
        "spark = SparkSession.builder \\\n",
        "          .appName(\"perfilamiento-ml\") \\\n",
        "          .getOrCreate()\n",
        "\n",
        "# spark = SparkSession.builder \\\n",
        "#     .appName(\"S3Connection\") \\\n",
        "#     .master(\"local[*]\") \\\n",
        "#     .config(\"spark.jars\", jars) \\\n",
        "#     .config('fs.s3a.access.key', \"AWS_ACCESS_KEY\") \\\n",
        "#     .config('fs.s3a.secret.key', \"AWS_SECRET_KEY\") \\\n",
        "#     .config('fs.s3a.session.token',\"AWS_SESSION_TOKEN\") \\\n",
        "#     .config(\"spark.hadoop.fs.s3a.impl\", \"org.apache.hadoop.fs.s3a.S3AFileSystem\") \\\n",
        "#     .config(\"spark.hadoop.fs.s3a.path.style.access\", \"true\") \\\n",
        "#     .config(\"spark.hadoop.fs.s3a.endpoint\", \"s3.amazonaws.com\") \\\n",
        "#     .getOrCreate()"
      ]
    },
    {
      "cell_type": "markdown",
      "metadata": {
        "id": "2hm8IhVwUQYz"
      },
      "source": [
        "## 2. Datos"
      ]
    },
    {
      "cell_type": "code",
      "execution_count": null,
      "metadata": {},
      "outputs": [],
      "source": [
        "!git clone https://<TOKEN>@github.com/mjbernalv/trabajo2-si7006-252-perfilamiento.git"
      ]
    },
    {
      "cell_type": "code",
      "execution_count": null,
      "metadata": {
        "id": "WpYO-xPoUS-4"
      },
      "outputs": [],
      "source": [
        "# Lectura desde colab con token github\n",
        "df_clients = spark.read.csv(\"trabajo2-si7006-252-perfilamiento/Datasets/detalle_cliente.csv\", header = True)\n",
        "df_poliza = spark.read.csv(\"trabajo2-si7006-252-perfilamiento/Datasets/detalle_poliza.csv\", header = True)\n",
        "df_products = spark.read.csv(\"trabajo2-si7006-252-perfilamiento/Datasets/detalle_producto.csv\", header = True)"
      ]
    },
    {
      "cell_type": "code",
      "execution_count": null,
      "metadata": {
        "id": "-ojbRxDuasVU"
      },
      "outputs": [],
      "source": [
        "# Lectura desde trusted en S3\n",
        "df_clients = spark.read.csv(\"s3://s3-pi-perfilamiento-20252/trusted/detalle_cliente.csv\", header = True)\n",
        "df_poliza = spark.read.csv(\"s3://s3-pi-perfilamiento-20252/trusted/detalle_poliza.csv\", header = True)\n",
        "df_products = spark.read.csv(\"s3://s3-pi-perfilamiento-20252/trusted/detalle_producto.csv\", header = True)"
      ]
    },
    {
      "cell_type": "markdown",
      "metadata": {
        "id": "U3zfcWK6eL3_"
      },
      "source": [
        "**Variables a utilizar:**\n",
        "\n",
        "Cliente:\n",
        "1. codCliente\n",
        "2. Edad\n",
        "3. Tipo Empresa\n",
        "\n",
        "Poliza:\n",
        "1. codPoliza\n",
        "2. formaPagoVigencia\n",
        "3. valorTotal\n",
        "4. estado\n",
        "5. Vigencia\n",
        "\n",
        "Producto:\n",
        "1. codProducto\n",
        "2. nomRamo"
      ]
    },
    {
      "cell_type": "code",
      "execution_count": 83,
      "metadata": {
        "colab": {
          "base_uri": "https://localhost:8080/"
        },
        "id": "h3hDkAZHU8Qm",
        "outputId": "826f8596-1d50-4728-b277-e13e61a1f81c"
      },
      "outputs": [
        {
          "name": "stdout",
          "output_type": "stream",
          "text": [
            "+----------+----+------------+\n",
            "|codCliente|Edad|Tipo Empresa|\n",
            "+----------+----+------------+\n",
            "|    154978|  55|   P Natural|\n",
            "|    154980|  34|   P Natural|\n",
            "|    154985|   8|   P Natural|\n",
            "|    153109|  44|   P Natural|\n",
            "|    193347|  40|   P Natural|\n",
            "+----------+----+------------+\n",
            "only showing top 5 rows\n",
            "\n"
          ]
        }
      ],
      "source": [
        "df_clients = df_clients.select(\"codCliente\", \"Edad\", \"Tipo Empresa\").filter(df_clients[\"tomador\"] == \"Tiene poliza\").filter(df_clients[\"Edad\"] > 0)\n",
        "df_clients.show(5)"
      ]
    },
    {
      "cell_type": "code",
      "execution_count": 84,
      "metadata": {
        "colab": {
          "base_uri": "https://localhost:8080/"
        },
        "id": "3HqIZVOmUGfy",
        "outputId": "8ddd18a6-7366-47da-8490-6f38c3f1321f"
      },
      "outputs": [
        {
          "name": "stdout",
          "output_type": "stream",
          "text": [
            "+---------+-----------------+----------+-------+--------+----------+-----------+\n",
            "|codPoliza|formaPagoVigencia|valorTotal| estado|Vigencia|codCliente|codProducto|\n",
            "+---------+-----------------+----------+-------+--------+----------+-----------+\n",
            "|   199655|          Mensual|   7656000|Vigente|   Otros|    155010|       1145|\n",
            "|   199655|          Mensual|   6657000|Vigente|   Otros|    155010|       1145|\n",
            "|   200020|            Anual|   3420768|Vigente|   Otros|    128350|        641|\n",
            "|   199634|          Mensual|   1063116|Vigente|  Actual|    155021|        776|\n",
            "|   199631|            Anual|  44336381|Vigente|  Actual|    153722|        776|\n",
            "+---------+-----------------+----------+-------+--------+----------+-----------+\n",
            "only showing top 5 rows\n",
            "\n"
          ]
        }
      ],
      "source": [
        "df_poliza = df_poliza.select(\"codPoliza\", \"formaPagoVigencia\", \"valorTotal\", \"estado\", \"Vigencia\", \"codCliente\", \"codProducto\").filter(df_poliza[\"valorTotal\"] != 0)\n",
        "df_poliza.show(5)"
      ]
    },
    {
      "cell_type": "code",
      "execution_count": 85,
      "metadata": {
        "colab": {
          "base_uri": "https://localhost:8080/"
        },
        "id": "21zgddfaVlCi",
        "outputId": "d931c05e-ca0a-40d6-d55d-c761b684dcb6"
      },
      "outputs": [
        {
          "name": "stdout",
          "output_type": "stream",
          "text": [
            "+-----------+--------------------+\n",
            "|codProducto|             nomRamo|\n",
            "+-----------+--------------------+\n",
            "|         17|Plan Complementar...|\n",
            "|         20|Plan Complementar...|\n",
            "|         64|     Vida Individual|\n",
            "|         11|      Salud Familiar|\n",
            "|         83|             Masvida|\n",
            "+-----------+--------------------+\n",
            "only showing top 5 rows\n",
            "\n"
          ]
        }
      ],
      "source": [
        "df_products = df_products.select(\"codProducto\", \"nomRamo\")\n",
        "df_products.show(5)"
      ]
    },
    {
      "cell_type": "code",
      "execution_count": 86,
      "metadata": {
        "colab": {
          "base_uri": "https://localhost:8080/"
        },
        "id": "8wo0KSMbXxqV",
        "outputId": "c07a5767-23cd-43cf-daa1-d42d62a173e4"
      },
      "outputs": [
        {
          "name": "stdout",
          "output_type": "stream",
          "text": [
            "+-----------+----------+----+------------+---------+-----------------+----------+-------+--------+-------------------+\n",
            "|codProducto|codCliente|Edad|Tipo Empresa|codPoliza|formaPagoVigencia|valorTotal| estado|Vigencia|            nomRamo|\n",
            "+-----------+----------+----+------------+---------+-----------------+----------+-------+--------+-------------------+\n",
            "|         34|     75602|  43|   P Natural|    32239|            Anual|   4948480|Vigente|  Actual|Seguro de Educacion|\n",
            "|        601|     59722|  53|   P Natural|   188255|            Anual|    355500|Vigente|  Actual|               Soat|\n",
            "|         32|    163281|  47|   P Natural|   163627|            Anual|   3729847|Vigente|  Actual|            Masvida|\n",
            "|         32|    163281|  47|   P Natural|   163627|            Anual|   3222769|Vigente|Anterior|            Masvida|\n",
            "|        165|    208072|  37|   P Natural|   183652|            Anual|   1116800|Vigente|  Actual|               Soat|\n",
            "|        165|    208246|  72|   P Natural|   183620|            Anual|    646500|Vigente|Anterior|               Soat|\n",
            "|       1073|     59722|  53|   P Natural|   158392|            Anual|   3403371|Vigente|Anterior|        Automoviles|\n",
            "|       1073|     59722|  53|   P Natural|   158392|            Anual|   3207467|Vigente|  Actual|        Automoviles|\n",
            "|         32|     89669|  40|   P Natural|   173548|          Mensual|    451561|Vigente|  Actual|            Masvida|\n",
            "|         32|    220725|  31|   P Natural|   200044|          Mensual|    386348|Vigente|  Actual|            Masvida|\n",
            "|         32|     89555|  46|   P Natural|   209569|          Mensual|    305944|Vigente|  Actual|            Masvida|\n",
            "|         32|     72472|  47|   P Natural|    30079|          Mensual|    302918|Vigente|  Actual|            Masvida|\n",
            "|         32|    193486|  34|   P Natural|   174974|            Anual|     32425|Vigente|  Actual|            Masvida|\n",
            "|         32|    100553|  44|   P Natural|    64067|          Mensual|    483096|Vigente|  Actual|            Masvida|\n",
            "|         32|    100553|  44|   P Natural|   193850|          Mensual|    963155|Vigente|  Actual|            Masvida|\n",
            "|         32|     72472|  47|   P Natural|    30079|          Mensual|    270630|Vigente|Anterior|            Masvida|\n",
            "|         32|    193486|  34|   P Natural|   174974|            Anual|     30554|Vigente|Anterior|            Masvida|\n",
            "|         32|    100553|  44|   P Natural|    64067|          Mensual|    357931|Vigente|Anterior|            Masvida|\n",
            "|         32|    112261|  31|   P Natural|    98191|       Trimestral|     46044|Vigente|Anterior|            Masvida|\n",
            "|         14|    193685|  49|   P Natural|   176577|            Anual|    961478|Vigente|  Actual|  Seguro De Pension|\n",
            "+-----------+----------+----+------------+---------+-----------------+----------+-------+--------+-------------------+\n",
            "only showing top 20 rows\n",
            "\n"
          ]
        }
      ],
      "source": [
        "df_total = df_clients.join(df_poliza, \"codCliente\").join(df_products, \"codProducto\")\n",
        "df_total.show()"
      ]
    },
    {
      "cell_type": "code",
      "execution_count": 97,
      "metadata": {
        "id": "TdTev08lhtXw"
      },
      "outputs": [],
      "source": [
        "numeric_cols = [\"Edad\", \"valorTotal\"]\n",
        "categorical_cols = [\"Tipo Empresa\", \"formaPagoVigencia\", \"estado\", \"Vigencia\", \"nomRamo\"]\n",
        "\n",
        "df_total = df_total.withColumn(\"valorTotal\", F.col(\"valorTotal\").cast(\"float\"))\n",
        "df_total = df_total.withColumn(\"Edad\", F.col(\"Edad\").cast(\"int\"))\n",
        "\n",
        "# tratamiento variables categoricas\n",
        "indexers = [\n",
        "    StringIndexer(\n",
        "        inputCol=c,\n",
        "        outputCol=f\"{c}_idx\",\n",
        "        handleInvalid=\"keep\"        # unseen labels go to a special bucket\n",
        "    ).setStringOrderType(\"frequencyDesc\")  # stable ordering by frequency\n",
        "    for c in categorical_cols\n",
        "]\n",
        "\n",
        "encoders = [\n",
        "    OneHotEncoder(\n",
        "        inputCol=f\"{c}_idx\",\n",
        "        outputCol=f\"{c}_oh\"\n",
        "    )\n",
        "    for c in categorical_cols\n",
        "]\n",
        "\n",
        "# --- 4) Assemble features (numeric + one-hot) ---\n",
        "assembler = VectorAssembler(\n",
        "    inputCols=numeric_cols + [f\"{c}_oh\" for c in categorical_cols],\n",
        "    outputCol=\"features\"\n",
        ")\n",
        "\n",
        "# --- 5) Scale (good practice for KMeans) ---\n",
        "scaler = StandardScaler(\n",
        "    inputCol=\"features\",\n",
        "    outputCol=\"scaledFeatures\",\n",
        "    withMean=True,\n",
        "    withStd=True\n",
        ")\n",
        "\n",
        "# --- 6) Full pipeline (encoding + assemble + scale) ---\n",
        "pipeline = Pipeline(stages=indexers + encoders + [assembler, scaler])\n",
        "\n",
        "model_prep = pipeline.fit(df_total)\n",
        "df_transform = model_prep.transform(df_total)"
      ]
    },
    {
      "cell_type": "code",
      "execution_count": 98,
      "metadata": {
        "colab": {
          "base_uri": "https://localhost:8080/"
        },
        "id": "jdVoWxRSmTNv",
        "outputId": "c3ad4ca2-70cd-4987-900d-408131712307"
      },
      "outputs": [
        {
          "name": "stdout",
          "output_type": "stream",
          "text": [
            "+-----------+----------+----+------------+---------+-----------------+----------+-------+--------+-------------------+----------------+---------------------+----------+------------+-----------+---------------+--------------------+-------------+-------------+---------------+--------------------+--------------------+\n",
            "|codProducto|codCliente|Edad|Tipo Empresa|codPoliza|formaPagoVigencia|valorTotal| estado|Vigencia|            nomRamo|Tipo Empresa_idx|formaPagoVigencia_idx|estado_idx|Vigencia_idx|nomRamo_idx|Tipo Empresa_oh|formaPagoVigencia_oh|    estado_oh|  Vigencia_oh|     nomRamo_oh|            features|      scaledFeatures|\n",
            "+-----------+----------+----+------------+---------+-----------------+----------+-------+--------+-------------------+----------------+---------------------+----------+------------+-----------+---------------+--------------------+-------------+-------------+---------------+--------------------+--------------------+\n",
            "|         34|     75602|  43|   P Natural|    32239|            Anual| 4948480.0|Vigente|  Actual|Seguro de Educacion|             0.0|                  1.0|       0.0|         0.0|       18.0|  (2,[0],[1.0])|       (7,[1],[1.0])|(3,[0],[1.0])|(3,[0],[1.0])|(87,[18],[1.0])|(104,[0,1,2,5,11,...|[-0.1977088379796...|\n",
            "|        601|     59722|  53|   P Natural|   188255|            Anual|  355500.0|Vigente|  Actual|               Soat|             0.0|                  1.0|       0.0|         0.0|       13.0|  (2,[0],[1.0])|       (7,[1],[1.0])|(3,[0],[1.0])|(3,[0],[1.0])|(87,[13],[1.0])|(104,[0,1,2,5,11,...|[0.54367867247145...|\n",
            "|         32|    163281|  47|   P Natural|   163627|            Anual| 3729847.0|Vigente|  Actual|            Masvida|             0.0|                  1.0|       0.0|         0.0|       11.0|  (2,[0],[1.0])|       (7,[1],[1.0])|(3,[0],[1.0])|(3,[0],[1.0])|(87,[11],[1.0])|(104,[0,1,2,5,11,...|[0.09884616620079...|\n",
            "|         32|    163281|  47|   P Natural|   163627|            Anual| 3222769.0|Vigente|Anterior|            Masvida|             0.0|                  1.0|       0.0|         1.0|       11.0|  (2,[0],[1.0])|       (7,[1],[1.0])|(3,[0],[1.0])|(3,[1],[1.0])|(87,[11],[1.0])|(104,[0,1,2,5,11,...|[0.09884616620079...|\n",
            "|        165|    208072|  37|   P Natural|   183652|            Anual| 1116800.0|Vigente|  Actual|               Soat|             0.0|                  1.0|       0.0|         0.0|       13.0|  (2,[0],[1.0])|       (7,[1],[1.0])|(3,[0],[1.0])|(3,[0],[1.0])|(87,[13],[1.0])|(104,[0,1,2,5,11,...|[-0.6425413442503...|\n",
            "+-----------+----------+----+------------+---------+-----------------+----------+-------+--------+-------------------+----------------+---------------------+----------+------------+-----------+---------------+--------------------+-------------+-------------+---------------+--------------------+--------------------+\n",
            "only showing top 5 rows\n",
            "\n"
          ]
        }
      ],
      "source": [
        "df_transform.show(5)"
      ]
    },
    {
      "cell_type": "code",
      "execution_count": null,
      "metadata": {
        "id": "bYtU_J4GY2-b"
      },
      "outputs": [],
      "source": [
        "# Escribir datos del modelo en S3\n",
        "df_total.write.mode(\"overwrite\").parquet(\"s3://s3-pi-perfilamiento-20252/refined/ml_data\")"
      ]
    },
    {
      "cell_type": "markdown",
      "metadata": {
        "id": "mFkc77craPGI"
      },
      "source": [
        "## 3. Modelo"
      ]
    },
    {
      "cell_type": "code",
      "execution_count": 101,
      "metadata": {
        "colab": {
          "base_uri": "https://localhost:8080/"
        },
        "id": "PaihKULVbBa8",
        "outputId": "4321962d-799e-4880-d9da-9a8187d289e4"
      },
      "outputs": [
        {
          "name": "stdout",
          "output_type": "stream",
          "text": [
            "+----------+----------+\n",
            "|codCliente|prediction|\n",
            "+----------+----------+\n",
            "|75602     |87        |\n",
            "|59722     |71        |\n",
            "|163281    |59        |\n",
            "|163281    |59        |\n",
            "|208072    |71        |\n",
            "|208246    |71        |\n",
            "|59722     |17        |\n",
            "|59722     |17        |\n",
            "|89669     |59        |\n",
            "|220725    |59        |\n",
            "|89555     |59        |\n",
            "|72472     |59        |\n",
            "|193486    |59        |\n",
            "|100553    |59        |\n",
            "|100553    |59        |\n",
            "|72472     |59        |\n",
            "|193486    |59        |\n",
            "|100553    |59        |\n",
            "|112261    |59        |\n",
            "|193685    |87        |\n",
            "+----------+----------+\n",
            "only showing top 20 rows\n",
            "\n"
          ]
        }
      ],
      "source": [
        "k = 100  # choose your k\n",
        "kmeans = KMeans(featuresCol=\"scaledFeatures\", predictionCol=\"prediction\", k=k, seed=42)\n",
        "kmeans_model = kmeans.fit(df_transform)\n",
        "df_clusters = kmeans_model.transform(df_transform)\n",
        "\n",
        "df_clusters.select(\"codCliente\", \"prediction\").show(20, truncate=False)"
      ]
    },
    {
      "cell_type": "code",
      "execution_count": 102,
      "metadata": {
        "colab": {
          "base_uri": "https://localhost:8080/"
        },
        "id": "5DrfvEqmUths",
        "outputId": "2f80b8be-f2fe-4932-c8aa-f4c09283d6e4"
      },
      "outputs": [
        {
          "name": "stdout",
          "output_type": "stream",
          "text": [
            "Silhouette score = 0.3187\n"
          ]
        }
      ],
      "source": [
        "evaluator = ClusteringEvaluator(\n",
        "    featuresCol=\"scaledFeatures\",      # must match your feature column name\n",
        "    predictionCol=\"prediction\",        # cluster assignment column\n",
        "    metricName=\"silhouette\",           # metric to compute\n",
        "    distanceMeasure=\"squaredEuclidean\" # or \"cosine\"\n",
        ")\n",
        "\n",
        "silhouette = evaluator.evaluate(df_clusters)\n",
        "print(f\"Silhouette score = {silhouette:.4f}\")"
      ]
    },
    {
      "cell_type": "code",
      "execution_count": null,
      "metadata": {
        "id": "z1znkNn9a5nc"
      },
      "outputs": [],
      "source": []
    }
  ],
  "metadata": {
    "colab": {
      "provenance": []
    },
    "kernelspec": {
      "display_name": "Python 3",
      "name": "python3"
    },
    "language_info": {
      "name": "python"
    }
  },
  "nbformat": 4,
  "nbformat_minor": 0
}
